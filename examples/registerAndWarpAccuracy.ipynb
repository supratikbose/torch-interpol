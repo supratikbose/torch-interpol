{
 "cells": [
  {
   "cell_type": "code",
   "execution_count": 1,
   "metadata": {},
   "outputs": [],
   "source": [
    "import argparse\n",
    "from argparse import Namespace\n",
    "\n",
    "import os.path\n",
    "\n",
    "import numpy as np\n",
    "import argparse\n",
    "import nibabel as nib\n",
    "\n",
    "from scipy import signal\n",
    "from torchmetrics import MeanSquaredError\n",
    "from viu.io import volume\n",
    "from viu.torch.deformation.fields import DVF\n",
    "from viu.torch.math import torch_affine_to_vol_mat\n",
    "from viu.util.body_mask import seg_body\n",
    "\n",
    "from pamomo.registration.deformable import reg\n",
    "import torch\n",
    "import torch.nn.functional as tt\n",
    "\n",
    "from exampleUtils import *"
   ]
  },
  {
   "cell_type": "code",
   "execution_count": 2,
   "metadata": {},
   "outputs": [
    {
     "name": "stdout",
     "output_type": "stream",
     "text": [
      "Namespace(src='/home/wd974888/Downloads/workingFolder/DeformationExperiment/readFormat/Patient0119826_movingScan_14.nii.gz', dst='/home/wd974888/Downloads/workingFolder/DeformationExperiment/readFormat/Patient0119826_fixedScan_22.nii.gz', body_seg=True, air_threshold=-300, alpha=50, verboseMode=False, maxNumberOfIterations=100, numLevels=3, saveMovedAsNIIFlag=True)\n"
     ]
    }
   ],
   "source": [
    "args = Namespace(\\\n",
    "    src=f'/home/wd974888/Downloads/workingFolder/DeformationExperiment/readFormat/Patient0119826_movingScan_14.nii.gz',\\\n",
    "    dst=f'/home/wd974888/Downloads/workingFolder/DeformationExperiment/readFormat/Patient0119826_fixedScan_22.nii.gz',\\\n",
    "    body_seg=True,\\\n",
    "    air_threshold=-300,\\\n",
    "    alpha=50,\\\n",
    "    verboseMode=False,\\\n",
    "    maxNumberOfIterations=100,\\\n",
    "    numLevels=3,\\\n",
    "    saveMovedAsNIIFlag=True)\n",
    "print(args)"
   ]
  },
  {
   "cell_type": "code",
   "execution_count": 3,
   "metadata": {},
   "outputs": [],
   "source": [
    "doHUScaling=True #Select this based on whether using 5DCT data or not.\n",
    "makeUINT16ForDefReg=True\n",
    "hu_offset=-1000 \n",
    "hu_max=400\n",
    "def huScaleVol(vol,hu_offset, hu_max, makeUINT16ForDefReg):\n",
    "    scanVol = vol.astype('float32')\n",
    "    scanVol_min, scanVol_max = np.min(scanVol), np.max(scanVol)\n",
    "    #First scale volume to 0-1 (if not already)\n",
    "    vol_data_ZYX, volMin, volMax = scanVol, scanVol_min, scanVol_max\n",
    "    volScaled_data_ZYX = (vol_data_ZYX - volMin) / (volMax - volMin)\n",
    "    #Then scale to hu_min to hu_max\n",
    "    hu_min=hu_offset\n",
    "    vol_ZYX_HU = hu_min + volScaled_data_ZYX * (hu_max -hu_min)\n",
    "    scanVol, scanVol_min, scanVol_max = vol_ZYX_HU, np.min(vol_ZYX_HU), np.max(vol_ZYX_HU)\n",
    "\n",
    "    if True==makeUINT16ForDefReg:\n",
    "        if scanVol_min < 0:\n",
    "            scanVol = (vol_ZYX_HU-scanVol_min).astype('uint16') \n",
    "            scanVol_min, scanVol_max = np.min(scanVol), np.max(scanVol)\n",
    "\n",
    "    return scanVol, scanVol_min, scanVol_max"
   ]
  },
  {
   "cell_type": "code",
   "execution_count": 4,
   "metadata": {},
   "outputs": [
    {
     "name": "stdout",
     "output_type": "stream",
     "text": [
      "src_vol dtype float64, min Val 0.0 max Val 1.0 shape ZYX (256, 256, 256), res XYZ [2. 2. 2.], pos XYZ [-249.5 -544.5 -971. ]\n",
      "dst_vol dtype float64, min Val 0.0 max Val 1.0 shape ZYX (256, 256, 256), res XYZ [2. 2. 2.], pos XYZ [-249.5 -544.5 -971. ]\n"
     ]
    }
   ],
   "source": [
    "#registrationCommand(args)\n",
    "dst_path = os.path.dirname(args.dst)\n",
    "\n",
    "src_vol: np.ndarray\n",
    "if args.src.endswith('.nii.gz') and args.dst.endswith('.nii.gz'):\n",
    "    src_vol, src_res, src_pos = ImportFromNII(args.src)\n",
    "    dst_vol, dst_res, dst_pos = ImportFromNII(args.dst)\n",
    "else:\n",
    "    src_vol, src_res, src_pos = volume.read_volume(args.src)\n",
    "    dst_vol, dst_res, dst_pos = volume.read_volume(args.dst)\n",
    "\n",
    "print(f'src_vol dtype {src_vol.dtype}, min Val {np.min(src_vol)} max Val {np.max(src_vol)} shape ZYX {src_vol.shape}, res XYZ {src_res}, pos XYZ {src_pos}')\n",
    "# src_vol dtype float64,  shape ZYX (590, 512, 512), res XYZ [0.9765625 0.9765625 1.       ], pos XYZ [-249.50999451 -469.51000977 -352.3999939 ]\n",
    "print(f'dst_vol dtype {dst_vol.dtype}, min Val {np.min(src_vol)} max Val {np.max(src_vol)} shape ZYX {dst_vol.shape}, res XYZ {dst_res}, pos XYZ {dst_pos}')\n",
    "# dst_vol dtype float64,  shape ZYX (590, 512, 512), res XYZ [0.9765625 0.9765625 1.       ], pos XYZ [-249.50999451 -469.51000977 -352.3999939 ]"
   ]
  },
  {
   "cell_type": "code",
   "execution_count": 5,
   "metadata": {},
   "outputs": [
    {
     "name": "stdout",
     "output_type": "stream",
     "text": [
      "src_vol dtype uint16, min Val 0 = 0  max Val 1400 = 1400\n",
      "dst_vol dtype uint16, min Val 0 = 0  max Val 1400 = 1400\n"
     ]
    }
   ],
   "source": [
    "if True==doHUScaling:\n",
    "    src_vol, src_vol_min, src_vol_max =huScaleVol(src_vol, hu_offset, hu_max, makeUINT16ForDefReg)\n",
    "    print(f'src_vol dtype {src_vol.dtype}, min Val {np.min(src_vol)} = {src_vol_min}  max Val {np.max(src_vol)} = {src_vol_max}')\n",
    "    dst_vol, dst_vol_min, dst_vol_max =huScaleVol(dst_vol, hu_offset, hu_max, makeUINT16ForDefReg)\n",
    "    print(f'dst_vol dtype {dst_vol.dtype}, min Val {np.min(dst_vol)} = {dst_vol_min}  max Val {np.max(dst_vol)} = {dst_vol_max}')"
   ]
  },
  {
   "cell_type": "code",
   "execution_count": 6,
   "metadata": {},
   "outputs": [
    {
     "name": "stdout",
     "output_type": "stream",
     "text": [
      "B4 DVFify dvf type <class 'numpy.ndarray'>  dtype float32,  shape ZYX (256, 256, 256, 3)\n",
      "B4 tensorify dvf_res dtype float64,  shape (3,), value XYZ  [2. 2. 2.]\n",
      "B4 tensorify dvf_pos dtype float64,  shape (3,), value XYZ  [0. 0. 0.]\n"
     ]
    }
   ],
   "source": [
    "runFreshRegistration=False\n",
    "cachedPath = os.path.join(dst_path, f'Patient0119826_cachedDVF.npz')\n",
    "if True==runFreshRegistration:\n",
    "\n",
    "    additional_args = {}\n",
    "    if args.body_seg:\n",
    "        print('Find connected components...')\n",
    "        #Find connected components...\n",
    "        msk = seg_body(dst_vol, air_threshold=args.air_threshold)\n",
    "        additional_args.update({'dst_seg': {'SM_bodymask': msk}, 'similarityMaskMultilevelStrategy': 'STRICTINTERIOR'})\n",
    "\n",
    "    print('Start registration...')\n",
    "    vol_min = -1200\n",
    "    dvf, dvf_res, dvf_pos = reg(src_vol.clip(min=vol_min), src_res,\n",
    "                                dst_vol.clip(min=vol_min), dst_res,\n",
    "                                alpha=args.alpha,#alpha=20,\n",
    "                                numLevels=args.numLevels,\n",
    "                                finestLevelReference=0,\n",
    "                                finestLevelTemplate=0,\n",
    "                                maxNumberOfIterations=args.maxNumberOfIterations,\n",
    "                                **additional_args) #verboseMode=args.verboseMode, **additional_args #verboseMode='true', **additional_args\n",
    "    np.savez_compressed(cachedPath, dvf, dvf_res, dvf_pos)\n",
    "    # Start registration...\n",
    "\n",
    "    # This is the Fraunhofer MEVIS cuda registration library. Version: VarianDeformableRegistrationDLLCUDA -- v1.6.2, built Dec 11 2023, 20:49:53\n",
    "    # numSourceSegments <= 0. Running without mask alignment. Continuing.\n",
    "    # Started registration...\n",
    "    # Optimization on level 1 / 3 needs: 3.39014 s\n",
    "    # Optimization on level 2 / 3 needs: 8.03293 s\n",
    "    # Optimization on level 3 / 3 needs: 84.1789 s\n",
    "    # Finished multilevel registration.\n",
    "    # Total runtime: 103.207s.\n",
    "    # Done.\n",
    "else:\n",
    "    cachedDVF = np.load(cachedPath)\n",
    "    dvf, dvf_res, dvf_pos = cachedDVF['arr_0'], cachedDVF['arr_1'], cachedDVF['arr_2']\n",
    "\n",
    "print(f'B4 DVFify dvf type {type(dvf)}  dtype {dvf.dtype},  shape ZYX {dvf.shape}')\n",
    "# B4 DVFify dvf type <class 'numpy.ndarray'>  dtype float32,  shape ZYX (295, 256, 256, 3)\n",
    "print(f'B4 tensorify dvf_res dtype {dvf_res.dtype},  shape {dvf_res.shape}, value XYZ  {dvf_res}')\n",
    "# B4 tensorify dvf_res dtype float64,  shape (3,), value XYZ  [1.95695466 1.95695466 2.00340136]\n",
    "print(f'B4 tensorify dvf_pos dtype {dvf_pos.dtype},  shape {dvf_pos.shape}, value XYZ  {dvf_pos}')\n",
    "# B4 tensorify dvf_pos dtype float64,  shape (3,), value XYZ  [0. 0. 0.]"
   ]
  },
  {
   "cell_type": "code",
   "execution_count": 7,
   "metadata": {},
   "outputs": [
    {
     "name": "stdout",
     "output_type": "stream",
     "text": [
      "After tensorify dvf_res dtype torch.float64,  shape torch.Size([3]), value XYZ  tensor([2., 2., 2.], dtype=torch.float64)\n",
      "After tensorify dvf_pos dtype torch.float64,  shape torch.Size([3]), value XYZ  tensor([0., 0., 0.], dtype=torch.float64)\n",
      "dst_dim in XYZ dtype torch.int64,  shape torch.Size([3]), value XYZ  tensor([256, 256, 256])\n",
      "dst_res in XYZ dtype torch.float64,  shape torch.Size([3]), value XYZ  tensor([2., 2., 2.], dtype=torch.float64)\n"
     ]
    }
   ],
   "source": [
    "dvf_res = torch.tensor(dvf_res, dtype=torch.float64)\n",
    "print(f'After tensorify dvf_res dtype {dvf_res.dtype},  shape {dvf_res.shape}, value XYZ  {dvf_res}')\n",
    "dvf_pos = torch.tensor(dvf_pos, dtype=torch.float64)\n",
    "print(f'After tensorify dvf_pos dtype {dvf_pos.dtype},  shape {dvf_pos.shape}, value XYZ  {dvf_pos}')\n",
    "\n",
    "dst_dim = torch.tensor(dst_vol.shape[::-1]) #From ZYX to XYZ\n",
    "print(f'dst_dim in XYZ dtype {dst_dim.dtype},  shape {dst_dim.shape}, value XYZ  {dst_dim}')\n",
    "dst_res = torch.tensor(dst_res, dtype=torch.float64)\n",
    "print(f'dst_res in XYZ dtype {dst_res.dtype},  shape {dst_res.shape}, value XYZ  {dst_res}')"
   ]
  },
  {
   "cell_type": "code",
   "execution_count": 8,
   "metadata": {},
   "outputs": [
    {
     "name": "stdout",
     "output_type": "stream",
     "text": [
      "src_vol_tensor shape: torch.Size([1, 1, 256, 256, 256]) device: cpu dtype: torch.float32\n"
     ]
    }
   ],
   "source": [
    "#volume tensor with batch and channel\n",
    "src_vol_tensor = torch.from_numpy(src_vol.astype('float32')).unsqueeze(0).unsqueeze(0)\n",
    "printTensor(\"src_vol_tensor\", src_vol_tensor)"
   ]
  },
  {
   "cell_type": "code",
   "execution_count": 9,
   "metadata": {},
   "outputs": [
    {
     "name": "stdout",
     "output_type": "stream",
     "text": [
      "batched_dvf DVF object   dtype torch.float32,  shape ZYX3 torch.Size([1, 256, 256, 256, 3])\n"
     ]
    }
   ],
   "source": [
    "#Create batched DVF object\n",
    "# dvf = DVF(dvf).from_millimeter(dvf_res).to(torch.float32)\n",
    "# Above line gives error: DVFs can be formed only of tensors of shape (B,H,W,2) or (B,D,H,W,3). Provided shape: torch.Size([295, 256, 256, 3]).\n",
    "batched_dvf = DVF(dvf[None,...]).from_millimeter(dvf_res).to(torch.float32)\n",
    "print(f'batched_dvf DVF object   dtype {batched_dvf.dtype},  shape ZYX3 {batched_dvf.shape}')"
   ]
  },
  {
   "cell_type": "code",
   "execution_count": 10,
   "metadata": {},
   "outputs": [
    {
     "name": "stdout",
     "output_type": "stream",
     "text": [
      "warped_vol_F_noPreFilter  object   dtype float32,  shape ZYX3 (256, 256, 256)\n"
     ]
    },
    {
     "data": {
      "application/vnd.jupyter.widget-view+json": {
       "model_id": "504ddbb1ae2a401593bc9da587251244",
       "version_major": 2,
       "version_minor": 0
      },
      "text/plain": [
       "interactive(children=(Output(),), _dom_classes=('widget-interact',))"
      ]
     },
     "metadata": {},
     "output_type": "display_data"
    },
    {
     "data": {
      "application/vnd.jupyter.widget-view+json": {
       "model_id": "3f58aa9f85454205ae850c28590ede66",
       "version_major": 2,
       "version_minor": 0
      },
      "text/plain": [
       "interactive(children=(Output(),), _dom_classes=('widget-interact',))"
      ]
     },
     "metadata": {},
     "output_type": "display_data"
    },
    {
     "data": {
      "text/plain": [
       "<exampleUtils.v1_volumeComparisonViewer3D at 0x7f614bec5970>"
      ]
     },
     "execution_count": 10,
     "metadata": {},
     "output_type": "execute_result"
    }
   ],
   "source": [
    "#_call_ method => pull warping, no prefilter\n",
    "# warped_vol_F_noPreFilter = batched_dvf1(vol_tensor).squeeze(0).squeeze(0).numpy()\n",
    "#Instead of call method use explicit sample method\n",
    "# warped_vol_F_noPreFilter = batched_dvf1.sample(vol_tensor, mode=\"bilinear\", padding_mode=\"zeros\", warpingModeString=\"pull\",prefilter=False).squeeze(0).squeeze(0).numpy()\n",
    "warped_vol_F_noPreFilter = batched_dvf.sample(src_vol_tensor, mode=\"bilinear\", padding_mode=\"zeros\", warpingModeString=\"pull\",prefilter=False).squeeze(0).squeeze(0).numpy()\n",
    "print(f'warped_vol_F_noPreFilter  object   dtype {warped_vol_F_noPreFilter.dtype},  shape ZYX3 {warped_vol_F_noPreFilter.shape}')\n",
    "\n",
    "# #Display\n",
    "v1_volumeComparisonViewer3D(\n",
    "    listVolumes=[src_vol, dst_vol, warped_vol_F_noPreFilter],listLabels=['src', 'dst', 'warped_vol_F_noPreFilter'],\n",
    "    maxZ0=src_vol.shape[0], maxZ1=src_vol.shape[1], maxZ2=src_vol.shape[2],\n",
    "    figsize=(12,8), cmap='gray',\n",
    "    displayColorbar=False, useExternalWindowCenter=True, wMin=0, wMax=1400)\n",
    "\n",
    "v1_volumeComparisonViewer3D(\n",
    "    listVolumes=[src_vol-dst_vol, warped_vol_F_noPreFilter-dst_vol],listLabels=['F-M', 'M*_NoPreFilter-M'],\n",
    "    maxZ0=src_vol.shape[0], maxZ1=src_vol.shape[1], maxZ2=src_vol.shape[2],\n",
    "    figsize=(12,8), cmap='coolwarm',\n",
    "    displayColorbar=False, useExternalWindowCenter=True, wMin=-100, wMax=100)"
   ]
  },
  {
   "cell_type": "code",
   "execution_count": 11,
   "metadata": {},
   "outputs": [
    {
     "name": "stderr",
     "output_type": "stream",
     "text": [
      "/opt/conda/envs/clone2MMIPython/lib/python3.9/site-packages/interpol/autograd.py:287: UserWarning: operator() sees varying value in profiling, ignoring and this should be handled by GUARD logic (Triggered internally at /opt/conda/conda-bld/pytorch_1682343997789/work/third_party/nvfuser/csrc/parser.cpp:3820.)\n",
      "  output = spline_coeff_nd(input, *opt)\n"
     ]
    },
    {
     "name": "stdout",
     "output_type": "stream",
     "text": [
      "warped_vol_interpol_preFilter  object   dtype float32,  shape ZYX3 (256, 256, 256)\n"
     ]
    },
    {
     "data": {
      "application/vnd.jupyter.widget-view+json": {
       "model_id": "6f48afd17f7f43f5bbd0c7206b60acfe",
       "version_major": 2,
       "version_minor": 0
      },
      "text/plain": [
       "interactive(children=(Output(),), _dom_classes=('widget-interact',))"
      ]
     },
     "metadata": {},
     "output_type": "display_data"
    },
    {
     "data": {
      "application/vnd.jupyter.widget-view+json": {
       "model_id": "a4b583d852db430db330a8d29c3e40d4",
       "version_major": 2,
       "version_minor": 0
      },
      "text/plain": [
       "interactive(children=(Output(),), _dom_classes=('widget-interact',))"
      ]
     },
     "metadata": {},
     "output_type": "display_data"
    },
    {
     "data": {
      "text/plain": [
       "<exampleUtils.v1_volumeComparisonViewer3D at 0x7f628c723760>"
      ]
     },
     "execution_count": 11,
     "metadata": {},
     "output_type": "execute_result"
    }
   ],
   "source": [
    "#_call_ method => pull warping, with  prefilter <- interpol behaviour\n",
    "# Instead of call method use explicit sample method\n",
    "warped_vol_interpol_preFilter = batched_dvf.sample(src_vol_tensor, mode=\"cubic\", padding_mode=\"zeros\", warpingModeString=\"pull\",prefilter=True).squeeze(0).squeeze(0).numpy()\n",
    "print(f'warped_vol_interpol_preFilter  object   dtype {warped_vol_interpol_preFilter.dtype},  shape ZYX3 {warped_vol_interpol_preFilter.shape}')\n",
    "\n",
    "#Display\n",
    "v1_volumeComparisonViewer3D(\n",
    "    listVolumes=[src_vol, dst_vol, warped_vol_interpol_preFilter],listLabels=['src', 'dst', 'warped_vol_interpol_preFilter'],\n",
    "    maxZ0=src_vol.shape[0], maxZ1=src_vol.shape[1], maxZ2=src_vol.shape[2],\n",
    "    figsize=(12,8), cmap='gray',\n",
    "    displayColorbar=False, useExternalWindowCenter=True, wMin=0, wMax=1400)\n",
    "\n",
    "v1_volumeComparisonViewer3D(\n",
    "    listVolumes=[src_vol-dst_vol, warped_vol_interpol_preFilter-dst_vol],listLabels=['F-M', 'M*_PreFilter-M'],\n",
    "    maxZ0=src_vol.shape[0], maxZ1=src_vol.shape[1], maxZ2=src_vol.shape[2],\n",
    "    figsize=(12,8), cmap='coolwarm',\n",
    "    displayColorbar=False, useExternalWindowCenter=True, wMin=-100, wMax=100)"
   ]
  },
  {
   "cell_type": "code",
   "execution_count": 12,
   "metadata": {},
   "outputs": [
    {
     "data": {
      "application/vnd.jupyter.widget-view+json": {
       "model_id": "f1749d853ebb42259f59cdf17db34b26",
       "version_major": 2,
       "version_minor": 0
      },
      "text/plain": [
       "interactive(children=(Output(),), _dom_classes=('widget-interact',))"
      ]
     },
     "metadata": {},
     "output_type": "display_data"
    },
    {
     "data": {
      "text/plain": [
       "<exampleUtils.v1_volumeComparisonViewer3D at 0x7f628d7b5a90>"
      ]
     },
     "execution_count": 12,
     "metadata": {},
     "output_type": "execute_result"
    }
   ],
   "source": [
    "#Display the difference between torch-functional output and torch-interpol output\n",
    "v1_volumeComparisonViewer3D(\n",
    "    listVolumes=[warped_vol_interpol_preFilter - warped_vol_F_noPreFilter],listLabels=['M*_PreFilter - M*_NoPreFilter'],\n",
    "    maxZ0=src_vol.shape[0], maxZ1=src_vol.shape[1], maxZ2=src_vol.shape[2],\n",
    "    figsize=(12,8), cmap='coolwarm',\n",
    "    displayColorbar=False, useExternalWindowCenter=True, wMin=-50, wMax=50)"
   ]
  },
  {
   "cell_type": "markdown",
   "metadata": {},
   "source": [
    "##### Reproduce prevention of smoothing during interpol based warping"
   ]
  },
  {
   "cell_type": "code",
   "execution_count": 13,
   "metadata": {},
   "outputs": [
    {
     "name": "stdout",
     "output_type": "stream",
     "text": [
      "dcmFolder /home/wd974888/Downloads/workingFolder/DeformationExperiment/readFormat/Patient04PB_bin_01\n",
      "vol type <class 'numpy.ndarray'> shape (210, 512, 512) min -1364.0 max 1915.0 \n",
      "res type <class 'numpy.ndarray'> value [0.9765625 0.9765625 1.       ] \n",
      "pos type <class 'numpy.ndarray'> value [ 1.71875000e-03 -2.18498281e+02 -1.96400000e+02]\n",
      "vol type <class 'numpy.ndarray'> shape (210, 512, 512)\n",
      "pos type <class 'numpy.ndarray'> value [ 1.71875000e-03 -2.18498281e+02 -1.96400000e+02]\n"
     ]
    }
   ],
   "source": [
    "# experimentFolder = pathlib.Path('/mnt/data/supratik/diaphragm_detection/data/')\n",
    "experimentFolder = pathlib.Path('/home/wd974888/Downloads/workingFolder/DeformationExperiment/readFormat/')\n",
    "patientMRN='Patient04PB_bin_01'\n",
    "dcmFolder = experimentFolder / patientMRN\n",
    "vol, res, pos = read_volume(str(dcmFolder))\n",
    "print(f'dcmFolder {dcmFolder}')\n",
    "print(f'vol type {(type(vol))} shape {vol.shape} min {np.min(vol)} max {np.max(vol)} ')\n",
    "print(f'res type {type(res)} value {res} ')\n",
    "print(f'pos type {type(pos)} value {pos}')\n",
    "toy_depth, toy_height, toy_width = vol.shape[0], vol.shape[1], vol.shape[2]\n",
    "#Make the dimensions unequal\n",
    "org_width = toy_width\n",
    "# toy_width = 8*toy_width//10\n",
    "# print(f'toy_depth {toy_depth}, toy_height {toy_height}, toy_width {toy_width}, org_width {org_width}')\n",
    "vol = vol[:,:,:toy_width]\n",
    "print(f'vol type {(type(vol))} shape {vol.shape}')\n",
    "#With truncation in X direction, the pos matching the center of the volume in patient co-ordinate also shifts\n",
    "old_pos_X = pos[0]\n",
    "res_X = res[0]\n",
    "new_pos_X = old_pos_X - 0.5*(org_width - toy_width)*res_X\n",
    "pos[0] = new_pos_X\n",
    "print(f'pos type {type(pos)} value {pos}')\n"
   ]
  },
  {
   "cell_type": "code",
   "execution_count": 14,
   "metadata": {},
   "outputs": [
    {
     "data": {
      "application/vnd.jupyter.widget-view+json": {
       "model_id": "de62c4d728424f0ca7a366a23ecbed66",
       "version_major": 2,
       "version_minor": 0
      },
      "text/plain": [
       "interactive(children=(Output(),), _dom_classes=('widget-interact',))"
      ]
     },
     "metadata": {},
     "output_type": "display_data"
    },
    {
     "data": {
      "text/plain": [
       "<exampleUtils.v1_volumeComparisonViewer3D at 0x7f61443d14c0>"
      ]
     },
     "execution_count": 14,
     "metadata": {},
     "output_type": "execute_result"
    }
   ],
   "source": [
    "v1_volumeComparisonViewer3D(\n",
    "    listVolumes=[vol],listLabels=['original'],\n",
    "    maxZ0=vol.shape[0], maxZ1=vol.shape[1], maxZ2=vol.shape[2],\n",
    "    figsize=(12,8), cmap='gray',\n",
    "    displayColorbar=False, useExternalWindowCenter=True, wMin=-500, wMax=500, useAspectCol=False)"
   ]
  },
  {
   "cell_type": "code",
   "execution_count": 15,
   "metadata": {},
   "outputs": [],
   "source": [
    "device=torch.device('cuda:0')\n",
    "batchSize=1"
   ]
  },
  {
   "cell_type": "code",
   "execution_count": 16,
   "metadata": {},
   "outputs": [
    {
     "name": "stdout",
     "output_type": "stream",
     "text": [
      "vol_tensor shape: torch.Size([1, 1, 210, 512, 512]) device: cuda:0 dtype: torch.float32\n"
     ]
    }
   ],
   "source": [
    "#volume tensor with batch and channel\n",
    "vol_tensor = torch.from_numpy(vol).to(device).unsqueeze(0).unsqueeze(0)\n",
    "printTensor(\"vol_tensor\", vol_tensor)"
   ]
  },
  {
   "cell_type": "code",
   "execution_count": 17,
   "metadata": {},
   "outputs": [
    {
     "name": "stdout",
     "output_type": "stream",
     "text": [
      "pushAffine_np [[  1.          0.          0.          0.       ]\n",
      " [  0.          0.8660254   0.5       -93.702515 ]\n",
      " [  0.         -0.5         0.8660254 162.2975   ]\n",
      " [  0.          0.          0.          1.       ]]\n",
      "pullAffine_np [[  1.          0.          0.          0.       ]\n",
      " [  0.          0.8660254  -0.5       162.29752  ]\n",
      " [  0.          0.5         0.8660254 -93.7025   ]\n",
      " [  0.          0.          0.          1.       ]]\n"
     ]
    }
   ],
   "source": [
    "# Rotation around Dicom Z axis : As viewed into Axial plane    from origin toward +Z axis (towards H(Head)), with A (Anterior) on top of the view, pass clockwise rotation is positive\n",
    "# Rotation around Dicom Y axis : As viewed into Coronal plane  from origin toward +Y axis (towards P(Posterior)), with H (Head) on top of the view, pass clockwise rotation is positive\n",
    "# Rotation around Dicom X axis : As viewed  (lying down horizontally) into Sagittal plane from +X toward origin (towards R(Right)) with H (Head) on top of the view, pass clockwise rotation is positive\n",
    "theta_deg = 30.00 #Rotate image  counter clockwise by 10 degree\n",
    "viewString='axial'\n",
    "pushAffine_np = getPushRotationMatrix(\n",
    "    theta_deg=theta_deg,\n",
    "    viewString=viewString,\n",
    "    center_slice_z=toy_depth/2.0,\n",
    "    center_row_y=toy_height/2.0,\n",
    "    center_col_x=toy_width/2.0)\n",
    "print(f'pushAffine_np {pushAffine_np}')\n",
    "pullAffine_np = np.linalg.inv(pushAffine_np)\n",
    "print(f'pullAffine_np {pullAffine_np}')"
   ]
  },
  {
   "cell_type": "code",
   "execution_count": 18,
   "metadata": {},
   "outputs": [
    {
     "name": "stdout",
     "output_type": "stream",
     "text": [
      "pyTorchPullAffineMat3x4 shape: torch.Size([3, 4]) device: cuda:0 dtype: torch.float32\n",
      "pyTorchPullAffineMat3x4 tensor([[ 8.6603e-01,  5.0000e-01,  0.0000e+00, -5.9605e-08],\n",
      "        [-5.0000e-01,  8.6603e-01,  0.0000e+00,  5.9605e-08],\n",
      "        [ 0.0000e+00,  0.0000e+00,  1.0000e+00,  0.0000e+00]], device='cuda:0')\n"
     ]
    }
   ],
   "source": [
    "pyTorchPullAffineMat3x4 = getPyTorchAffineMatTensor(pullAffine_np,  toy_depth, toy_height, toy_width, toy_depth, toy_height, toy_width, device)\n",
    "printTensor('pyTorchPullAffineMat3x4', pyTorchPullAffineMat3x4)\n",
    "print(f'pyTorchPullAffineMat3x4 {pyTorchPullAffineMat3x4}')"
   ]
  },
  {
   "cell_type": "code",
   "execution_count": 19,
   "metadata": {},
   "outputs": [
    {
     "name": "stdout",
     "output_type": "stream",
     "text": [
      "pyTorchPullAffineMat3x4 shape: torch.Size([3, 4]) device: cuda:0 dtype: torch.float32\n",
      "viuDVFGridSizeParam shape: (batch, channel, D, H, W, nbDim=3): (1, 1, 210, 512, 512, 3)\n"
     ]
    },
    {
     "name": "stdout",
     "output_type": "stream",
     "text": [
      "viu_grid_pull shape: torch.Size([1, 210, 512, 512, 3]) device: cuda:0 dtype: torch.float32\n"
     ]
    }
   ],
   "source": [
    "# from viu.torch.deformation.fields import DVF\n",
    "printTensor('pyTorchPullAffineMat3x4', pyTorchPullAffineMat3x4)\n",
    "nb_dim = pyTorchPullAffineMat3x4.shape[-1]-1\n",
    "viuDVFGridSizeParam=(batchSize, 1, toy_depth, toy_height, toy_width, nb_dim)\n",
    "print(f'viuDVFGridSizeParam shape: (batch, channel, D, H, W, nbDim=3): {viuDVFGridSizeParam}')\n",
    "\n",
    "#While calling DVF.affine, in the affine matrix, the last row (0,0,1) for 2D or (0,0,0,1) for is removed. However no batch is added.\n",
    "#Also  while passing the size, the  DVF  dimension  (2 or 3) is being passed  as the last elemet of the size  tuple.\n",
    "#Further  line #393 of field.py  is to be modified.\n",
    "#Another important difference  is that  the DVF returned by DVF.affine  includes a subtraction of the identity map\n",
    "viu_grid_pull = DVF.affine(pyTorchPullAffineMat3x4, size=viuDVFGridSizeParam)\n",
    "printTensor('viu_grid_pull', viu_grid_pull)"
   ]
  },
  {
   "cell_type": "code",
   "execution_count": 20,
   "metadata": {},
   "outputs": [
    {
     "name": "stdout",
     "output_type": "stream",
     "text": [
      "viu_grid_pull shape: torch.Size([1, 210, 512, 512, 3]) device: cuda:0 dtype: torch.float32\n",
      "vol_tensor shape: torch.Size([1, 1, 210, 512, 512]) device: cuda:0 dtype: torch.float32\n"
     ]
    }
   ],
   "source": [
    "printTensor('viu_grid_pull', viu_grid_pull)\n",
    "printTensor('vol_tensor', vol_tensor)"
   ]
  },
  {
   "cell_type": "code",
   "execution_count": 21,
   "metadata": {},
   "outputs": [
    {
     "name": "stdout",
     "output_type": "stream",
     "text": [
      "aVol_viu_grid_pull_warped shape: torch.Size([1, 1, 210, 512, 512]) device: cuda:0 dtype: torch.float32\n"
     ]
    },
    {
     "data": {
      "application/vnd.jupyter.widget-view+json": {
       "model_id": "295be4ec54354bfca7788e62ecf160b7",
       "version_major": 2,
       "version_minor": 0
      },
      "text/plain": [
       "interactive(children=(Output(),), _dom_classes=('widget-interact',))"
      ]
     },
     "metadata": {},
     "output_type": "display_data"
    },
    {
     "data": {
      "text/plain": [
       "<exampleUtils.v1_volumeComparisonViewer3D at 0x7f61443d1970>"
      ]
     },
     "execution_count": 21,
     "metadata": {},
     "output_type": "execute_result"
    }
   ],
   "source": [
    "#Test rotation\n",
    "aVol_viu_grid_pull_warped = viu_grid_pull.sample(\n",
    "    input=vol_tensor,\n",
    "    mode='bilinear',\n",
    "    padding_mode='zeros',\n",
    "    warpingModeString=\"pull\",\n",
    "    prefilter=False)\n",
    "printTensor('aVol_viu_grid_pull_warped', aVol_viu_grid_pull_warped)\n",
    "aVol_viu_grid_pull_warped_np = aVol_viu_grid_pull_warped.squeeze().squeeze().clone().cpu().numpy()\n",
    "v1_volumeComparisonViewer3D(\n",
    "    listVolumes=[aVol_viu_grid_pull_warped_np],listLabels=[f'VIUDVF_PullWarp_Rot_by_{theta_deg:0.1f}_deg_around_{viewString}'],\n",
    "    maxZ0=aVol_viu_grid_pull_warped_np.shape[0], maxZ1=aVol_viu_grid_pull_warped_np.shape[1], maxZ2=aVol_viu_grid_pull_warped_np.shape[2],\n",
    "    figsize=(12,8), cmap='gray',\n",
    "    displayColorbar=False, useExternalWindowCenter=True, wMin=-500, wMax=500, useAspectCol=False)"
   ]
  },
  {
   "cell_type": "code",
   "execution_count": 22,
   "metadata": {},
   "outputs": [
    {
     "name": "stdout",
     "output_type": "stream",
     "text": [
      "numRotations 12\n"
     ]
    }
   ],
   "source": [
    "numRotations = int(360 // theta_deg)\n",
    "print(f'numRotations {numRotations}')"
   ]
  },
  {
   "cell_type": "code",
   "execution_count": 23,
   "metadata": {},
   "outputs": [],
   "source": [
    "#To demonstrate blurring and its avoidance, attempt multiple  with and without prefilter\n",
    "test_vol_tensor_noPreF = vol_tensor.clone()\n",
    "test_vol_tensor_withPreF = vol_tensor.clone()"
   ]
  },
  {
   "cell_type": "code",
   "execution_count": 24,
   "metadata": {},
   "outputs": [
    {
     "name": "stdout",
     "output_type": "stream",
     "text": [
      "test_vol_tensor_noPreF shape: torch.Size([1, 1, 210, 512, 512]) device: cuda:0 dtype: torch.float32\n"
     ]
    },
    {
     "data": {
      "application/vnd.jupyter.widget-view+json": {
       "model_id": "7c3ad487276a4c03b862b4b5fb9c33ba",
       "version_major": 2,
       "version_minor": 0
      },
      "text/plain": [
       "interactive(children=(Output(),), _dom_classes=('widget-interact',))"
      ]
     },
     "metadata": {},
     "output_type": "display_data"
    },
    {
     "data": {
      "text/plain": [
       "<exampleUtils.v1_volumeComparisonViewer3D at 0x7f614bc40070>"
      ]
     },
     "execution_count": 24,
     "metadata": {},
     "output_type": "execute_result"
    }
   ],
   "source": [
    "for count in range(numRotations):\n",
    "    test_vol_tensor_noPreF = viu_grid_pull.sample(\n",
    "        input=test_vol_tensor_noPreF,\n",
    "        mode='bilinear',\n",
    "        padding_mode='zeros',\n",
    "        warpingModeString=\"pull\",\n",
    "        prefilter=False)\n",
    "printTensor('test_vol_tensor_noPreF', test_vol_tensor_noPreF)\n",
    "test_vol_tensor_noPreF_np = test_vol_tensor_noPreF.squeeze().squeeze().clone().cpu().numpy()\n",
    "v1_volumeComparisonViewer3D(\n",
    "    listVolumes=[test_vol_tensor_noPreF_np],listLabels=[f'VIUDVF_F+NoPreF_Warp_Rot_by_{theta_deg:0.1f}_deg_around_{viewString}'],\n",
    "    maxZ0=test_vol_tensor_noPreF_np.shape[0], maxZ1=test_vol_tensor_noPreF_np.shape[1], maxZ2=test_vol_tensor_noPreF_np.shape[2],\n",
    "    figsize=(12,8), cmap='gray',\n",
    "    displayColorbar=False, useExternalWindowCenter=True, wMin=-500, wMax=500, useAspectCol=False)"
   ]
  },
  {
   "cell_type": "code",
   "execution_count": 25,
   "metadata": {},
   "outputs": [
    {
     "name": "stderr",
     "output_type": "stream",
     "text": [
      "/opt/conda/envs/clone2MMIPython/lib/python3.9/site-packages/interpol/autograd.py:287: UserWarning: operator() profile_node %258 : int[] = prim::profile_ivalue(%permutation.21)\n",
      " does not have profile information (Triggered internally at /opt/conda/conda-bld/pytorch_1682343997789/work/third_party/nvfuser/csrc/graph_fuser.cpp:104.)\n",
      "  output = spline_coeff_nd(input, *opt)\n"
     ]
    },
    {
     "name": "stdout",
     "output_type": "stream",
     "text": [
      "test_vol_tensor_withPreF shape: torch.Size([1, 1, 210, 512, 512]) device: cuda:0 dtype: torch.float32\n"
     ]
    },
    {
     "data": {
      "application/vnd.jupyter.widget-view+json": {
       "model_id": "3097b69964894b0f9acb14ee6e4ec950",
       "version_major": 2,
       "version_minor": 0
      },
      "text/plain": [
       "interactive(children=(Output(),), _dom_classes=('widget-interact',))"
      ]
     },
     "metadata": {},
     "output_type": "display_data"
    },
    {
     "data": {
      "text/plain": [
       "<exampleUtils.v1_volumeComparisonViewer3D at 0x7f6143df6340>"
      ]
     },
     "execution_count": 25,
     "metadata": {},
     "output_type": "execute_result"
    }
   ],
   "source": [
    "for count in range(numRotations):\n",
    "    test_vol_tensor_withPreF = viu_grid_pull.sample(\n",
    "        input=test_vol_tensor_withPreF,\n",
    "        mode='cubic',\n",
    "        padding_mode='zeros',\n",
    "        warpingModeString=\"pull\",\n",
    "        prefilter=True)\n",
    "printTensor('test_vol_tensor_withPreF', test_vol_tensor_withPreF)\n",
    "test_vol_tensor_withPreF_np = test_vol_tensor_withPreF.squeeze().squeeze().clone().cpu().numpy()\n",
    "v1_volumeComparisonViewer3D(\n",
    "    listVolumes=[test_vol_tensor_withPreF_np],listLabels=[f'VIUDVF_Interpol+SplinePreF_Warp_Rot_by_{theta_deg:0.1f}_deg_around_{viewString}'],\n",
    "    maxZ0=test_vol_tensor_withPreF_np.shape[0], maxZ1=test_vol_tensor_withPreF_np.shape[1], maxZ2=test_vol_tensor_withPreF_np.shape[2],\n",
    "    figsize=(12,8), cmap='gray',\n",
    "    displayColorbar=False, useExternalWindowCenter=True, wMin=-500, wMax=500, useAspectCol=False)\n"
   ]
  },
  {
   "cell_type": "code",
   "execution_count": 26,
   "metadata": {},
   "outputs": [
    {
     "data": {
      "application/vnd.jupyter.widget-view+json": {
       "model_id": "caea0f865c4543ccb00b09f6f4d75894",
       "version_major": 2,
       "version_minor": 0
      },
      "text/plain": [
       "interactive(children=(Output(),), _dom_classes=('widget-interact',))"
      ]
     },
     "metadata": {},
     "output_type": "display_data"
    },
    {
     "data": {
      "text/plain": [
       "<exampleUtils.v1_volumeComparisonViewer3D at 0x7f628c64c790>"
      ]
     },
     "execution_count": 26,
     "metadata": {},
     "output_type": "execute_result"
    }
   ],
   "source": [
    "v1_volumeComparisonViewer3D(\n",
    "    listVolumes=[test_vol_tensor_noPreF_np-vol, test_vol_tensor_withPreF_np-vol],listLabels=[f'M*-M without preF', f'M*-M with preF'],\n",
    "    maxZ0=vol.shape[0], maxZ1=vol.shape[1], maxZ2=vol.shape[2],\n",
    "    figsize=(12,8), cmap='coolwarm',\n",
    "    displayColorbar=False, useExternalWindowCenter=True, wMin=-50, wMax=50, useAspectCol=False)"
   ]
  },
  {
   "cell_type": "code",
   "execution_count": null,
   "metadata": {},
   "outputs": [],
   "source": []
  }
 ],
 "metadata": {
  "kernelspec": {
   "display_name": "clone2MMIPython",
   "language": "python",
   "name": "python3"
  },
  "language_info": {
   "codemirror_mode": {
    "name": "ipython",
    "version": 3
   },
   "file_extension": ".py",
   "mimetype": "text/x-python",
   "name": "python",
   "nbconvert_exporter": "python",
   "pygments_lexer": "ipython3",
   "version": "3.9.18"
  }
 },
 "nbformat": 4,
 "nbformat_minor": 2
}
