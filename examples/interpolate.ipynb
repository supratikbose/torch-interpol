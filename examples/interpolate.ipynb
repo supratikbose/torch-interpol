{
 "cells": [
  {
   "cell_type": "code",
   "execution_count": null,
   "metadata": {
    "collapsed": true,
    "pycharm": {
     "name": "#%%\n"
    }
   },
   "outputs": [],
   "source": [
    "import torch\n",
    "import interpol\n",
    "import matplotlib.pyplot as plt"
   ]
  },
  {
   "cell_type": "markdown",
   "metadata": {
    "collapsed": false,
    "pycharm": {
     "name": "#%% md\n"
    }
   },
   "source": [
    "Generate the picture of a circle\n",
    "--------------------------------"
   ]
  },
  {
   "cell_type": "code",
   "execution_count": null,
   "metadata": {},
   "outputs": [],
   "source": [
    "aShape = [4,7]\n",
    "aList = [torch.arange(s).float() for s in aShape]\n",
    "print(f'aList {aList}')\n",
    "aMeshgrid = torch.meshgrid(*aList) #1st slice each row: y value repeated x times; 2nd slice each col: x value repeated y times;\n",
    "print(f'aMeshgrid type {type(aMeshgrid)} len {len(aMeshgrid)}')\n",
    "print(f'1st slice each row: y value of the row is repeated  along row x times; 2nd slice each col: x value of the col along col repeated y times.')\n",
    "print(f'aMeshgrid[0] shape {aMeshgrid[0].shape} value {aMeshgrid[0]}')\n",
    "print(f'aMeshgrid[1] shape {aMeshgrid[1].shape} value {aMeshgrid[1]}')\n",
    "anImg=torch.stack(aMeshgrid, -1)\n",
    "print(f'anImg shape {anImg.shape}')\n",
    "aSubtractVal = (torch.as_tensor(aShape).float() - 1) / 2\n",
    "print(f'Apply aSubtractVal  {aSubtractVal}')\n",
    "# print(f'anImg value {anImg}')\n",
    "anImg = anImg - aSubtractVal\n",
    "print(f'anImg 1st slice shape {anImg[:,:,0].shape} value {anImg[:,:,0]}')\n",
    "print(f'anImg 2nd slice shape {anImg[:,:,1].shape} value {anImg[:,:,1]}')\n",
    "print(f'Apply sqrt(SQR(X) +SQR(Y))')\n",
    "anImg = anImg.square().sum(-1).sqrt()\n",
    "print(f'anImg shape {anImg.shape}')\n",
    "print(f'anImg value  {anImg}')\n",
    "print(f'Apply bound')\n",
    "anImg = (anImg < 2.5).float()\n",
    "print(f'anImg value  {anImg}')\n",
    "\n",
    "plt.imshow(anImg, cmap='autumn')\n",
    "plt.axis('off')\n",
    "plt.title('Image')\n",
    "plt.show()\n",
    "\n"
   ]
  },
  {
   "cell_type": "code",
   "execution_count": null,
   "metadata": {
    "collapsed": false,
    "pycharm": {
     "name": "#%%\n"
    }
   },
   "outputs": [],
   "source": [
    "shape = [128, 128]\n",
    "img = torch.stack(torch.meshgrid(*[torch.arange(s).float() for s in shape]), -1)\n",
    "img -= (torch.as_tensor(shape).float() - 1) / 2\n",
    "img = img.square().sum(-1).sqrt()\n",
    "img = (img < 48).float()\n",
    "print(f'img type {type(img)} dtype {img.dtype} shape {img.shape}')\n",
    "\n",
    "plt.imshow(img, cmap='autumn')\n",
    "plt.axis('off')\n",
    "plt.title('Image')\n",
    "plt.show()"
   ]
  },
  {
   "cell_type": "markdown",
   "metadata": {
    "collapsed": false,
    "pycharm": {
     "name": "#%% md\n"
    }
   },
   "source": [
    "Generate a random sampling grid\n",
    "-------------------------------\n",
    "We use Cubic splines with randomly sampled coefficients to generate a\n",
    "smooth random displacement field.\n",
    "\n",
    "We then add the _identity grid_ (_i.e._, the coordinate at each voxel)\n",
    "to generate a sampling field (scipy's `points`)"
   ]
  },
  {
   "cell_type": "code",
   "execution_count": null,
   "metadata": {
    "collapsed": false,
    "pycharm": {
     "name": "#%%\n"
    }
   },
   "outputs": [],
   "source": [
    "cshape = [12, 12]   # number of control points\n",
    "scale = 2          # standard deviation of random displacement size\n",
    "disp = torch.randn([*cshape, 2]) * scale #([*cshape, 2] => [12,12,2] and multiplying by scale makes N(01,1) to N(0, scale)\n",
    "print(f'coarse disp shape {disp.shape }')\n",
    "\n",
    "# interpol.resize expects the number of channels to be first, so we move\n",
    "# it around\n",
    "disp = disp.movedim(-1, 0)\n",
    "disp = interpol.resize(disp, shape=shape, interpolation=3) #The displacement field is resampled.\n",
    "disp = disp.movedim(0, -1)\n",
    "print(f'fine grain disp shape {disp.shape }')\n",
    "\n",
    "# convert the *displacement* field into a *sampling* field\n",
    "identity = torch.stack(torch.meshgrid(*[torch.arange(s).float() for s in shape]), -1) #1st slice each row: y value of the row repeated x times; 2nd slice each col: x value of the col repeated y times;\n",
    "print(f'identity shape {identity.shape}')\n",
    "grid = identity + disp #What is the idea?\n",
    "print(f'grid shape {grid.shape}')\n",
    "\n",
    "# display the displacement field\n",
    "skip = 16\n",
    "for i in range(0, 128, skip):\n",
    "    # print(f'1st slice each row: y value of the row is repeated  along row x times; 2nd slice each col: x value of the col along col repeated y times.')\n",
    "    plt.plot(grid[i, :, 1], grid[i, :, 0], color='k') #i-th skpped-row: grid[i, :, 1]: x values changing, also perturbed by disp; grid[i, :, 0]: A constant y value  perturbed by disp\n",
    "plt.plot(grid[-1, :, 1], grid[-1, :, 0], color='k') # last row\n",
    "for j in range(0, 128, skip):\n",
    "    #print(f'1st slice each row: y value of the row is repeated  along row x times; 2nd slice each col: x value of the col along col repeated y times.')\n",
    "    plt.plot(grid[:, j, 1], grid[:, j, 0], color='k') #j-th skpped-col: grid[:, j, 1]: A constant x values  perturbed by disp;  grid[j, :, 0]: y value changing, also perturbed by disp;\n",
    "plt.plot(grid[:, -1, 1], grid[:, -1, 0], color='k')# last col\n",
    "plt.axis('off')\n",
    "plt.title('Sampling grid')\n",
    "plt.show()"
   ]
  },
  {
   "cell_type": "markdown",
   "metadata": {
    "collapsed": false,
    "pycharm": {
     "name": "#%% md\n"
    }
   },
   "source": [
    "Interpolate the image using the sampling grid\n",
    "---------------------------------------------\n",
    "References:\n",
    "\n",
    "By default, grid_pull and grid_grad do not apply a prefilter,\n",
    "so `img` actually contains the spline coefficients.\n",
    "To actually interpolate `img`, use `prefilter=True`.\n",
    "\n",
    "Another thing to keep in mind is that the sampled image normals (returned\n",
    "by `grid_grad`) are with respect to the original lattice. That is, if the\n",
    "sampling grid contains a 90 degree rotation, the plotted normals will\n",
    "be parallel to the edges of the warped image, instead of perpendicular.\n",
    "To get normals with respect to the output lattice, the sampled normals\n",
    "should be matrix-multiplied with the Jacobian field of the transform.\n",
    "In other words, `grid_grad` returns (∇f)∘φ(x), not ∇(f∘φ)(x)."
   ]
  },
  {
   "cell_type": "code",
   "execution_count": null,
   "metadata": {
    "collapsed": false,
    "pycharm": {
     "name": "#%%\n"
    }
   },
   "outputs": [],
   "source": [
    "wrp = interpol.grid_pull(img, grid, interpolation=3)\n",
    "nrm = interpol.grid_grad(img, grid, interpolation=3)\n",
    "\n",
    "# compute Jacobian\n",
    "jac = torch.zeros([*grid.shape, 2])\n",
    "jac[1:-1, :, :, 0] = (disp[2:, :] - disp[:-2, :]) / 2\n",
    "jac[:, 1:-1, :, 1] = (disp[:, 2:] - disp[:, :-2]) / 2\n",
    "jac.diagonal(0, -1, -2).add_(1)\n",
    "\n",
    "# compute rotated normals = ∇(f∘φ)\n",
    "rot_nrm = jac.transpose(-1, -2).matmul(nrm.unsqueeze(-1)).squeeze(-1)\n",
    "\n",
    "cmap = 'autumn'\n",
    "skip = 2\n",
    "\n",
    "plt.subplot(1, 3, 1)\n",
    "plt.imshow(wrp, cmap=cmap)\n",
    "plt.axis('off')\n",
    "plt.title('Warped image')\n",
    "plt.subplot(1, 3, 2)\n",
    "plt.imshow(wrp, cmap=cmap)\n",
    "plt.quiver(identity[::skip, ::skip, 1], identity[::skip, ::skip, 0],\n",
    "           nrm[::skip, ::skip, 1], nrm[::skip, ::skip, 0],\n",
    "           angles='xy', scale=0.1, scale_units='xy', color='blue')\n",
    "plt.axis('off')\n",
    "plt.title('Warped normals')\n",
    "plt.subplot(1, 3, 3)\n",
    "plt.imshow(wrp, cmap=cmap)\n",
    "plt.quiver(identity[::skip, ::skip, 1], identity[::skip, ::skip, 0],\n",
    "           rot_nrm[::skip, ::skip, 1], rot_nrm[::skip, ::skip, 0],\n",
    "           angles='xy', scale=0.1, scale_units='xy', color='blue')\n",
    "plt.axis('off')\n",
    "plt.title('Rotated normals')\n",
    "plt.show()"
   ]
  }
 ],
 "metadata": {
  "kernelspec": {
   "display_name": "Python 3",
   "language": "python",
   "name": "python3"
  },
  "language_info": {
   "codemirror_mode": {
    "name": "ipython",
    "version": 3
   },
   "file_extension": ".py",
   "mimetype": "text/x-python",
   "name": "python",
   "nbconvert_exporter": "python",
   "pygments_lexer": "ipython3",
   "version": "3.9.18"
  }
 },
 "nbformat": 4,
 "nbformat_minor": 0
}
