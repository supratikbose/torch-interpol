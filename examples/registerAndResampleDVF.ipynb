{
 "cells": [
  {
   "cell_type": "code",
   "execution_count": 1,
   "metadata": {},
   "outputs": [],
   "source": [
    "import argparse\n",
    "from argparse import Namespace\n",
    "\n",
    "import os.path\n",
    "\n",
    "import numpy as np\n",
    "import argparse\n",
    "import nibabel as nib\n",
    "\n",
    "from scipy import signal\n",
    "from torchmetrics import MeanSquaredError\n",
    "from viu.io import volume\n",
    "from viu.torch.deformation.fields import DVF\n",
    "from viu.torch.math import torch_affine_to_vol_mat\n",
    "from viu.util.body_mask import seg_body\n",
    "\n",
    "from pamomo.registration.deformable import reg\n",
    "import torch\n",
    "import torch.nn.functional as tt\n",
    "\n",
    "from exampleUtils import *"
   ]
  },
  {
   "cell_type": "code",
   "execution_count": 2,
   "metadata": {},
   "outputs": [
    {
     "name": "stdout",
     "output_type": "stream",
     "text": [
      "Namespace(src='/home/wd974888/Downloads/workingFolder/DeformationExperiment/readFormat/Patient09PB_bin_01.nii.gz', dst='/home/wd974888/Downloads/workingFolder/DeformationExperiment/readFormat/Patient09PB_bin_11.nii.gz', body_seg=True, air_threshold=-300, alpha=50, verboseMode=False, maxNumberOfIterations=100, numLevels=3, saveMovedAsNIIFlag=True)\n"
     ]
    }
   ],
   "source": [
    "args = Namespace(\\\n",
    "    src=f'/home/wd974888/Downloads/workingFolder/DeformationExperiment/readFormat/Patient09PB_bin_01.nii.gz',\\\n",
    "    dst=f'/home/wd974888/Downloads/workingFolder/DeformationExperiment/readFormat/Patient09PB_bin_11.nii.gz',\\\n",
    "    body_seg=True,\\\n",
    "    air_threshold=-300,\\\n",
    "    alpha=50,\\\n",
    "    verboseMode=False,\\\n",
    "    maxNumberOfIterations=100,\\\n",
    "    numLevels=3,\\\n",
    "    saveMovedAsNIIFlag=True)\n",
    "print(args)"
   ]
  },
  {
   "cell_type": "code",
   "execution_count": 3,
   "metadata": {},
   "outputs": [],
   "source": [
    "runFreshRegistration=False"
   ]
  },
  {
   "cell_type": "code",
   "execution_count": 4,
   "metadata": {},
   "outputs": [
    {
     "name": "stdout",
     "output_type": "stream",
     "text": [
      "src_vol dtype float64,  shape ZYX (590, 512, 512), res XYZ [0.9765625 0.9765625 1.       ], pos XYZ [-249.50999451 -469.51000977 -352.3999939 ]\n",
      "dst_vol dtype float64,  shape ZYX (590, 512, 512), res XYZ [0.9765625 0.9765625 1.       ], pos XYZ [-249.50999451 -469.51000977 -352.3999939 ]\n",
      "B4 DVFify dvf type <class 'numpy.ndarray'>  dtype float32,  shape ZYX (295, 256, 256, 3)\n",
      "B4 tensorify dvf_res dtype float64,  shape (3,), value XYZ  [1.95695466 1.95695466 2.00340136]\n",
      "B4 tensorify dvf_pos dtype float64,  shape (3,), value XYZ  [0. 0. 0.]\n"
     ]
    }
   ],
   "source": [
    "#registrationCommand(args)\n",
    "dst_path = os.path.dirname(args.dst)\n",
    "\n",
    "src_vol: np.ndarray\n",
    "if args.src.endswith('.nii.gz') and args.dst.endswith('.nii.gz'):\n",
    "    src_vol, src_res, src_pos = ImportFromNII(args.src)\n",
    "    dst_vol, dst_res, dst_pos = ImportFromNII(args.dst)\n",
    "else:\n",
    "    src_vol, src_res, src_pos = volume.read_volume(args.src)\n",
    "    dst_vol, dst_res, dst_pos = volume.read_volume(args.dst)\n",
    "\n",
    "print(f'src_vol dtype {src_vol.dtype},  shape ZYX {src_vol.shape}, res XYZ {src_res}, pos XYZ {src_pos}')\n",
    "# src_vol dtype float64,  shape ZYX (590, 512, 512), res XYZ [0.9765625 0.9765625 1.       ], pos XYZ [-249.50999451 -469.51000977 -352.3999939 ]\n",
    "print(f'dst_vol dtype {dst_vol.dtype},  shape ZYX {dst_vol.shape}, res XYZ {dst_res}, pos XYZ {dst_pos}')\n",
    "# dst_vol dtype float64,  shape ZYX (590, 512, 512), res XYZ [0.9765625 0.9765625 1.       ], pos XYZ [-249.50999451 -469.51000977 -352.3999939 ]\n",
    "\n",
    "cachedPath = os.path.join(dst_path, f'Patient09PB_cachedDVF.npz')\n",
    "if True==runFreshRegistration:\n",
    "\n",
    "    additional_args = {}\n",
    "    if args.body_seg:\n",
    "        print('Find connected components...')\n",
    "        #Find connected components...\n",
    "        msk = seg_body(dst_vol, air_threshold=args.air_threshold)\n",
    "        additional_args.update({'dst_seg': {'SM_bodymask': msk}, 'similarityMaskMultilevelStrategy': 'STRICTINTERIOR'})\n",
    "\n",
    "    print('Start registration...')\n",
    "    vol_min = -1200\n",
    "    dvf, dvf_res, dvf_pos = reg(src_vol.clip(min=vol_min), src_res,\n",
    "                                dst_vol.clip(min=vol_min), dst_res,\n",
    "                                alpha=args.alpha,#alpha=20,\n",
    "                                numLevels=args.numLevels,\n",
    "                                # finestLevelReference=0,\n",
    "                                # finestLevelTemplate=0,\n",
    "                                maxNumberOfIterations=args.maxNumberOfIterations,\n",
    "                                **additional_args) #verboseMode=args.verboseMode, **additional_args #verboseMode='true', **additional_args\n",
    "    np.savez_compressed(cachedPath, dvf, dvf_res, dvf_pos)\n",
    "    # Start registration...\n",
    "\n",
    "    # This is the Fraunhofer MEVIS cuda registration library. Version: VarianDeformableRegistrationDLLCUDA -- v1.6.2, built Dec 11 2023, 20:49:53\n",
    "    # numSourceSegments <= 0. Running without mask alignment. Continuing.\n",
    "    # Started registration...\n",
    "    # Optimization on level 1 / 3 needs: 3.39014 s\n",
    "    # Optimization on level 2 / 3 needs: 8.03293 s\n",
    "    # Optimization on level 3 / 3 needs: 84.1789 s\n",
    "    # Finished multilevel registration.\n",
    "    # Total runtime: 103.207s.\n",
    "    # Done.\n",
    "else:\n",
    "    cachedDVF = np.load(cachedPath)\n",
    "    dvf, dvf_res, dvf_pos = cachedDVF['arr_0'], cachedDVF['arr_1'], cachedDVF['arr_2']\n",
    "\n",
    "print(f'B4 DVFify dvf type {type(dvf)}  dtype {dvf.dtype},  shape ZYX {dvf.shape}')\n",
    "# B4 DVFify dvf type <class 'numpy.ndarray'>  dtype float32,  shape ZYX (295, 256, 256, 3)\n",
    "print(f'B4 tensorify dvf_res dtype {dvf_res.dtype},  shape {dvf_res.shape}, value XYZ  {dvf_res}')\n",
    "# B4 tensorify dvf_res dtype float64,  shape (3,), value XYZ  [1.95695466 1.95695466 2.00340136]\n",
    "print(f'B4 tensorify dvf_pos dtype {dvf_pos.dtype},  shape {dvf_pos.shape}, value XYZ  {dvf_pos}')\n",
    "# B4 tensorify dvf_pos dtype float64,  shape (3,), value XYZ  [0. 0. 0.]\n"
   ]
  },
  {
   "cell_type": "code",
   "execution_count": 5,
   "metadata": {},
   "outputs": [
    {
     "name": "stdout",
     "output_type": "stream",
     "text": [
      "After tensorify dvf_res dtype torch.float64,  shape torch.Size([3]), value XYZ  tensor([1.9570, 1.9570, 2.0034], dtype=torch.float64)\n",
      "After tensorify dvf_pos dtype torch.float64,  shape torch.Size([3]), value XYZ  tensor([0., 0., 0.], dtype=torch.float64)\n",
      "dst_dim in XYZ dtype torch.int64,  shape torch.Size([3]), value XYZ  tensor([512, 512, 590])\n",
      "dst_res in XYZ dtype torch.float64,  shape torch.Size([3]), value XYZ  tensor([0.9766, 0.9766, 1.0000], dtype=torch.float64)\n"
     ]
    }
   ],
   "source": [
    "dvf_res = torch.tensor(dvf_res, dtype=torch.float64)\n",
    "print(f'After tensorify dvf_res dtype {dvf_res.dtype},  shape {dvf_res.shape}, value XYZ  {dvf_res}')\n",
    "dvf_pos = torch.tensor(dvf_pos, dtype=torch.float64)\n",
    "print(f'After tensorify dvf_pos dtype {dvf_pos.dtype},  shape {dvf_pos.shape}, value XYZ  {dvf_pos}')\n",
    "\n",
    "dst_dim = torch.tensor(dst_vol.shape[::-1]) #From ZYX to XYZ\n",
    "print(f'dst_dim in XYZ dtype {dst_dim.dtype},  shape {dst_dim.shape}, value XYZ  {dst_dim}')\n",
    "dst_res = torch.tensor(dst_res, dtype=torch.float64)\n",
    "print(f'dst_res in XYZ dtype {dst_res.dtype},  shape {dst_res.shape}, value XYZ  {dst_res}')"
   ]
  },
  {
   "cell_type": "code",
   "execution_count": 6,
   "metadata": {},
   "outputs": [
    {
     "name": "stdout",
     "output_type": "stream",
     "text": [
      "batched_dvf DVF object   dtype torch.float32,  shape ZYX3 torch.Size([1, 295, 256, 256, 3])\n"
     ]
    }
   ],
   "source": [
    "#Create unbatched DVF object\n",
    "# dvf = DVF(dvf).from_millimeter(dvf_res).to(torch.float32)\n",
    "# Above line gives error: DVFs can be formed only of tensors of shape (B,H,W,2) or (B,D,H,W,3). Provided shape: torch.Size([295, 256, 256, 3]).\n",
    "batched_dvf = DVF(dvf[None,...]).from_millimeter(dvf_res).to(torch.float32)\n",
    "print(f'batched_dvf DVF object   dtype {batched_dvf.dtype},  shape ZYX3 {batched_dvf.shape}')"
   ]
  },
  {
   "cell_type": "code",
   "execution_count": 7,
   "metadata": {},
   "outputs": [],
   "source": [
    "# #Old resample of unbatched DVF\n",
    "# dvf = dvf.resample(\n",
    "#     dst_dim,\n",
    "#     dst_res,\n",
    "#     #dst_pos: torch.Tensor = torch.zeros(3, dtype=torch.float64), <--- default\n",
    "#     dvf_res=dvf_res,\n",
    "#     dvf_pos=dvf_pos\n",
    "#     # mode=\"bilinear\",\n",
    "#     # padding_mode=\"border\"\n",
    "#     )\n",
    "# print(f'Resampled dvf type: {type(dvf)}')\n",
    "# ######## Exception happening  otherwise ######\n",
    "# if dvf.dtype !=torch.tensor(src_vol).dtype:\n",
    "#     #Making both float32\n",
    "#     # dvf = dvf.to(torch.tensor(src_vol).dtype)\n",
    "#     dvf = dvf.to(torch.float32)\n",
    "#     src_vol = src_vol.astype('float32')\n",
    "# #########################################\n",
    "# print(f'Resampled DVF object   dtype {dvf.dtype},  shape ZYX3 {dvf.shape}')\n",
    "# #With change in sample() we need to have batch dimension added to DVF and batch and channel  dimension added to  input\n",
    "# batched_dvf = dvf.unsqueeze(0)\n",
    "# print(f'batched_dvf  object   dtype {batched_dvf.dtype},  shape ZYX3 {batched_dvf.shape}')"
   ]
  },
  {
   "cell_type": "code",
   "execution_count": 7,
   "metadata": {},
   "outputs": [
    {
     "name": "stdout",
     "output_type": "stream",
     "text": [
      "Resampled DVF object  type <class 'viu.torch.deformation.fields.DVF'>   dtype torch.float32,  shape ZYX3 torch.Size([1, 590, 512, 512, 3])\n"
     ]
    }
   ],
   "source": [
    "# Resample of batched DVF without preFilter\n",
    "batched_dvf1 = batched_dvf.resample(\n",
    "    dst_dim,\n",
    "    dst_res,\n",
    "    #dst_pos: torch.Tensor = torch.zeros(3, dtype=torch.float64), <--- default\n",
    "    dvf_res=dvf_res,\n",
    "    dvf_pos=dvf_pos,\n",
    "    mode=\"bilinear\",\n",
    "    padding_mode=\"border\",\n",
    "    prefilter=False\n",
    "    )\n",
    "if batched_dvf1.dtype !=torch.tensor(src_vol).dtype:\n",
    "    #Making both float32\n",
    "    batched_dvf1 = batched_dvf1.to(torch.float32)\n",
    "    src_vol = src_vol.astype('float32')\n",
    "print(f'Resampled DVF object  type {type(batched_dvf1)}   dtype {batched_dvf1.dtype},  shape ZYX3 {batched_dvf1.shape}')"
   ]
  },
  {
   "cell_type": "code",
   "execution_count": 8,
   "metadata": {},
   "outputs": [
    {
     "name": "stderr",
     "output_type": "stream",
     "text": [
      "/opt/conda/envs/clone2MMIPython/lib/python3.9/site-packages/interpol/autograd.py:287: UserWarning: operator() sees varying value in profiling, ignoring and this should be handled by GUARD logic (Triggered internally at /opt/conda/conda-bld/pytorch_1682343997789/work/third_party/nvfuser/csrc/parser.cpp:3820.)\n",
      "  output = spline_coeff_nd(input, *opt)\n"
     ]
    },
    {
     "name": "stdout",
     "output_type": "stream",
     "text": [
      "Resampled DVF object  type: <class 'viu.torch.deformation.fields.DVF'> dtypetorch.float32 shape BZYX3 torch.Size([1, 590, 512, 512, 3])\n"
     ]
    }
   ],
   "source": [
    "#Resample of batched DVF with preFilter\n",
    "batched_dvf2 = batched_dvf.resample(\n",
    "    dst_dim,\n",
    "    dst_res,\n",
    "    #dst_pos: torch.Tensor = torch.zeros(3, dtype=torch.float64), <--- default\n",
    "    dvf_res=dvf_res,\n",
    "    dvf_pos=dvf_pos,\n",
    "    mode=\"cubic\",\n",
    "    padding_mode=\"border\",\n",
    "    prefilter=True\n",
    "    )\n",
    "if batched_dvf2.dtype !=torch.tensor(src_vol).dtype:\n",
    "    #Making both float32\n",
    "    batched_dvf2 = batched_dvf2.to(torch.float32)\n",
    "    src_vol = src_vol.astype('float32')\n",
    "print(f'Resampled DVF object  type: {type(batched_dvf2)} dtype{batched_dvf2.dtype} shape BZYX3 {batched_dvf2.shape}')"
   ]
  },
  {
   "cell_type": "code",
   "execution_count": 9,
   "metadata": {},
   "outputs": [
    {
     "name": "stdout",
     "output_type": "stream",
     "text": [
      "batched_dvf1 min DVF(-0.1099) max DVF(0.0270)\n",
      "batched_dvf2 min DVF(-0.1099) max DVF(0.0271)\n",
      "batched_dvf1 - batched_dvf2 min DVF(-0.0001) max DVF(0.0002) mean DVF(2.7087e-08)\n",
      "|batched_dvf1 - batched_dvf2| min DVF(0.) max DVF(0.0002) mean DVF(3.5387e-06)\n"
     ]
    }
   ],
   "source": [
    "#Compare\n",
    "print(f'batched_dvf1 min {torch.min(batched_dvf1)} max {torch.max(batched_dvf1)}')\n",
    "print(f'batched_dvf2 min {torch.min(batched_dvf2)} max {torch.max(batched_dvf2)}')\n",
    "print(f'batched_dvf1 - batched_dvf2 min {torch.min(batched_dvf1 - batched_dvf2)} max {torch.max(batched_dvf1 - batched_dvf2)} mean {torch.mean(batched_dvf1 - batched_dvf2)}')\n",
    "print(f'|batched_dvf1 - batched_dvf2| min {torch.min(torch.abs(batched_dvf1 - batched_dvf2))} max {torch.max(torch.abs(batched_dvf1 - batched_dvf2))} mean {torch.mean(torch.abs(batched_dvf1 - batched_dvf2))}')"
   ]
  },
  {
   "cell_type": "code",
   "execution_count": 10,
   "metadata": {},
   "outputs": [
    {
     "data": {
      "application/vnd.jupyter.widget-view+json": {
       "model_id": "70509ab407cf4286bdf15490c53c6770",
       "version_major": 2,
       "version_minor": 0
      },
      "text/plain": [
       "interactive(children=(Output(),), _dom_classes=('widget-interact',))"
      ]
     },
     "metadata": {},
     "output_type": "display_data"
    },
    {
     "data": {
      "text/plain": [
       "<exampleUtils.v1_volumeComparisonViewer3D at 0x7f5c93ca5280>"
      ]
     },
     "execution_count": 10,
     "metadata": {},
     "output_type": "execute_result"
    }
   ],
   "source": [
    "diff_dvf = (batched_dvf1 - batched_dvf2).cpu().numpy()\n",
    "v1_volumeComparisonViewer3D(\n",
    "    listVolumes=[diff_dvf[0,:,:,:,0], diff_dvf[0,:,:,:,1], diff_dvf[0,:,:,:,2]],listLabels=['diff_ch0', 'diff_ch1', 'diff_ch2'],\n",
    "    maxZ0=diff_dvf[0,:,:,:,0].shape[0], maxZ1=diff_dvf[0,:,:,:,0].shape[1], maxZ2=diff_dvf[0,:,:,:,0].shape[2],\n",
    "    figsize=(12,8), cmap='coolwarm',\n",
    "    displayColorbar=True, useExternalWindowCenter=True, wMin=-0.05, wMax=0.05)"
   ]
  },
  {
   "cell_type": "code",
   "execution_count": 11,
   "metadata": {},
   "outputs": [
    {
     "name": "stdout",
     "output_type": "stream",
     "text": [
      "vol_tensor  object   dtype torch.float32,  shape ZYX3 torch.Size([1, 1, 590, 512, 512])\n"
     ]
    }
   ],
   "source": [
    "vol_tensor = torch.tensor(src_vol).unsqueeze(0).unsqueeze(0)\n",
    "print(f'vol_tensor  object   dtype {vol_tensor.dtype},  shape ZYX3 {vol_tensor.shape}')"
   ]
  },
  {
   "cell_type": "code",
   "execution_count": 12,
   "metadata": {},
   "outputs": [
    {
     "name": "stdout",
     "output_type": "stream",
     "text": [
      "warped_vol_F_noPreFilter  object   dtype float32,  shape ZYX3 (590, 512, 512)\n"
     ]
    },
    {
     "data": {
      "application/vnd.jupyter.widget-view+json": {
       "model_id": "f836d99d66b54259b3f967f02eec310f",
       "version_major": 2,
       "version_minor": 0
      },
      "text/plain": [
       "interactive(children=(Output(),), _dom_classes=('widget-interact',))"
      ]
     },
     "metadata": {},
     "output_type": "display_data"
    },
    {
     "data": {
      "text/plain": [
       "<exampleUtils.v1_volumeComparisonViewer3D at 0x7f5c93c9bca0>"
      ]
     },
     "execution_count": 12,
     "metadata": {},
     "output_type": "execute_result"
    }
   ],
   "source": [
    "#_call_ method => pull warping, no prefilter\n",
    "# warped_vol_F_noPreFilter = batched_dvf1(vol_tensor).squeeze(0).squeeze(0).numpy()\n",
    "#Instead of call method use explicit sample method\n",
    "warped_vol_F_noPreFilter = batched_dvf1.sample(vol_tensor, mode=\"bilinear\", padding_mode=\"zeros\", warpingModeString=\"pull\",prefilter=False).squeeze(0).squeeze(0).numpy()\n",
    "print(f'warped_vol_F_noPreFilter  object   dtype {warped_vol_F_noPreFilter.dtype},  shape ZYX3 {warped_vol_F_noPreFilter.shape}')\n",
    "\n",
    "# #Display\n",
    "# v1_volumeComparisonViewer3D(\n",
    "#     listVolumes=[src_vol, dst_vol, warped_vol_F_noPreFilter],listLabels=['src', 'dst', 'warped_vol_F_noPreFilter'],\n",
    "#     maxZ0=src_vol.shape[0], maxZ1=src_vol.shape[1], maxZ2=src_vol.shape[2],\n",
    "#     figsize=(12,8), cmap='gray',\n",
    "#     displayColorbar=False, useExternalWindowCenter=True, wMin=-500, wMax=500)\n",
    "\n",
    "v1_volumeComparisonViewer3D(\n",
    "    listVolumes=[src_vol-dst_vol, warped_vol_F_noPreFilter-dst_vol],listLabels=['F-M', 'M*_NoPreFilter-M'],\n",
    "    maxZ0=src_vol.shape[0], maxZ1=src_vol.shape[1], maxZ2=src_vol.shape[2],\n",
    "    figsize=(12,8), cmap='coolwarm',\n",
    "    displayColorbar=False, useExternalWindowCenter=True, wMin=-100, wMax=100)"
   ]
  },
  {
   "cell_type": "code",
   "execution_count": 13,
   "metadata": {},
   "outputs": [
    {
     "name": "stdout",
     "output_type": "stream",
     "text": [
      "warped_vol_interpol_preFilter  object   dtype float32,  shape ZYX3 (590, 512, 512)\n"
     ]
    },
    {
     "data": {
      "application/vnd.jupyter.widget-view+json": {
       "model_id": "63ae1b6070354a50b2d255253dae98e3",
       "version_major": 2,
       "version_minor": 0
      },
      "text/plain": [
       "interactive(children=(Output(),), _dom_classes=('widget-interact',))"
      ]
     },
     "metadata": {},
     "output_type": "display_data"
    },
    {
     "data": {
      "text/plain": [
       "<exampleUtils.v1_volumeComparisonViewer3D at 0x7f5c7c26e5b0>"
      ]
     },
     "execution_count": 13,
     "metadata": {},
     "output_type": "execute_result"
    }
   ],
   "source": [
    "#_call_ method => pull warping, no prefilter\n",
    "# warped_vol_interpol_preFilter = batched_dvf2(vol_tensor).squeeze(0).squeeze(0).numpy()\n",
    "# Instead of call method use explicit sample method\n",
    "# warped_vol_interpol_preFilter = batched_dvf2.sample(vol_tensor, mode=\"cubic\", padding_mode=\"zeros\", warpingModeString=\"pull\",prefilter=True).squeeze(0).squeeze(0).numpy()\n",
    "warped_vol_interpol_preFilter = batched_dvf2.sample(vol_tensor, mode=\"bilinear\", padding_mode=\"zeros\", warpingModeString=\"pull\",prefilter=False).squeeze(0).squeeze(0).cpu().numpy()\n",
    "print(f'warped_vol_interpol_preFilter  object   dtype {warped_vol_interpol_preFilter.dtype},  shape ZYX3 {warped_vol_interpol_preFilter.shape}')\n",
    "\n",
    "# #Display\n",
    "# v1_volumeComparisonViewer3D(\n",
    "#     listVolumes=[src_vol, dst_vol, warped_vol_interpol_preFilter],listLabels=['src', 'dst', 'warped_vol_interpol_preFilter'],\n",
    "#     maxZ0=src_vol.shape[0], maxZ1=src_vol.shape[1], maxZ2=src_vol.shape[2],\n",
    "#     figsize=(12,8), cmap='gray',\n",
    "#     displayColorbar=False, useExternalWindowCenter=True, wMin=-500, wMax=500)\n",
    "\n",
    "v1_volumeComparisonViewer3D(\n",
    "    listVolumes=[src_vol-dst_vol, warped_vol_interpol_preFilter-dst_vol],listLabels=['F-M', 'M*_PreFilter-M'],\n",
    "    maxZ0=src_vol.shape[0], maxZ1=src_vol.shape[1], maxZ2=src_vol.shape[2],\n",
    "    figsize=(12,8), cmap='coolwarm',\n",
    "    displayColorbar=False, useExternalWindowCenter=True, wMin=-100, wMax=100)"
   ]
  },
  {
   "cell_type": "code",
   "execution_count": 14,
   "metadata": {},
   "outputs": [
    {
     "name": "stderr",
     "output_type": "stream",
     "text": [
      "/opt/conda/envs/clone2MMIPython/lib/python3.9/site-packages/interpol/autograd.py:287: UserWarning: operator() profile_node %176 : int[] = prim::profile_ivalue(%permutation.15)\n",
      " does not have profile information (Triggered internally at /opt/conda/conda-bld/pytorch_1682343997789/work/third_party/nvfuser/csrc/graph_fuser.cpp:104.)\n",
      "  output = spline_coeff_nd(input, *opt)\n"
     ]
    },
    {
     "name": "stdout",
     "output_type": "stream",
     "text": [
      "warped_vol_interpol  object   dtype float32,  shape ZYX3 (590, 512, 512)\n"
     ]
    },
    {
     "data": {
      "application/vnd.jupyter.widget-view+json": {
       "model_id": "95cc8b39a37d4aeabcdd71fdc34aa2f8",
       "version_major": 2,
       "version_minor": 0
      },
      "text/plain": [
       "interactive(children=(Output(),), _dom_classes=('widget-interact',))"
      ]
     },
     "metadata": {},
     "output_type": "display_data"
    },
    {
     "data": {
      "text/plain": [
       "<exampleUtils.v1_volumeComparisonViewer3D at 0x7f5c7c28adf0>"
      ]
     },
     "execution_count": 14,
     "metadata": {},
     "output_type": "execute_result"
    }
   ],
   "source": [
    "batched_dvf1Grid_to_interpol = convertGrid_functional2interpol(batched_dvf1.mapping(), src_vol.shape[0], src_vol.shape[1], src_vol.shape[2])\n",
    "warped_vol_interpol = interpol.grid_pull(vol_tensor, batched_dvf1Grid_to_interpol,interpolation='cubic',bound='zero',prefilter=True).squeeze(0).squeeze(0).cpu().numpy()\n",
    "print(f'warped_vol_interpol  object   dtype {warped_vol_interpol.dtype},  shape ZYX3 {warped_vol_interpol.shape}')\n",
    "\n",
    "#Display\n",
    "v1_volumeComparisonViewer3D(\n",
    "    listVolumes=[src_vol, dst_vol, warped_vol_interpol],listLabels=['src', 'dst', 'warped_vol_interpol'],\n",
    "    maxZ0=src_vol.shape[0], maxZ1=src_vol.shape[1], maxZ2=src_vol.shape[2],\n",
    "    figsize=(12,8), cmap='gray',\n",
    "    displayColorbar=False, useExternalWindowCenter=True, wMin=-500, wMax=500)"
   ]
  },
  {
   "cell_type": "code",
   "execution_count": 15,
   "metadata": {},
   "outputs": [
    {
     "name": "stdout",
     "output_type": "stream",
     "text": [
      "warped_vol_resample_F_warp_interpol  object   dtype float32,  shape ZYX3 (590, 512, 512)\n"
     ]
    },
    {
     "data": {
      "application/vnd.jupyter.widget-view+json": {
       "model_id": "1aeaecb0125f4b9d9db6d3b4dcfc4d73",
       "version_major": 2,
       "version_minor": 0
      },
      "text/plain": [
       "interactive(children=(Output(),), _dom_classes=('widget-interact',))"
      ]
     },
     "metadata": {},
     "output_type": "display_data"
    },
    {
     "data": {
      "text/plain": [
       "<exampleUtils.v1_volumeComparisonViewer3D at 0x7f5c7c2ad790>"
      ]
     },
     "execution_count": 15,
     "metadata": {},
     "output_type": "execute_result"
    }
   ],
   "source": [
    "warped_vol_resample_F_warp_interpol = batched_dvf1.sample(vol_tensor, mode=\"cubic\", padding_mode=\"zeros\", warpingModeString=\"pull\",prefilter=True).squeeze(0).squeeze(0).numpy()\n",
    "print(f'warped_vol_resample_F_warp_interpol  object   dtype {warped_vol_resample_F_warp_interpol.dtype},  shape ZYX3 {warped_vol_resample_F_warp_interpol.shape}')\n",
    "\n",
    "#Display\n",
    "v1_volumeComparisonViewer3D(\n",
    "    listVolumes=[src_vol, dst_vol, warped_vol_F_noPreFilter],listLabels=['src', 'dst', 'warped_vol_resample_F_warp_interpol'],\n",
    "    maxZ0=src_vol.shape[0], maxZ1=src_vol.shape[1], maxZ2=src_vol.shape[2],\n",
    "    figsize=(12,8), cmap='gray',\n",
    "    displayColorbar=False, useExternalWindowCenter=True, wMin=-500, wMax=500)\n",
    "\n",
    "# v1_volumeComparisonViewer3D(\n",
    "#     listVolumes=[src_vol-dst_vol, warped_vol_resample_F_warp_interpol-dst_vol],listLabels=['F-M', 'M*_resamp_F_warp_interpol-M'],\n",
    "#     maxZ0=src_vol.shape[0], maxZ1=src_vol.shape[1], maxZ2=src_vol.shape[2],\n",
    "#     figsize=(12,8), cmap='coolwarm',\n",
    "#     displayColorbar=False, useExternalWindowCenter=True, wMin=-100, wMax=100)"
   ]
  }
 ],
 "metadata": {
  "kernelspec": {
   "display_name": "clone2MMIPython",
   "language": "python",
   "name": "python3"
  },
  "language_info": {
   "codemirror_mode": {
    "name": "ipython",
    "version": 3
   },
   "file_extension": ".py",
   "mimetype": "text/x-python",
   "name": "python",
   "nbconvert_exporter": "python",
   "pygments_lexer": "ipython3",
   "version": "3.9.18"
  }
 },
 "nbformat": 4,
 "nbformat_minor": 2
}
