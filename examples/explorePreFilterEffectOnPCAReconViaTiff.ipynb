{
 "cells": [
  {
   "cell_type": "markdown",
   "metadata": {},
   "source": [
    "##### Imports"
   ]
  },
  {
   "cell_type": "code",
   "execution_count": 1,
   "metadata": {},
   "outputs": [],
   "source": [
    "#Adapted from   /mnt/data/supratik/demonstrateDIR/v2_evalDIRParamDataGeneration.py\n",
    "import argparse\n",
    "from argparse import Namespace\n",
    "import os\n",
    "import re\n",
    "from functools import reduce\n",
    "from glob import glob\n",
    "from time import sleep\n",
    "import json\n",
    "import csv\n",
    "import nibabel as nib\n",
    "\n",
    "import imageio #Bose: Imageio is a Python library that provides an easy interface to read and write a wide range of image data, including animated images, volumetric data\n",
    "import matplotlib.pyplot as plt\n",
    "import matplotlib.cm as cm #Bose: matplotlib colormaps and functions\n",
    "from matplotlib.cm import get_cmap\n",
    "from matplotlib.colors import Normalize #Bose: The matplotlib.colors module is used for converting color or numbers arguments to RGBA or RGB.This module is used for mapping numbers to colors or color specification conversion in a 1-D array of colors also known as colormap.And Normalize class is used to normalize data into the interval of [0.0, 1.0].\n",
    "from skimage.segmentation import mark_boundaries #Bose: Return image with boundaries between labeled regions highlighted\n",
    "from skimage.transform import rescale #Bose: Rescale operation resizes an image by a given scaling factor. The scaling factor can either be a single floating point value, or multiple values - one along each axis.\n",
    "colormap = cm.hsv\n",
    "norm = Normalize()\n",
    "\n",
    "import pydicom\n",
    "from scipy.ndimage import morphology\n",
    "\n",
    "from torch.nn import MSELoss\n",
    "from viu.io import volume\n",
    "from viu.io.volume import read_volume\n",
    "from viu.torch.deformation.fields import DVF, set_identity_mapping_cache\n",
    "from viu.torch.io.deformation import *\n",
    "from viu.util.body_mask import seg_body\n",
    "from viu.util.memory import fmt_mem_size\n",
    "from viu.util.config import json_config\n",
    "from viu.torch.visualization.ortho_utils import save_ortho_views #from pamomo.visualization.ortho_utils import save_ortho_views\n",
    "from viu.torch.measure.voi import measure_voi_list\n",
    "\n",
    "from pamomo.pca.cmo_pca import CMoPCA\n",
    "from pamomo.registration.deformable import reg, force_unload\n",
    "from pamomo.visualization.cmo_pca_plots import *\n",
    "from pamomo.metrices.residual_deformation import *"
   ]
  },
  {
   "cell_type": "code",
   "execution_count": 2,
   "metadata": {},
   "outputs": [],
   "source": [
    "from exampleUtils import *\n",
    "mse = MSELoss()"
   ]
  },
  {
   "cell_type": "markdown",
   "metadata": {},
   "source": [
    "##### Helper function"
   ]
  },
  {
   "cell_type": "code",
   "execution_count": 3,
   "metadata": {},
   "outputs": [],
   "source": [
    "#Move to exampleUtils\n",
    "# def saveOriginalAndCoronalTiff(vols, hdfFilePath):\n",
    "#     # https://forum.image.sc/t/saving-an-nd-image-with-pyimagej/52497/2\n",
    "#     # tifffile directly or via scikit-image works great for such cases. Here you first have to re-arrange your \n",
    "#     # dimensions to ZCYX order and then use tifffile.imwrite:\n",
    "#     import tifffile\n",
    "#     tiffFilePath = hdfFilePath.replace('.hdf', '.tiff')\n",
    "#     tifffile.imwrite(tiffFilePath, np.moveaxis(vols, 0,1), imagej=True, metadata={'axes': 'ZCYX'})\n",
    "#     tiffFilePath_coronal = hdfFilePath.replace('.hdf', '_coronal.tiff')\n",
    "#     tifffile.imwrite(tiffFilePath_coronal, np.flip(vols.transpose((3,0,1,2)),axis=2), imagej=True, metadata={'axes': 'ZCYX'})\n"
   ]
  },
  {
   "cell_type": "code",
   "execution_count": 4,
   "metadata": {},
   "outputs": [],
   "source": [
    "#Move to exampleUtils\n",
    "# def read_pca_write_ycomp(pca_fn,  prefilter):\n",
    "#     import tifffile\n",
    "#     pca = CMoPCA(example_msk=vol_idx_msk,prefilter=prefilter)\n",
    "#     pca_mean, pca_res, pca_pos = pca.read(pca_fn, device='cuda')\n",
    "#     print(f'pca_mean type {pca_mean.type} shape {pca_mean.shape} dtype {pca_mean.dtype} device {pca_mean.device}')\n",
    "#     print(f'pca_res shape {pca_res.shape} dtype {pca_res.dtype} ')\n",
    "#     print(f'pca_pos shape {pca_pos.shape} dtype {pca_pos.dtype} ')\n",
    "#     pca_u=pca.u\n",
    "#     print(f'pca_u type {pca_u.type} shape {pca_u.shape} dtype {pca_u.dtype} device {pca_u.device}')\n",
    "#     pca_s=pca.s\n",
    "#     print(f'pca_s type {pca_s.type} shape {pca_s.shape} dtype {pca_s.dtype} device {pca_s.device}')\n",
    "#     pca_vt=pca.vt\n",
    "#     print(f'pca_vt type {pca_vt.type} shape {pca_vt.shape} dtype {pca_vt.dtype} device {pca_vt.device}')\n",
    "#     pca_all_comp_channel_y = pca_u[:,:,:,:,1].cpu().numpy()\n",
    "#     print(f'pca_all_comp_channel_y shape {pca_all_comp_channel_y.shape} dtype {pca_all_comp_channel_y.dtype} ')\n",
    "#     pca_all_comp_channel_y_coronal_tiffFilePath = pca_fn.replace('.hdf', '_pca_all_comp_channel_y_coronal.tiff')\n",
    "#     tifffile.imwrite(pca_all_comp_channel_y_coronal_tiffFilePath, np.flip(pca_all_comp_channel_y.transpose((3,0,1,2)),axis=2), imagej=True, metadata={'axes': 'ZCYX'})"
   ]
  },
  {
   "cell_type": "markdown",
   "metadata": {},
   "source": [
    "##### Choose patient"
   ]
  },
  {
   "cell_type": "code",
   "execution_count": 4,
   "metadata": {},
   "outputs": [
    {
     "name": "stdout",
     "output_type": "stream",
     "text": [
      "patientMRN Patient07PB\n",
      "currentDirOptionsKey config01\n",
      "tiffNotSaved False\n"
     ]
    }
   ],
   "source": [
    "# workingFolderParent = '/home/wd974888/Downloads'\n",
    "tmpWorkingFolder = '/home/wd974888/Downloads/tmpPCAResults'\n",
    "patiendId = 7 #in range(8,9): #range(1,12) #range(1,12) #Use <truncateDepth_initial, final> : Pat01:<75, 50>;  Pat04:<0, 0>; Pat07:<95, 95>; Pat09:<200, 100>;\n",
    "binningType = 'PB' # in ['AB']: #['AB', 'PB']\n",
    "patientMRN = f'Patient{patiendId:02d}{binningType}'\n",
    "print(f'patientMRN {patientMRN}')\n",
    "truncateDepth_initial=95\n",
    "truncateDepth_final=95\n",
    "currentDirOptionsKey = f\"config01\" #in [f\"config{i:02d}\" for i in range(10,11)]: #[f\"config{i:02d}\" for i in range(1,11)]\n",
    "print(f'currentDirOptionsKey {currentDirOptionsKey}')\n",
    "tiffNotSaved=False\n",
    "print(f'tiffNotSaved {tiffNotSaved}')"
   ]
  },
  {
   "cell_type": "markdown",
   "metadata": {},
   "source": [
    "##### Get all path"
   ]
  },
  {
   "cell_type": "code",
   "execution_count": 6,
   "metadata": {},
   "outputs": [
    {
     "name": "stdout",
     "output_type": "stream",
     "text": [
      "org_vols_hdf_path /home/wd974888/Downloads/tmpPCAResults/Patient07PB/Patient07PB_test_vols.hdf exists:True\n",
      "Interpol hardcoded cache file name: /home/wd974888/Downloads/tmpPCAResults/Patient07PB/Cache/Interpol_config01_Patient07PB_test_pca.pt exists:True\n",
      "functional_pca_fn: /home/wd974888/Downloads/tmpPCAResults/Patient07PB/Functional_config01_Patient07PB_test_pca.hdf exists:True\n",
      "functional_reconstructedVol_fn: /home/wd974888/Downloads/tmpPCAResults/Patient07PB/Functional_config01_Patient07PB_reconstructed_vols.hdf exists:True\n",
      "intFuncMixed_pca_fn: /home/wd974888/Downloads/tmpPCAResults/Patient07PB/IntFuncMixed_config01_Patient07PB_test_pca.hdf exists:True\n",
      "intFuncMixed_reconstructedVol_fn: /home/wd974888/Downloads/tmpPCAResults/Patient07PB/IntFuncMixed_config01_Patient07PB_reconstructed_vols.hdf exists:True\n",
      "interpol_pca_fn: /home/wd974888/Downloads/tmpPCAResults/Patient07PB/Interpol_config01_Patient07PB_test_pca.hdf exists:True\n",
      "interpol_reconstructedVol_fn: /home/wd974888/Downloads/tmpPCAResults/Patient07PB/Interpol_config01_Patient07PB_reconstructed_vols.hdf exists:True\n"
     ]
    }
   ],
   "source": [
    "#Get all the paths\n",
    "\n",
    "# org_vols_hdf_path = f'{workingFolderParent}/workingFolder/DeformationExperiment/PCA/{patientMRN}/{patientMRN}_test_vols.hdf'\n",
    "org_vols_hdf_path = f'{tmpWorkingFolder}/{patientMRN}/{patientMRN}_test_vols.hdf'\n",
    "print(f'org_vols_hdf_path {org_vols_hdf_path} exists:{os.path.exists(org_vols_hdf_path)}')\n",
    "\n",
    "# cache_fn =  f'{workingFolderParent}/workingFolder/DeformationExperiment/PCA/{patientMRN}/Cache/Interpol_{currentDirOptionsKey}_{patientMRN}_test_pca.pt'\n",
    "cache_fn =  f'{tmpWorkingFolder}/{patientMRN}/Cache/Interpol_{currentDirOptionsKey}_{patientMRN}_test_pca.pt'\n",
    "print(f'Interpol hardcoded cache file name: {cache_fn} exists:{os.path.exists(cache_fn)}')\n",
    "\n",
    "# functional_pca_fn = f'{workingFolderParent}/workingFolder/DeformationExperiment/PCA/{patientMRN}/Functional_{currentDirOptionsKey}_{patientMRN}_test_pca.hdf'\n",
    "functional_pca_fn = f'{tmpWorkingFolder}/{patientMRN}/Functional_{currentDirOptionsKey}_{patientMRN}_test_pca.hdf'\n",
    "print(f'functional_pca_fn: {functional_pca_fn} exists:{os.path.exists(functional_pca_fn)}')\n",
    "\n",
    "# functional_reconstructedVol_fn = f'{workingFolderParent}/workingFolder/DeformationExperiment/PCA/{patientMRN}/Functional_{currentDirOptionsKey}_{patientMRN}_reconstructed_vols.hdf'\n",
    "functional_reconstructedVol_fn = f'{tmpWorkingFolder}/{patientMRN}/Functional_{currentDirOptionsKey}_{patientMRN}_reconstructed_vols.hdf'\n",
    "print(f'functional_reconstructedVol_fn: {functional_reconstructedVol_fn} exists:{os.path.exists(functional_reconstructedVol_fn)}')\n",
    "\n",
    "# intFuncMixed_pca_fn = f'{workingFolderParent}/workingFolder/DeformationExperiment/PCA/{patientMRN}/IntFuncMixed_{currentDirOptionsKey}_{patientMRN}_test_pca.hdf'\n",
    "intFuncMixed_pca_fn = f'{tmpWorkingFolder}/{patientMRN}/IntFuncMixed_{currentDirOptionsKey}_{patientMRN}_test_pca.hdf'\n",
    "print(f'intFuncMixed_pca_fn: {intFuncMixed_pca_fn} exists:{os.path.exists(intFuncMixed_pca_fn)}')\n",
    "\n",
    "# intFuncMixed_reconstructedVol_fn = f'{workingFolderParent}/workingFolder/DeformationExperiment/PCA/{patientMRN}/IntFuncMixed_{currentDirOptionsKey}_{patientMRN}_reconstructed_vols.hdf'\n",
    "intFuncMixed_reconstructedVol_fn = f'{tmpWorkingFolder}/{patientMRN}/IntFuncMixed_{currentDirOptionsKey}_{patientMRN}_reconstructed_vols.hdf'\n",
    "print(f'intFuncMixed_reconstructedVol_fn: {intFuncMixed_reconstructedVol_fn} exists:{os.path.exists(intFuncMixed_reconstructedVol_fn)}')\n",
    "\n",
    "# interpol_pca_fn = f'{workingFolderParent}/workingFolder/DeformationExperiment/PCA/{patientMRN}/Interpol_{currentDirOptionsKey}_{patientMRN}_test_pca.hdf'\n",
    "interpol_pca_fn = f'{tmpWorkingFolder}/{patientMRN}/Interpol_{currentDirOptionsKey}_{patientMRN}_test_pca.hdf'\n",
    "print(f'interpol_pca_fn: {interpol_pca_fn} exists:{os.path.exists(interpol_pca_fn)}')\n",
    "\n",
    "# interpol_reconstructedVol_fn = f'{workingFolderParent}/workingFolder/DeformationExperiment/PCA/{patientMRN}/Interpol_{currentDirOptionsKey}_{patientMRN}_reconstructed_vols.hdf'\n",
    "interpol_reconstructedVol_fn = f'{tmpWorkingFolder}/{patientMRN}/Interpol_{currentDirOptionsKey}_{patientMRN}_reconstructed_vols.hdf'\n",
    "print(f'interpol_reconstructedVol_fn: {interpol_reconstructedVol_fn} exists:{os.path.exists(interpol_reconstructedVol_fn)}')\n"
   ]
  },
  {
   "cell_type": "markdown",
   "metadata": {},
   "source": [
    "##### Read all volumes"
   ]
  },
  {
   "cell_type": "code",
   "execution_count": 7,
   "metadata": {},
   "outputs": [
    {
     "name": "stdout",
     "output_type": "stream",
     "text": [
      "############ Reading org_vols_hdf ##########\n",
      "vols_o shape (10, 331, 512, 512) dtype float32 min -1507.0 max 9116.0\n",
      "res_o [0.9765625 0.9765625 1.       ]\n",
      "pos_o [ 1.7187500e-03 -1.9849828e+02 -3.8400002e+01]\n",
      "############ Reading cache_fn ##########\n",
      "vols shape torch.Size([10, 331, 512, 512]) dtype torch.float32 device cpu  min -1507.0 max 9116.0\n",
      "res [0.9765625 0.9765625 1.       ]\n",
      "pos [ 1.71875000e-03 -1.98498281e+02 -3.84000000e+01]\n",
      "dvfs shape torch.Size([1, 10, 166, 256, 256, 3]) dtype torch.float32 device cpu min DVF(-0.0810) max DVF(0.0618)\n",
      "dvf_res tensor([1.9570, 1.9570, 2.0000], dtype=torch.float64)\n",
      "dvf_pos tensor([0., 0., 0.], dtype=torch.float64)\n",
      "############ Reading functional_reconstructed_vols ##########\n",
      "functional_reconstructed_vols shape (10, 331, 512, 512) dtype float32   min -1681.77001953125 max 8625.8046875\n",
      "functional_reconstructed_res [0.9765625 0.9765625 1.       ]\n",
      "functional_reconstructed_pos [ 1.7187500e-03 -1.9849828e+02 -3.8400002e+01]\n",
      "############ Reading intFuncMixed_reconstructed_vols ##########\n",
      "intFuncMixed_reconstructed_vols shape (10, 331, 512, 512) dtype float32   min -2118.4677734375 max 9816.2724609375\n",
      "intFuncMixed_reconstructed_res [0.9765625 0.9765625 1.       ]\n",
      "intFuncMixed_reconstructed_pos [ 1.7187500e-03 -1.9849828e+02 -3.8400002e+01]\n",
      "############ Reading interpol_reconstructed_vols ##########\n",
      "interpol_reconstructed_vols shape (10, 331, 512, 512) dtype float32   min -1523.3284912109375 max 7500.0791015625\n",
      "interpol_reconstructed_res [0.9765625 0.9765625 1.       ]\n",
      "interpol_reconstructed_pos [ 1.7187500e-03 -1.9849828e+02 -3.8400002e+01]\n"
     ]
    }
   ],
   "source": [
    "print(f\"############ Reading org_vols_hdf ##########\")\n",
    "vols_o, res_o, pos_o = volume.read_volume(org_vols_hdf_path , hdf_ds_name='volumes')\n",
    "print(f'vols_o shape {vols_o.shape} dtype {vols_o.dtype} min {np.min(vols_o)} max {np.max(vols_o)}')\n",
    "print(f'res_o {res_o}')\n",
    "print(f'pos_o {pos_o}')\n",
    "\n",
    "print(f\"############ Reading cache_fn ##########\")\n",
    "vols, dvfs, res, pos, dvf_res, dvf_pos, msks, vol_idx_msk = torch.load(cache_fn)\n",
    "print(f'vols shape {vols.shape} dtype {vols.dtype} device {vols.device}  min {torch.min(vols)} max {torch.max(vols)}') #\n",
    "print(f'res {res}')\n",
    "print(f'pos {pos}')\n",
    "print(f'dvfs shape {dvfs.shape} dtype {dvfs.dtype} device {dvfs.device} min {torch.min(dvfs)} max {torch.max(dvfs)}') #\n",
    "print(f'dvf_res {dvf_res}')\n",
    "print(f'dvf_pos {dvf_pos}')\n",
    "\n",
    "print(f\"############ Reading functional_reconstructed_vols ##########\")\n",
    "functional_reconstructed_vols, functional_reconstructed_res, functional_reconstructed_pos = volume.read_volume(functional_reconstructedVol_fn, hdf_ds_name='volumes')\n",
    "print(f'functional_reconstructed_vols shape {functional_reconstructed_vols.shape} dtype {functional_reconstructed_vols.dtype}   min {np.min(functional_reconstructed_vols)} max {np.max(functional_reconstructed_vols)}') #\n",
    "print(f'functional_reconstructed_res {functional_reconstructed_res}')\n",
    "print(f'functional_reconstructed_pos {functional_reconstructed_pos}')\n",
    "# reconstructed_vols=torch.tensor(reconstructed_vols, device=vols.device)\n",
    "\n",
    "print(f\"############ Reading intFuncMixed_reconstructed_vols ##########\")\n",
    "intFuncMixed_reconstructed_vols, intFuncMixed_reconstructed_res, intFuncMixed_reconstructed_pos = volume.read_volume(intFuncMixed_reconstructedVol_fn, hdf_ds_name='volumes')\n",
    "print(f'intFuncMixed_reconstructed_vols shape {intFuncMixed_reconstructed_vols.shape} dtype {intFuncMixed_reconstructed_vols.dtype}   min {np.min(intFuncMixed_reconstructed_vols)} max {np.max(intFuncMixed_reconstructed_vols)}') #\n",
    "print(f'intFuncMixed_reconstructed_res {intFuncMixed_reconstructed_res}')\n",
    "print(f'intFuncMixed_reconstructed_pos {intFuncMixed_reconstructed_pos}')\n",
    "\n",
    "print(f\"############ Reading interpol_reconstructed_vols ##########\")\n",
    "interpol_reconstructed_vols, interpol_reconstructed_res, interpol_reconstructed_pos = volume.read_volume(interpol_reconstructedVol_fn, hdf_ds_name='volumes')\n",
    "print(f'interpol_reconstructed_vols shape {interpol_reconstructed_vols.shape} dtype {interpol_reconstructed_vols.dtype}   min {np.min(interpol_reconstructed_vols)} max {np.max(interpol_reconstructed_vols)}') #\n",
    "print(f'interpol_reconstructed_res {interpol_reconstructed_res}')\n",
    "print(f'interpol_reconstructed_pos {interpol_reconstructed_pos}')\n"
   ]
  },
  {
   "cell_type": "markdown",
   "metadata": {},
   "source": [
    "##### Display one bin of vols"
   ]
  },
  {
   "cell_type": "code",
   "execution_count": 8,
   "metadata": {},
   "outputs": [
    {
     "data": {
      "application/vnd.jupyter.widget-view+json": {
       "model_id": "8c03ee6e374e419682994c353e156d47",
       "version_major": 2,
       "version_minor": 0
      },
      "text/plain": [
       "interactive(children=(Output(),), _dom_classes=('widget-interact',))"
      ]
     },
     "metadata": {},
     "output_type": "display_data"
    },
    {
     "data": {
      "text/plain": [
       "<exampleUtils.v1_volumeComparisonViewer3D at 0x7f5b8847ed60>"
      ]
     },
     "execution_count": 8,
     "metadata": {},
     "output_type": "execute_result"
    }
   ],
   "source": [
    "# Let us display one bin\n",
    "from exampleUtils import *\n",
    "display_vol = vols[0,...].cpu().numpy()\n",
    "v1_volumeComparisonViewer3D(\n",
    "    listVolumes=[display_vol],listLabels=[f'{patientMRN}_bin00'],\n",
    "    maxZ0=display_vol.shape[0], maxZ1=display_vol.shape[1], maxZ2=display_vol.shape[2],\n",
    "    figsize=(12,8), cmap='gray',\n",
    "    displayColorbar=False, useExternalWindowCenter=True, wMin=-500, wMax=500, useAspectCol=False)"
   ]
  },
  {
   "cell_type": "markdown",
   "metadata": {},
   "source": [
    "##### Save tiff format of volumes in original and in coronal view"
   ]
  },
  {
   "cell_type": "code",
   "execution_count": 9,
   "metadata": {},
   "outputs": [
    {
     "name": "stdout",
     "output_type": "stream",
     "text": [
      "Tiffs are already saved.\n"
     ]
    }
   ],
   "source": [
    "if tiffNotSaved:\n",
    "    print(f\"############ Saving tiff of original bins ##########\")\n",
    "    saveOriginalAndCoronalTiff(vols=vols_o, hdfFilePath=org_vols_hdf_path)\n",
    "    print(f\"############ Saving tiff of functional_reconstructed bins ##########\")\n",
    "    saveOriginalAndCoronalTiff(vols=functional_reconstructed_vols, hdfFilePath=functional_reconstructedVol_fn)\n",
    "    print(f\"############ Saving tiff of intFuncMixed_reconstructed bins ##########\")\n",
    "    saveOriginalAndCoronalTiff(vols=intFuncMixed_reconstructed_vols, hdfFilePath=intFuncMixed_reconstructedVol_fn)\n",
    "    print(f\"############ Saving tiff of interpol_reconstructed bins ##########\")\n",
    "    saveOriginalAndCoronalTiff(vols=interpol_reconstructed_vols, hdfFilePath=interpol_reconstructedVol_fn)\n",
    "else:\n",
    "    print(f'Tiffs are already saved.')"
   ]
  },
  {
   "cell_type": "markdown",
   "metadata": {},
   "source": [
    "##### Read (few) PCA components computed using functional and interpol warping and save y components as Tiff "
   ]
  },
  {
   "cell_type": "code",
   "execution_count": 10,
   "metadata": {},
   "outputs": [
    {
     "name": "stdout",
     "output_type": "stream",
     "text": [
      "Read CMoPCA from /home/wd974888/Downloads/tmpPCAResults/Patient07PB/Functional_config01_Patient07PB_test_pca.hdf ...\n",
      "  mean volume ...\n"
     ]
    },
    {
     "name": "stdout",
     "output_type": "stream",
     "text": [
      "  principal components ...\n",
      "  sigma and coefficients ...\n",
      "pca_mean type <built-in method type of Tensor object at 0x7f5c5cb2b5e0> shape torch.Size([331, 512, 512]) dtype torch.float32 device cuda:0\n",
      "pca_res shape (3,) dtype float32 \n",
      "pca_pos shape (3,) dtype float32 \n",
      "pca_u type <built-in method type of DVF object at 0x7f5b8800b9f0> shape torch.Size([9, 331, 512, 512, 3]) dtype torch.float32 device cuda:0\n",
      "pca_s type <built-in method type of Tensor object at 0x7f5c5cb987c0> shape torch.Size([9]) dtype torch.float32 device cuda:0\n",
      "pca_vt type <built-in method type of Tensor object at 0x7f5c5cb907c0> shape torch.Size([10, 9]) dtype torch.float32 device cuda:0\n",
      "pca_all_comp_channel_y shape (9, 331, 512, 512) dtype float32 \n",
      "Read CMoPCA from /home/wd974888/Downloads/tmpPCAResults/Patient07PB/IntFuncMixed_config01_Patient07PB_test_pca.hdf ...\n",
      "  mean volume ...\n",
      "  principal components ...\n",
      "  sigma and coefficients ...\n",
      "pca_mean type <built-in method type of Tensor object at 0x7f5c5cbdc400> shape torch.Size([331, 512, 512]) dtype torch.float32 device cuda:0\n",
      "pca_res shape (3,) dtype float32 \n",
      "pca_pos shape (3,) dtype float32 \n",
      "pca_u type <built-in method type of DVF object at 0x7f5b8800b9f0> shape torch.Size([9, 331, 512, 512, 3]) dtype torch.float32 device cuda:0\n",
      "pca_s type <built-in method type of Tensor object at 0x7f5b88468bd0> shape torch.Size([9]) dtype torch.float32 device cuda:0\n",
      "pca_vt type <built-in method type of Tensor object at 0x7f5c5cb2b5e0> shape torch.Size([10, 9]) dtype torch.float32 device cuda:0\n",
      "pca_all_comp_channel_y shape (9, 331, 512, 512) dtype float32 \n",
      "Read CMoPCA from /home/wd974888/Downloads/tmpPCAResults/Patient07PB/Interpol_config01_Patient07PB_test_pca.hdf ...\n",
      "  mean volume ...\n",
      "  principal components ...\n",
      "  sigma and coefficients ...\n",
      "pca_mean type <built-in method type of Tensor object at 0x7f5c5cb987c0> shape torch.Size([331, 512, 512]) dtype torch.float32 device cuda:0\n",
      "pca_res shape (3,) dtype float32 \n",
      "pca_pos shape (3,) dtype float32 \n",
      "pca_u type <built-in method type of DVF object at 0x7f5b88468c20> shape torch.Size([9, 331, 512, 512, 3]) dtype torch.float32 device cuda:0\n",
      "pca_s type <built-in method type of Tensor object at 0x7f5b88009ef0> shape torch.Size([9]) dtype torch.float32 device cuda:0\n",
      "pca_vt type <built-in method type of Tensor object at 0x7f5c5cb907c0> shape torch.Size([10, 9]) dtype torch.float32 device cuda:0\n",
      "pca_all_comp_channel_y shape (9, 331, 512, 512) dtype float32 \n"
     ]
    }
   ],
   "source": [
    "read_pca_write_ycomp(pca_fn=functional_pca_fn, vol_idx_msk=vol_idx_msk, prefilter=False)\n",
    "read_pca_write_ycomp(pca_fn=intFuncMixed_pca_fn, vol_idx_msk=vol_idx_msk,  prefilter=True)\n",
    "read_pca_write_ycomp(pca_fn=interpol_pca_fn, vol_idx_msk=vol_idx_msk, prefilter=True)\n"
   ]
  },
  {
   "cell_type": "code",
   "execution_count": 11,
   "metadata": {},
   "outputs": [],
   "source": [
    "# functional_pca_fn: /home/wd974888/Downloads/tmpPCAResults/Patient09PB/Functional_config01_Patient09PB_test_pca.hdf exists:True\n",
    "# intFuncMixed_pca_fn: /home/wd974888/Downloads/tmpPCAResults/Patient09PB/IntFuncMixed_config01_Patient09PB_test_pca.hdf exists:True\n",
    "# interpol_pca_fn: /home/wd974888/Downloads/tmpPCAResults/Patient09PB/Interpol_config01_Patient09PB_test_pca.hdf exists:True"
   ]
  }
 ],
 "metadata": {
  "kernelspec": {
   "display_name": "testVIU",
   "language": "python",
   "name": "python3"
  },
  "language_info": {
   "codemirror_mode": {
    "name": "ipython",
    "version": 3
   },
   "file_extension": ".py",
   "mimetype": "text/x-python",
   "name": "python",
   "nbconvert_exporter": "python",
   "pygments_lexer": "ipython3",
   "version": "3.9.18"
  }
 },
 "nbformat": 4,
 "nbformat_minor": 2
}
