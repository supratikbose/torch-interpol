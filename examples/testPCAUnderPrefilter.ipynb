{
 "cells": [
  {
   "cell_type": "code",
   "execution_count": 1,
   "metadata": {},
   "outputs": [],
   "source": [
    "#Adapted from   /mnt/data/supratik/demonstrateDIR/v2_evalDIRParamDataGeneration.py\n",
    "import argparse\n",
    "from argparse import Namespace\n",
    "import os\n",
    "import re\n",
    "from functools import reduce\n",
    "from glob import glob\n",
    "from time import sleep\n",
    "import json\n",
    "import csv\n",
    "import nibabel as nib\n",
    "\n",
    "import imageio #Bose: Imageio is a Python library that provides an easy interface to read and write a wide range of image data, including animated images, volumetric data\n",
    "import matplotlib.pyplot as plt\n",
    "import matplotlib.cm as cm #Bose: matplotlib colormaps and functions\n",
    "from matplotlib.cm import get_cmap\n",
    "from matplotlib.colors import Normalize #Bose: The matplotlib.colors module is used for converting color or numbers arguments to RGBA or RGB.This module is used for mapping numbers to colors or color specification conversion in a 1-D array of colors also known as colormap.And Normalize class is used to normalize data into the interval of [0.0, 1.0].\n",
    "from skimage.segmentation import mark_boundaries #Bose: Return image with boundaries between labeled regions highlighted\n",
    "from skimage.transform import rescale #Bose: Rescale operation resizes an image by a given scaling factor. The scaling factor can either be a single floating point value, or multiple values - one along each axis.\n",
    "colormap = cm.hsv\n",
    "norm = Normalize()\n",
    "\n",
    "import pydicom\n",
    "from scipy.ndimage import morphology\n",
    "\n",
    "from torch.nn import MSELoss\n",
    "from viu.io import volume\n",
    "from viu.io.volume import read_volume\n",
    "from viu.torch.deformation.fields import DVF, set_identity_mapping_cache\n",
    "from viu.torch.io.deformation import *\n",
    "from viu.util.body_mask import seg_body\n",
    "from viu.util.memory import fmt_mem_size\n",
    "from viu.util.config import json_config\n",
    "from viu.torch.visualization.ortho_utils import save_ortho_views #from pamomo.visualization.ortho_utils import save_ortho_views\n",
    "from viu.torch.measure.voi import measure_voi_list\n",
    "\n",
    "from pamomo.pca.cmo_pca import CMoPCA\n",
    "from pamomo.registration.deformable import reg, force_unload\n",
    "from pamomo.visualization.cmo_pca_plots import *\n",
    "from pamomo.metrices.residual_deformation import *"
   ]
  },
  {
   "cell_type": "code",
   "execution_count": 2,
   "metadata": {},
   "outputs": [],
   "source": [
    "from exampleUtils import *\n",
    "mse = MSELoss()"
   ]
  },
  {
   "cell_type": "code",
   "execution_count": 3,
   "metadata": {},
   "outputs": [
    {
     "name": "stdout",
     "output_type": "stream",
     "text": [
      "patientMRN Patient01PB\n",
      "currentDirOptionsKey config01\n"
     ]
    }
   ],
   "source": [
    "workingFolderParent = '/home/wd974888/Downloads'\n",
    "patiendId = 1 #in range(8,9): #range(1,12) #range(1,12) #Use <truncateDepth_initial, final> : Pat01:<75, 50>;  Pat04:<0, 0>; Pat07:<95, 95>; Pat09:<200, 100>;\n",
    "binningType = 'PB' # in ['AB']: #['AB', 'PB']\n",
    "patientMRN = f'Patient{patiendId:02d}{binningType}'\n",
    "print(f'patientMRN {patientMRN}')\n",
    "truncateDepth_initial=75\n",
    "truncateDepth_final=50\n",
    "currentDirOptionsKey = f\"config01\" #in [f\"config{i:02d}\" for i in range(10,11)]: #[f\"config{i:02d}\" for i in range(1,11)]\n",
    "print(f'currentDirOptionsKey {currentDirOptionsKey}')"
   ]
  },
  {
   "cell_type": "code",
   "execution_count": 4,
   "metadata": {},
   "outputs": [
    {
     "name": "stdout",
     "output_type": "stream",
     "text": [
      "org_vols_hdf_path /home/wd974888/Downloads/workingFolder/DeformationExperiment/PCA/Patient01PB/Patient01PB_test_vols.hdf exists:True\n",
      "Interpol hardcoded cache file name: /home/wd974888/Downloads/workingFolder/DeformationExperiment/PCA/Patient01PB/Cache/Interpol_config01_Patient01PB_test_pca.pt exists:True\n",
      "functional_pca_fn: /home/wd974888/Downloads/workingFolder/DeformationExperiment/PCA/Patient01PB/Functional_config01_Patient01PB_test_pca.hdf exists:True\n",
      "functional_reconstructedVol_fn: /home/wd974888/Downloads/workingFolder/DeformationExperiment/PCA/Patient01PB/Functional_config01_Patient01PB_reconstructed_vols.hdf exists:False\n",
      "intFuncMixed_pca_fn: /home/wd974888/Downloads/workingFolder/DeformationExperiment/PCA/Patient01PB/IntFuncMixed_config01_Patient01PB_test_pca.hdf exists:True\n",
      "intFuncMixed_reconstructedVol_fn: /home/wd974888/Downloads/workingFolder/DeformationExperiment/PCA/Patient01PB/IntFuncMixed_config01_Patient01PB_reconstructed_vols.hdf exists:False\n",
      "interpol_pca_fn: /home/wd974888/Downloads/workingFolder/DeformationExperiment/PCA/Patient01PB/Interpol_config01_Patient01PB_test_pca.hdf exists:True\n",
      "interpol_reconstructedVol_fn: /home/wd974888/Downloads/workingFolder/DeformationExperiment/PCA/Patient01PB/Interpol_config01_Patient01PB_reconstructed_vols.hdf exists:False\n"
     ]
    }
   ],
   "source": [
    "#Get all the paths\n",
    "\n",
    "org_vols_hdf_path = f'{workingFolderParent}/workingFolder/DeformationExperiment/PCA/{patientMRN}/{patientMRN}_test_vols.hdf'\n",
    "print(f'org_vols_hdf_path {org_vols_hdf_path} exists:{os.path.exists(org_vols_hdf_path)}')\n",
    "\n",
    "cache_fn =  f'{workingFolderParent}/workingFolder/DeformationExperiment/PCA/{patientMRN}/Cache/Interpol_{currentDirOptionsKey}_{patientMRN}_test_pca.pt'\n",
    "print(f'Interpol hardcoded cache file name: {cache_fn} exists:{os.path.exists(cache_fn)}')\n",
    "\n",
    "functional_pca_fn = f'{workingFolderParent}/workingFolder/DeformationExperiment/PCA/{patientMRN}/Functional_{currentDirOptionsKey}_{patientMRN}_test_pca.hdf'\n",
    "print(f'functional_pca_fn: {functional_pca_fn} exists:{os.path.exists(functional_pca_fn)}')\n",
    "\n",
    "functional_reconstructedVol_fn = f'{workingFolderParent}/workingFolder/DeformationExperiment/PCA/{patientMRN}/Functional_{currentDirOptionsKey}_{patientMRN}_reconstructed_vols.hdf'\n",
    "print(f'functional_reconstructedVol_fn: {functional_reconstructedVol_fn} exists:{os.path.exists(functional_reconstructedVol_fn)}')\n",
    "\n",
    "intFuncMixed_pca_fn = f'{workingFolderParent}/workingFolder/DeformationExperiment/PCA/{patientMRN}/IntFuncMixed_{currentDirOptionsKey}_{patientMRN}_test_pca.hdf'\n",
    "print(f'intFuncMixed_pca_fn: {intFuncMixed_pca_fn} exists:{os.path.exists(intFuncMixed_pca_fn)}')\n",
    "\n",
    "intFuncMixed_reconstructedVol_fn = f'{workingFolderParent}/workingFolder/DeformationExperiment/PCA/{patientMRN}/IntFuncMixed_{currentDirOptionsKey}_{patientMRN}_reconstructed_vols.hdf'\n",
    "print(f'intFuncMixed_reconstructedVol_fn: {intFuncMixed_reconstructedVol_fn} exists:{os.path.exists(intFuncMixed_reconstructedVol_fn)}')\n",
    "\n",
    "interpol_pca_fn = f'{workingFolderParent}/workingFolder/DeformationExperiment/PCA/{patientMRN}/Interpol_{currentDirOptionsKey}_{patientMRN}_test_pca.hdf'\n",
    "print(f'interpol_pca_fn: {interpol_pca_fn} exists:{os.path.exists(interpol_pca_fn)}')\n",
    "\n",
    "interpol_reconstructedVol_fn = f'{workingFolderParent}/workingFolder/DeformationExperiment/PCA/{patientMRN}/Interpol_{currentDirOptionsKey}_{patientMRN}_reconstructed_vols.hdf'\n",
    "print(f'interpol_reconstructedVol_fn: {interpol_reconstructedVol_fn} exists:{os.path.exists(interpol_reconstructedVol_fn)}')\n"
   ]
  },
  {
   "cell_type": "code",
   "execution_count": 5,
   "metadata": {},
   "outputs": [
    {
     "name": "stdout",
     "output_type": "stream",
     "text": [
      "vols_o shape (10, 292, 512, 512) dtype float32 min -8192.0 max 33356.0\n",
      "res_o [0.9765625 0.9765625 1.       ]\n",
      "pos_o [ 1.718750e-03 -2.664983e+02  2.110000e+01]\n"
     ]
    }
   ],
   "source": [
    "vols_o, res_o, pos_o = volume.read_volume(org_vols_hdf_path , hdf_ds_name='volumes')\n",
    "print(f'vols_o shape {vols_o.shape} dtype {vols_o.dtype} min {np.min(vols_o)} max {np.max(vols_o)}')\n",
    "print(f'res_o {res_o}')\n",
    "print(f'pos_o {pos_o}')"
   ]
  },
  {
   "cell_type": "code",
   "execution_count": 8,
   "metadata": {},
   "outputs": [
    {
     "name": "stdout",
     "output_type": "stream",
     "text": [
      "vols shape torch.Size([10, 292, 512, 512]) dtype torch.float32 device cpu  min -8192.0 max 33356.0\n",
      "res [0.9765625 0.9765625 1.       ]\n",
      "pos [ 1.71875000e-03 -2.66498281e+02  2.11000000e+01]\n",
      "dvfs shape torch.Size([1, 10, 146, 256, 256, 3]) dtype torch.float32 device cpu min DVF(-0.0612) max DVF(0.0739)\n",
      "dvf_res tensor([1.9570, 1.9570, 2.0069], dtype=torch.float64)\n",
      "dvf_pos tensor([0., 0., 0.], dtype=torch.float64)\n"
     ]
    }
   ],
   "source": [
    "vols, dvfs, res, pos, dvf_res, dvf_pos, msks, vol_idx_msk = torch.load(cache_fn)\n",
    "print(f'vols shape {vols.shape} dtype {vols.dtype} device {vols.device}  min {torch.min(vols)} max {torch.max(vols)}') #\n",
    "print(f'res {res}')\n",
    "print(f'pos {pos}')\n",
    "print(f'dvfs shape {dvfs.shape} dtype {dvfs.dtype} device {dvfs.device} min {torch.min(dvfs)} max {torch.max(dvfs)}') #\n",
    "print(f'dvf_res {dvf_res}')\n",
    "print(f'dvf_pos {dvf_pos}')"
   ]
  },
  {
   "cell_type": "code",
   "execution_count": 11,
   "metadata": {},
   "outputs": [
    {
     "name": "stdout",
     "output_type": "stream",
     "text": [
      "functional_reconstructed_vols shape (10, 292, 512, 512) dtype float32   min -4717.4619140625 max 32484.1875\n",
      "functional_reconstructed_res [0.9765625 0.9765625 1.       ]\n",
      "functional_reconstructed_pos [ 1.718750e-03 -2.664983e+02  2.110000e+01]\n"
     ]
    }
   ],
   "source": [
    "functional_reconstructed_vols, functional_reconstructed_res, functional_reconstructed_pos = volume.read_volume(functional_reconstructedVol_fn, hdf_ds_name='volumes')\n",
    "print(f'functional_reconstructed_vols shape {functional_reconstructed_vols.shape} dtype {functional_reconstructed_vols.dtype}   min {np.min(functional_reconstructed_vols)} max {np.max(functional_reconstructed_vols)}') #\n",
    "print(f'functional_reconstructed_res {functional_reconstructed_res}')\n",
    "print(f'functional_reconstructed_pos {functional_reconstructed_pos}')\n",
    "# reconstructed_vols=torch.tensor(reconstructed_vols, device=vols.device)"
   ]
  },
  {
   "cell_type": "code",
   "execution_count": 12,
   "metadata": {},
   "outputs": [
    {
     "name": "stdout",
     "output_type": "stream",
     "text": [
      "intFuncMixed_reconstructed_vols shape (10, 292, 512, 512) dtype float32   min -5639.95263671875 max 34518.71875\n",
      "intFuncMixed_reconstructed_res [0.9765625 0.9765625 1.       ]\n",
      "intFuncMixed_reconstructed_pos [ 1.718750e-03 -2.664983e+02  2.110000e+01]\n"
     ]
    }
   ],
   "source": [
    "intFuncMixed_reconstructed_vols, intFuncMixed_reconstructed_res, intFuncMixed_reconstructed_pos = volume.read_volume(intFuncMixed_reconstructedVol_fn, hdf_ds_name='volumes')\n",
    "print(f'intFuncMixed_reconstructed_vols shape {intFuncMixed_reconstructed_vols.shape} dtype {intFuncMixed_reconstructed_vols.dtype}   min {np.min(intFuncMixed_reconstructed_vols)} max {np.max(intFuncMixed_reconstructed_vols)}') #\n",
    "print(f'intFuncMixed_reconstructed_res {intFuncMixed_reconstructed_res}')\n",
    "print(f'intFuncMixed_reconstructed_pos {intFuncMixed_reconstructed_pos}')\n"
   ]
  },
  {
   "cell_type": "code",
   "execution_count": 13,
   "metadata": {},
   "outputs": [
    {
     "name": "stdout",
     "output_type": "stream",
     "text": [
      "interpol_reconstructed_vols shape (10, 292, 512, 512) dtype float32   min -4186.0654296875 max 31961.224609375\n",
      "interpol_reconstructed_res [0.9765625 0.9765625 1.       ]\n",
      "interpol_reconstructed_pos [ 1.718750e-03 -2.664983e+02  2.110000e+01]\n"
     ]
    }
   ],
   "source": [
    "interpol_reconstructed_vols, interpol_reconstructed_res, interpol_reconstructed_pos = volume.read_volume(interpol_reconstructedVol_fn, hdf_ds_name='volumes')\n",
    "print(f'interpol_reconstructed_vols shape {interpol_reconstructed_vols.shape} dtype {interpol_reconstructed_vols.dtype}   min {np.min(interpol_reconstructed_vols)} max {np.max(interpol_reconstructed_vols)}') #\n",
    "print(f'interpol_reconstructed_res {interpol_reconstructed_res}')\n",
    "print(f'interpol_reconstructed_pos {interpol_reconstructed_pos}')"
   ]
  },
  {
   "cell_type": "code",
   "execution_count": null,
   "metadata": {},
   "outputs": [],
   "source": [
    "# Let us display one bin\n",
    "from exampleUtils import *\n",
    "display_vol = vols[0,...].cpu().numpy()\n",
    "v1_volumeComparisonViewer3D(\n",
    "    listVolumes=[display_vol],listLabels=[f'{patientMRN}_bin00'],\n",
    "    maxZ0=display_vol.shape[0], maxZ1=display_vol.shape[1], maxZ2=display_vol.shape[2],\n",
    "    figsize=(12,8), cmap='gray',\n",
    "    displayColorbar=False, useExternalWindowCenter=True, wMin=-500, wMax=500, useAspectCol=False)"
   ]
  }
 ],
 "metadata": {
  "kernelspec": {
   "display_name": "clone2MMIPython",
   "language": "python",
   "name": "python3"
  },
  "language_info": {
   "codemirror_mode": {
    "name": "ipython",
    "version": 3
   },
   "file_extension": ".py",
   "mimetype": "text/x-python",
   "name": "python",
   "nbconvert_exporter": "python",
   "pygments_lexer": "ipython3",
   "version": "3.9.18"
  }
 },
 "nbformat": 4,
 "nbformat_minor": 2
}
