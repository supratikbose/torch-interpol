{
 "cells": [
  {
   "cell_type": "markdown",
   "metadata": {},
   "source": [
    "##### Understand, in 3D context, torch-interpol and torch-functional affine matrix, grid and warping"
   ]
  },
  {
   "cell_type": "markdown",
   "metadata": {},
   "source": [
    "#### Import"
   ]
  },
  {
   "cell_type": "code",
   "execution_count": 1,
   "metadata": {},
   "outputs": [],
   "source": [
    "####![image_info](./dicomCT.png)"
   ]
  },
  {
   "cell_type": "code",
   "execution_count": 2,
   "metadata": {},
   "outputs": [],
   "source": [
    "#Imports\n",
    "import os, sys, json, pathlib, shutil, glob\n",
    "import pandas as pd\n",
    "import csv\n",
    "import SimpleITK as sitk\n",
    "import nibabel as nib\n",
    "import random\n",
    "import math\n",
    "import numpy as np\n",
    "from PIL import Image, ImageFont, ImageDraw\n",
    "\n",
    "import scipy\n",
    "from scipy.io import loadmat\n",
    "from scipy import  signal\n",
    "\n",
    "import matplotlib.pyplot as plt\n",
    "import plotly.graph_objects as go\n",
    "\n",
    "import ipywidgets as widgets\n",
    "from ipywidgets import interactive,interact, interact_manual, HBox, Layout,VBox\n",
    "from IPython.display import display, clear_output\n",
    "\n",
    "import interpol\n",
    "from interpol.api import affine_grid\n",
    "\n",
    "from scipy import ndimage\n",
    "\n",
    "from functools import partial\n",
    "\n",
    "import torch\n",
    "import torch.nn.functional as F\n",
    "from torch.nn import MSELoss\n",
    "from viu.io import volume\n",
    "from viu.io.volume import read_volume\n",
    "from viu.torch.deformation.fields import DVF, set_identity_mapping_cache\n",
    "from viu.torch.io.deformation import *\n",
    "from viu.util.body_mask import seg_body\n",
    "\n",
    "# import ipywidgets as ipyw\n",
    "import ipywidgets as widgets\n",
    "from ipywidgets import interactive,interact, interact_manual, HBox, Layout,VBox\n",
    "from IPython.display import display, clear_output"
   ]
  },
  {
   "cell_type": "code",
   "execution_count": 3,
   "metadata": {},
   "outputs": [],
   "source": [
    "from exampleUtils import *"
   ]
  },
  {
   "cell_type": "code",
   "execution_count": 4,
   "metadata": {},
   "outputs": [],
   "source": [
    "runTestCode_sec1=True\n",
    "runTestCode_sec2=True\n",
    "runTestCode_sec3=True"
   ]
  },
  {
   "cell_type": "markdown",
   "metadata": {},
   "source": [
    "##### Read test volume"
   ]
  },
  {
   "cell_type": "code",
   "execution_count": 5,
   "metadata": {},
   "outputs": [
    {
     "name": "stdout",
     "output_type": "stream",
     "text": [
      "dcmFolder /home/wd974888/Downloads/workingFolder/DeformationExperiment/Patient11AB_bin19\n",
      "vol type <class 'numpy.ndarray'> shape_ZYX (452, 512, 512)       min -1890.0 max 36208.0 \n",
      "res_XYZ type <class 'numpy.ndarray'> value [0.9765625 0.9765625 1.       ] \n",
      "pos_XYZ type <class 'numpy.ndarray'> value [ 1.71875000e-03 -2.09498281e+02 -9.00000000e-01]\n",
      "truncated vol shape_ZYX (452, 512, 488)\n",
      "truncated vol pos_VYZ [ -11.71703125 -209.49828125   -0.9       ]\n"
     ]
    }
   ],
   "source": [
    "# experimentFolder = pathlib.Path('/mnt/data/supratik/diaphragm_detection/data/')\n",
    "experimentFolder = pathlib.Path('/home/wd974888/Downloads/workingFolder/DeformationExperiment/')\n",
    "#experimentFolder = pathlib.Path('/media/data/supratik/workingFolder/DeformationExperiment/demoDataDvfAndPCA/')\n",
    "\n",
    "patientMRN='Patient11AB_bin19'\n",
    "dcmFolder = experimentFolder / patientMRN\n",
    "print(f'dcmFolder {dcmFolder}')\n",
    "vol, res, pos = read_volume(str(dcmFolder))\n",
    "print(f'vol type {(type(vol))} shape_ZYX {vol.shape} \\\n",
    "      min {np.min(vol)} max {np.max(vol)} ')\n",
    "print(f'res_XYZ type {type(res)} value {res} ')\n",
    "print(f'pos_XYZ type {type(pos)} value {pos}')\n",
    "\n",
    "#Make the dimensions unequal to better manifest effect of rotation about\n",
    "# different axis. Truncated volume in the width direction from one side\n",
    "# (not ceneterd).\n",
    "truncation_w = 24\n",
    "vol = vol[:,:,:-truncation_w]\n",
    "#With truncation in X direction, the pos matching the center of the volume\n",
    "# in patient co-ordinate also shifts\n",
    "pos[0] = pos[0] - 0.5*(truncation_w)*res[0]\n",
    "print(f'truncated vol shape_ZYX {vol.shape}')\n",
    "print(f'truncated vol pos_VYZ {pos}')\n",
    "depth, height, width = vol.shape\n"
   ]
  },
  {
   "cell_type": "code",
   "execution_count": 6,
   "metadata": {},
   "outputs": [
    {
     "data": {
      "application/vnd.jupyter.widget-view+json": {
       "model_id": "2bbd2a7bd2414b1fbef2f38363b2d778",
       "version_major": 2,
       "version_minor": 0
      },
      "text/plain": [
       "interactive(children=(Output(),), _dom_classes=('widget-interact',))"
      ]
     },
     "metadata": {},
     "output_type": "display_data"
    },
    {
     "data": {
      "text/plain": [
       "<exampleUtils.v1_volumeComparisonViewer3D at 0x7f2bc1d4c310>"
      ]
     },
     "execution_count": 6,
     "metadata": {},
     "output_type": "execute_result"
    }
   ],
   "source": [
    "v1_volumeComparisonViewer3D(\n",
    "    listVolumes=[vol],listLabels=['original'],\n",
    "    maxZ0=vol.shape[0], maxZ1=vol.shape[1], maxZ2=vol.shape[2],\n",
    "    figsize=(12,8), cmap='gray',\n",
    "    displayColorbar=False, useExternalWindowCenter=True, wMin=-500, wMax=500)"
   ]
  },
  {
   "cell_type": "code",
   "execution_count": 7,
   "metadata": {},
   "outputs": [],
   "source": [
    "align_corners=True\n",
    "device=torch.device('cuda:0')\n",
    "batchSize=1"
   ]
  },
  {
   "cell_type": "code",
   "execution_count": 8,
   "metadata": {},
   "outputs": [
    {
     "name": "stdout",
     "output_type": "stream",
     "text": [
      "vol_tensor shape: torch.Size([1, 1, 452, 512, 488]) device: cuda:0 dtype: torch.float32\n"
     ]
    }
   ],
   "source": [
    "#volume tensor with batch and channel\n",
    "vol_tensor = torch.from_numpy(vol).to(device).unsqueeze(0).unsqueeze(0)\n",
    "printTensor(\"vol_tensor\", vol_tensor)\n"
   ]
  },
  {
   "cell_type": "markdown",
   "metadata": {},
   "source": [
    "identity grid in 2D and in 3D in matrix (ij) and cartesian co-ordinate system"
   ]
  },
  {
   "cell_type": "markdown",
   "metadata": {},
   "source": [
    "identity grid in 2D"
   ]
  },
  {
   "cell_type": "code",
   "execution_count": 9,
   "metadata": {},
   "outputs": [
    {
     "name": "stdout",
     "output_type": "stream",
     "text": [
      "tmp_h 5, tmp_w 6\n",
      "Pass shape [tmp_h 5, tmp_w 6]: tmp_IdGrid_matrix_2d type <class 'numpy.ndarray'> shape (5, 6, 2) dtype float32\n",
      "Pass shape [tmp_h 5, tmp_w 6]: tmp_IdGrid_cartesian_2d type <class 'numpy.ndarray'> shape (6, 5, 2) dtype float32\n"
     ]
    }
   ],
   "source": [
    "if runTestCode_sec1:\n",
    "    tmp_h, tmp_w = 5, 6\n",
    "    print(f'tmp_h {tmp_h}, tmp_w {tmp_w}')\n",
    "    #tmp_h 5, tmp_w 6\n",
    "    tmp_IdGrid_matrix_2d = torch.stack(torch.meshgrid(*[torch.arange(s).float() for s in [tmp_h, tmp_w] ],indexing='ij'), -1).numpy().astype('float32')\n",
    "    print(f'Pass shape [tmp_h {tmp_h}, tmp_w {tmp_w}]: tmp_IdGrid_matrix_2d type {(type(tmp_IdGrid_matrix_2d))} shape {tmp_IdGrid_matrix_2d.shape} dtype {tmp_IdGrid_matrix_2d.dtype}')\n",
    "\n",
    "    tmp_IdGrid_cartesian_2d = torch.stack(torch.meshgrid(*[torch.arange(s).float() for s in [tmp_h, tmp_w] ],indexing='xy'), -1).numpy().astype('float32')\n",
    "    print(f'Pass shape [tmp_h {tmp_h}, tmp_w {tmp_w}]: tmp_IdGrid_cartesian_2d type {(type(tmp_IdGrid_cartesian_2d))} shape {tmp_IdGrid_cartesian_2d.shape} dtype {tmp_IdGrid_cartesian_2d.dtype}')\n"
   ]
  },
  {
   "cell_type": "markdown",
   "metadata": {},
   "source": [
    "identity grid in 3D"
   ]
  },
  {
   "cell_type": "code",
   "execution_count": 10,
   "metadata": {},
   "outputs": [
    {
     "name": "stdout",
     "output_type": "stream",
     "text": [
      "tmp_d 4, tmp_h 5, tmp_w 6\n",
      "Pass shape [tmp_d 4, tmp_h 5, tmp_w 6]: tmp_IdGrid_matrix type <class 'numpy.ndarray'> shape (4, 5, 6, 3) dtype float32\n",
      "Pass shape [tmp_d 4, tmp_h 5, tmp_w 6]: tmp_IdGrid_cartesian type <class 'numpy.ndarray'> shape (5, 4, 6, 3) dtype float32\n",
      "If we assumed, 1st dim is depth then in generated cartesian mesgrid, 2nd dimension corresponds to depth.\n"
     ]
    }
   ],
   "source": [
    "if runTestCode_sec1:\n",
    "    tmp_d, tmp_h, tmp_w = 4, 5, 6\n",
    "    print(f'tmp_d {tmp_d}, tmp_h {tmp_h}, tmp_w {tmp_w}')\n",
    "    #tmp_d 4, tmp_h 5, tmp_w 6\n",
    "    tmp_IdGrid_matrix = torch.stack(torch.meshgrid(*[torch.arange(s).float() for s in [tmp_d, tmp_h, tmp_w] ],indexing='ij'), -1).numpy().astype('float32')\n",
    "    print(f'Pass shape [tmp_d {tmp_d}, tmp_h {tmp_h}, tmp_w {tmp_w}]: tmp_IdGrid_matrix type {(type(tmp_IdGrid_matrix))} shape {tmp_IdGrid_matrix.shape} dtype {tmp_IdGrid_matrix.dtype}')\n",
    "    # Pass shape [tmp_d 4, tmp_h 5, tmp_w 6]: tmp_IdGrid_matrix type <class 'numpy.ndarray'> shape (4, 5, 6, 3) dtype float32\n",
    "    #tmp_IdGrid_matrix[k,:,:,0]: Channel 0 all elements filled with z-coordinate (namely k) of the slice: for all slice k=0,1,...,toy_d-1 \n",
    "    #tmp_IdGrid_matrix[k,:,:,1]: Channel 1 columns filled with  (i) y-coordinates: all columns  are transpose([0,1,... toy_h-1]), for all slice k=0,1,...,toy_d-1 \n",
    "    #tmp_IdGrid_matrix[k,:,:,2]: Channel 2 rows filled with  (j) x-coordinates:  all rows  are [0,1,... toy_w-1],, for all slice  k=0,1,...,toy_d-1 \n",
    "    tmp_IdGrid_cartesian = torch.stack(torch.meshgrid(*[torch.arange(s).float() for s in [tmp_d, tmp_h, tmp_w] ],indexing='xy'), -1).numpy().astype('float32')\n",
    "    print(f'Pass shape [tmp_d {tmp_d}, tmp_h {tmp_h}, tmp_w {tmp_w}]: tmp_IdGrid_cartesian type {(type(tmp_IdGrid_cartesian))} shape {tmp_IdGrid_cartesian.shape} dtype {tmp_IdGrid_cartesian.dtype}')\n",
    "    # Pass shape [tmp_d 4, tmp_h 5, tmp_w 6]: tmp_IdGrid_cartesian type <class 'numpy.ndarray'> shape (5, 4, 6, 3) dtype float32\n",
    "    print('If we assumed, 1st dim is depth then in generated cartesian mesgrid, 2nd dimension corresponds to depth.')\n",
    "    #If we assumed, 1st dim is depth then in generated cartesian mesgrid, 2nd dimension corresponds to depth.\n",
    "    #tmp_IdGrid_cartesian[:,k,:,0]: Channel 0 all elements filled with z-coordinate (namely k) of the slice: for all slice k=0,1,...,toy_d-1 \n",
    "    #tmp_IdGrid_cartesian[:,k,:,1]: Channel 1 columns filled with  (i) y-coordinates: all columns  are transpose([0,1,... toy_h-1]), for all slice k=0,1,...,toy_d-1 \n",
    "    #tmp_IdGrid_cartesian[:,k,:,2]: Channel 2 rows filled with  (j) x-coordinates:  all rows  are [0,1,... toy_w-1],, for all slice  k=0,1,...,toy_d-1 "
   ]
  },
  {
   "cell_type": "markdown",
   "metadata": {},
   "source": [
    "##### Test steps\n",
    "\n",
    "For rotation around Z, Y, X axis passing through center of volume\n",
    "\n",
    "    - Find affine matrix  for torch-interpol grid\n",
    "\n",
    "    - Create torch-interpol push  grid and apply torch-interpol grid_push\n",
    "\n",
    "    - Create torch-interpol pull  grid and apply torch-interpol grid_pull\n",
    "\n",
    "    - Convert torch-interpol pull grid to torch functional pull grid and  apply torch functional grid_warp(pull)\n",
    "\n",
    "    - Convert  torch functional pull grid  back to torch-interpol pull grid  and apply torch-interpol grid_pull"
   ]
  },
  {
   "cell_type": "code",
   "execution_count": 11,
   "metadata": {},
   "outputs": [],
   "source": [
    "debug=True"
   ]
  },
  {
   "cell_type": "markdown",
   "metadata": {},
   "source": [
    "Create affine matrix"
   ]
  },
  {
   "cell_type": "code",
   "execution_count": 12,
   "metadata": {},
   "outputs": [
    {
     "name": "stdout",
     "output_type": "stream",
     "text": [
      "Unnormalized pushAffine_np [[  0.9848077    0.17364818   0.         -11.020477  ]\n",
      " [ -0.17364818   0.9848077    0.          53.133713  ]\n",
      " [  0.           0.           1.          60.        ]\n",
      " [  0.           0.           0.           1.        ]]\n",
      "Unnormalized pullAffine_np [[  0.9848078  -0.1736482   0.         20.079624 ]\n",
      " [  0.1736482   0.9848078   0.        -50.412807 ]\n",
      " [  0.          0.          1.        -60.       ]\n",
      " [  0.          0.          0.          1.       ]]\n"
     ]
    }
   ],
   "source": [
    "# positive theta_deg <==> clockwise (axial, coronal) or counter-clockwise (sagittal)\n",
    "# negative theta_deg <==> counter-clockwise (axial, coronal) or clockwise (sagittal)\n",
    "theta_deg = 10.00\n",
    "viewString='sagittal'\n",
    "tra_z, tra_y, tra_x = 30, 10, 60\n",
    "\n",
    "if (theta_deg >=0 and viewString in [\"axial\", \"coronal\"]) or\\\n",
    "   (theta_deg <0 and viewString in [\"sagittal\"]):\n",
    "    rot_dir = 'clockwise'\n",
    "else:\n",
    "    rot_dir = 'counter-clockwise'\n",
    "description = f\"Expected {rot_dir} rotation by {abs(theta_deg)} degrees around \"\\\n",
    "    + f\"{viewString} axis followed by translation \\n in  all rotated directions: \"\\\n",
    "    + f\" by {tra_z}  in z (F--> H), {tra_y} in  y (A-->P), {tra_x} in  x (R-->L)\"\n",
    "# print(description)\n",
    "\n",
    "#Get the push affine matrix in XYZ order\n",
    "pushAffine_np = getPushRotationMatrix(\n",
    "    theta_deg=theta_deg,\n",
    "    viewString=viewString,\n",
    "    center_slice_z=depth/2.0,\n",
    "    center_row_y=height/2.0,\n",
    "    center_col_x=width/2.0,\n",
    "    tra_z=tra_z, tra_y=tra_y, tra_x=tra_x)\n",
    "\n",
    "if debug:\n",
    "    print(f'Unnormalized pushAffine_np {pushAffine_np}')\n",
    "\n",
    "pullAffine_np = np.linalg.inv(pushAffine_np)\n",
    "if debug:\n",
    "    print(f'Unnormalized pullAffine_np {pullAffine_np}')\n"
   ]
  },
  {
   "cell_type": "markdown",
   "metadata": {},
   "source": [
    "Create torch interpol push grid and apply  push warp"
   ]
  },
  {
   "cell_type": "code",
   "execution_count": 13,
   "metadata": {},
   "outputs": [
    {
     "name": "stdout",
     "output_type": "stream",
     "text": [
      "pushAffine_unBatchedTensor shape: torch.Size([4, 4]) device: cuda:0 dtype: torch.float32\n",
      "aRotGrid_push_unbatched shape: torch.Size([452, 512, 488, 3]) device: cuda:0 dtype: torch.float32\n",
      "aRotGrid_push_batched shape: torch.Size([1, 452, 512, 488, 3]) device: cuda:0 dtype: torch.float32\n"
     ]
    }
   ],
   "source": [
    "if runTestCode_sec1:\n",
    "    pushAffine_unBatchedTensor = torch.from_numpy(pushAffine_np).to(device)\n",
    "    if debug:\n",
    "        printTensor(\"pushAffine_unBatchedTensor\", pushAffine_unBatchedTensor)\n",
    "    aRotGrid_push_unbatched = affine_grid(pushAffine_unBatchedTensor,\n",
    "        [depth, height, width])\n",
    "    if debug:\n",
    "        printTensor(\"aRotGrid_push_unbatched\", aRotGrid_push_unbatched)\n",
    "    #Expand to batch\n",
    "    aRotGrid_push_batched = aRotGrid_push_unbatched.expand(batchSize,\n",
    "        *aRotGrid_push_unbatched.shape)\n",
    "    if debug:\n",
    "        printTensor(\"aRotGrid_push_batched\", aRotGrid_push_batched)"
   ]
  },
  {
   "cell_type": "code",
   "execution_count": 14,
   "metadata": {},
   "outputs": [
    {
     "name": "stderr",
     "output_type": "stream",
     "text": [
      "/opt/conda/envs/clone2MMIPython/lib/python3.9/site-packages/interpol/autograd.py:287: UserWarning: operator() sees varying value in profiling, ignoring and this should be handled by GUARD logic (Triggered internally at /opt/conda/conda-bld/pytorch_1682343997789/work/third_party/nvfuser/csrc/parser.cpp:3820.)\n",
      "  output = spline_coeff_nd(input, *opt)\n"
     ]
    },
    {
     "name": "stdout",
     "output_type": "stream",
     "text": [
      "aVol_warp_interpol_push_tensor shape: torch.Size([1, 1, 452, 512, 488]) device: cuda:0 dtype: torch.float32\n",
      "aVol_warp_interpol_push_np shape (452, 512, 488) dtype float32\n"
     ]
    },
    {
     "data": {
      "application/vnd.jupyter.widget-view+json": {
       "model_id": "0ead02ba6ddc499c8a2f17d09095e40f",
       "version_major": 2,
       "version_minor": 0
      },
      "text/plain": [
       "interactive(children=(Output(),), _dom_classes=('widget-interact',))"
      ]
     },
     "metadata": {},
     "output_type": "display_data"
    }
   ],
   "source": [
    "if runTestCode_sec1:\n",
    "   aVol_warp_interpol_push_tensor = interpol.grid_push(vol_tensor, aRotGrid_push_batched,\n",
    "      interpolation='cubic', bound='zeros',prefilter=True)\n",
    "   if debug:\n",
    "      printTensor(\"aVol_warp_interpol_push_tensor\", aVol_warp_interpol_push_tensor)\n",
    "   aVol_warp_interpol_push_np = aVol_warp_interpol_push_tensor\\\n",
    "      .clone().squeeze(0).squeeze().cpu().numpy()\n",
    "   if debug:\n",
    "      print(f\"aVol_warp_interpol_push_np shape {aVol_warp_interpol_push_np.shape} \"\n",
    "            f\"dtype {aVol_warp_interpol_push_np.dtype}\")\n",
    "   v1_volumeComparisonViewer3D(\n",
    "      listVolumes=[aVol_warp_interpol_push_np],\n",
    "      listLabels=[f'Interpol_PushWarp_Rot:  {description}'],\n",
    "      maxZ0=aVol_warp_interpol_push_np.shape[0],\n",
    "      maxZ1=aVol_warp_interpol_push_np.shape[1],\n",
    "      maxZ2=aVol_warp_interpol_push_np.shape[2],\n",
    "      figsize=(12,8), cmap='gray',\n",
    "      displayColorbar=False, useExternalWindowCenter=True, wMin=-500, wMax=500)"
   ]
  },
  {
   "cell_type": "markdown",
   "metadata": {},
   "source": [
    "Create torch interpol pull grid and apply pull warp"
   ]
  },
  {
   "cell_type": "code",
   "execution_count": 15,
   "metadata": {},
   "outputs": [
    {
     "name": "stdout",
     "output_type": "stream",
     "text": [
      "pullAffine_unBatchedTensor shape: torch.Size([4, 4]) device: cuda:0 dtype: torch.float32\n",
      "aRotGrid_pull_unbatched shape: torch.Size([452, 512, 488, 3]) device: cuda:0 dtype: torch.float32\n",
      "aRotGrid_pull_batched shape: torch.Size([1, 452, 512, 488, 3]) device: cuda:0 dtype: torch.float32\n"
     ]
    }
   ],
   "source": [
    "if runTestCode_sec1:\n",
    "    pullAffine_unBatchedTensor = torch.from_numpy(pullAffine_np).to(device)\n",
    "    if debug:\n",
    "        printTensor(\"pullAffine_unBatchedTensor\", pullAffine_unBatchedTensor)\n",
    "    aRotGrid_pull_unbatched = affine_grid(pullAffine_unBatchedTensor,\n",
    "        [depth, height, width])\n",
    "    if debug:\n",
    "        printTensor(\"aRotGrid_pull_unbatched\", aRotGrid_pull_unbatched)\n",
    "    #Expand to batch\n",
    "    aRotGrid_pull_batched = aRotGrid_pull_unbatched.expand(batchSize,\n",
    "        *aRotGrid_pull_unbatched.shape)\n",
    "    if debug:\n",
    "        printTensor(\"aRotGrid_pull_batched\", aRotGrid_pull_batched)"
   ]
  },
  {
   "cell_type": "code",
   "execution_count": 16,
   "metadata": {},
   "outputs": [
    {
     "name": "stderr",
     "output_type": "stream",
     "text": [
      "/opt/conda/envs/clone2MMIPython/lib/python3.9/site-packages/interpol/autograd.py:287: UserWarning: operator() profile_node %258 : int[] = prim::profile_ivalue(%permutation.21)\n",
      " does not have profile information (Triggered internally at /opt/conda/conda-bld/pytorch_1682343997789/work/third_party/nvfuser/csrc/graph_fuser.cpp:104.)\n",
      "  output = spline_coeff_nd(input, *opt)\n"
     ]
    },
    {
     "name": "stdout",
     "output_type": "stream",
     "text": [
      "aVol_warp_interpol_pull_tensor shape: torch.Size([1, 1, 452, 512, 488]) device: cuda:0 dtype: torch.float32\n",
      "aVol_warp_interpol_pull_np shape (452, 512, 488) dtype float32\n"
     ]
    },
    {
     "data": {
      "application/vnd.jupyter.widget-view+json": {
       "model_id": "318e2f6df7d34a56bb47bbb8f7094930",
       "version_major": 2,
       "version_minor": 0
      },
      "text/plain": [
       "interactive(children=(Output(),), _dom_classes=('widget-interact',))"
      ]
     },
     "metadata": {},
     "output_type": "display_data"
    }
   ],
   "source": [
    "if runTestCode_sec1:\n",
    "   aVol_warp_interpol_pull_tensor = interpol.grid_pull(vol_tensor,\n",
    "      aRotGrid_pull_batched, interpolation='cubic', bound='zeros',prefilter=True)\n",
    "   if debug:\n",
    "      printTensor(\"aVol_warp_interpol_pull_tensor\", aVol_warp_interpol_pull_tensor)\n",
    "   aVol_warp_interpol_pull_np = aVol_warp_interpol_pull_tensor.clone().squeeze().squeeze().cpu().numpy()\n",
    "   if debug:\n",
    "      print(f\"aVol_warp_interpol_pull_np shape {aVol_warp_interpol_pull_np.shape} \"\n",
    "            f\"dtype {aVol_warp_interpol_pull_np.dtype}\")\n",
    "   v1_volumeComparisonViewer3D(\n",
    "      listVolumes=[aVol_warp_interpol_pull_np],\n",
    "      listLabels=[f'Interpol_pullWarp_Rot: {description}'],\n",
    "      maxZ0=aVol_warp_interpol_pull_np.shape[0],\n",
    "      maxZ1=aVol_warp_interpol_pull_np.shape[1],\n",
    "      maxZ2=aVol_warp_interpol_pull_np.shape[2],\n",
    "      figsize=(12,8), cmap='gray',\n",
    "      displayColorbar=False, useExternalWindowCenter=True, wMin=-500, wMax=500)"
   ]
  },
  {
   "cell_type": "markdown",
   "metadata": {},
   "source": [
    "#### Direct conversion from torch interpol pull grid to Torch functional pull grid by normalization"
   ]
  },
  {
   "cell_type": "markdown",
   "metadata": {},
   "source": [
    "Create torch functional pull grid  from torch interpol pull grid and apply  PyTorch pull warp"
   ]
  },
  {
   "cell_type": "code",
   "execution_count": 17,
   "metadata": {},
   "outputs": [
    {
     "name": "stdout",
     "output_type": "stream",
     "text": [
      "aTorchFunctionalPullGrid_batched shape: torch.Size([1, 452, 512, 488, 3]) device: cuda:0 dtype: torch.float32\n",
      "aVol_warp_functional_pull_tensor shape: torch.Size([1, 1, 452, 512, 488]) device: cuda:0 dtype: torch.float32\n",
      "aVol_warp_functional_pull_np shape (452, 512, 488) dtype float32\n"
     ]
    },
    {
     "data": {
      "application/vnd.jupyter.widget-view+json": {
       "model_id": "26ca4de7cc1146db8f30f33f570f083b",
       "version_major": 2,
       "version_minor": 0
      },
      "text/plain": [
       "interactive(children=(Output(),), _dom_classes=('widget-interact',))"
      ]
     },
     "metadata": {},
     "output_type": "display_data"
    }
   ],
   "source": [
    "if runTestCode_sec1:\n",
    "    aTorchFunctionalPullGrid_batched =\\\n",
    "        convertGrid_interpol2functional(aRotGrid_pull_batched,depth, height, width)\n",
    "    if debug:\n",
    "        printTensor(\"aTorchFunctionalPullGrid_batched\", aTorchFunctionalPullGrid_batched)\n",
    "    aVol_warp_functional_pull_tensor = F.grid_sample(\n",
    "        input=vol_tensor,\n",
    "        grid=aTorchFunctionalPullGrid_batched,\n",
    "        mode='bilinear',\n",
    "        padding_mode='zeros',\n",
    "        align_corners=align_corners)\n",
    "    if debug:\n",
    "        printTensor(\"aVol_warp_functional_pull_tensor\", aVol_warp_functional_pull_tensor)\n",
    "    aVol_warp_functional_pull_np = aVol_warp_functional_pull_tensor.clone().squeeze().squeeze().cpu().numpy()\n",
    "    if debug:\n",
    "        print(f\"aVol_warp_functional_pull_np shape {aVol_warp_functional_pull_np.shape} \"\n",
    "              f\"dtype {aVol_warp_functional_pull_np.dtype}\")\n",
    "    v1_volumeComparisonViewer3D(\n",
    "        listVolumes=[aVol_warp_functional_pull_np],\n",
    "        listLabels=[f'Fuctional_PullWarp_Rot:  {description}'],\n",
    "        maxZ0=aVol_warp_functional_pull_np.shape[0],\n",
    "        maxZ1=aVol_warp_functional_pull_np.shape[1],\n",
    "        maxZ2=aVol_warp_functional_pull_np.shape[2],\n",
    "        figsize=(12,8), cmap='gray',\n",
    "        displayColorbar=False, useExternalWindowCenter=True, wMin=-500, wMax=500)"
   ]
  },
  {
   "cell_type": "markdown",
   "metadata": {},
   "source": [
    "#### Direct conversion from torch functional pull grid to torch interpol pull grid to  by de-normalization"
   ]
  },
  {
   "cell_type": "markdown",
   "metadata": {},
   "source": [
    "Create torch interpol pull grid from  torch functional pull grid  and apply  torch interpol pull warp"
   ]
  },
  {
   "cell_type": "code",
   "execution_count": 18,
   "metadata": {},
   "outputs": [
    {
     "name": "stdout",
     "output_type": "stream",
     "text": [
      "aVol_warp_interpol_pull_from_converted shape: torch.Size([1, 1, 452, 512, 488]) device: cuda:0 dtype: torch.float32\n",
      "aVol_warp_interpol_pull_from_converted_np shape (452, 512, 488) dtype float32\n"
     ]
    },
    {
     "data": {
      "application/vnd.jupyter.widget-view+json": {
       "model_id": "b2840bdd9ab844fba7c830d2c59d9960",
       "version_major": 2,
       "version_minor": 0
      },
      "text/plain": [
       "interactive(children=(Output(),), _dom_classes=('widget-interact',))"
      ]
     },
     "metadata": {},
     "output_type": "display_data"
    }
   ],
   "source": [
    "if runTestCode_sec1:\n",
    "   aRotGrid_pull_batched_from_converted =\\\n",
    "      convertGrid_functional2interpol(aTorchFunctionalPullGrid_batched, depth, height, width)\n",
    "   aVol_warp_interpol_pull_from_converted = interpol.grid_pull(vol_tensor,\n",
    "      aRotGrid_pull_batched_from_converted,\n",
    "      interpolation='cubic', bound='zeros',prefilter=True)\n",
    "   if debug:\n",
    "      printTensor(\"aVol_warp_interpol_pull_from_converted\",\n",
    "         aVol_warp_interpol_pull_from_converted)\n",
    "   aVol_warp_interpol_pull_from_converted_np = aVol_warp_interpol_pull_from_converted.clone().squeeze().squeeze().cpu().numpy()\n",
    "   if debug:\n",
    "      print(f\"aVol_warp_interpol_pull_from_converted_np shape \"\n",
    "            f\"{aVol_warp_interpol_pull_from_converted_np.shape} \"\n",
    "            f\"dtype {aVol_warp_interpol_pull_from_converted_np.dtype}\")\n",
    "   v1_volumeComparisonViewer3D(\n",
    "      listVolumes=[aVol_warp_interpol_pull_from_converted_np],\n",
    "      listLabels=[f'F2InterpolConverted_pullWarp_Rot:  {description}'],\n",
    "      maxZ0=aVol_warp_interpol_pull_from_converted_np.shape[0],\n",
    "      maxZ1=aVol_warp_interpol_pull_from_converted_np.shape[1],\n",
    "      maxZ2=aVol_warp_interpol_pull_from_converted_np.shape[2],\n",
    "      figsize=(12,8), cmap='gray',\n",
    "      displayColorbar=False, useExternalWindowCenter=True, wMin=-500, wMax=500)"
   ]
  },
  {
   "cell_type": "markdown",
   "metadata": {},
   "source": [
    "##### Test steps\n",
    "\n",
    "-   Create torch-functional affine mat from un-normalized  torch-interpol affine matrix. Create both push and pull type affine mat\n",
    "\n",
    "-   Create Torch functional pull grid from pull affine Mat, apply warp and display. Note torch functional has only pull-warp.\n",
    "\n",
    "-   Create VIU DVF push grid and pull grid from push and pull affine Mat.\n",
    "\n",
    "-   Apply VIU DVF pull warp  without prefilter using pull grid and display. Internally torch  functional pull-warp will be used.\n",
    "\n",
    "-   Apply VIU DVF  pull warp WITH prefilter using pull grid and display. Internally torch-interpol pull-warp will be used as prefilter=True.\n",
    "\n",
    "-   Apply VIU DVF  push warp WITH prefilter using push grid and display. Internally torch-interpol pull-warp will be used as (push-warp= | prefilter=True).\n",
    "\n"
   ]
  },
  {
   "cell_type": "markdown",
   "metadata": {},
   "source": [
    "Create torch-functional affine mat from un-normalized  torch-interpol affine matrix. Create both push and pull type affine mat"
   ]
  },
  {
   "cell_type": "code",
   "execution_count": 19,
   "metadata": {},
   "outputs": [
    {
     "name": "stdout",
     "output_type": "stream",
     "text": [
      "pyTorchPushAffineMat3x4 shape: torch.Size([3, 4]) device: cuda:0 dtype: torch.float32\n",
      "pyTorchPushAffineMat3x4 tensor([[ 1.0000,  0.0000,  0.0000,  0.2459],\n",
      "        [ 0.0000,  0.9848, -0.1533,  0.0391],\n",
      "        [ 0.0000,  0.1967,  0.9848,  0.1327]], device='cuda:0')\n",
      "pyTorchPullAffineMat3x4 shape: torch.Size([3, 4]) device: cuda:0 dtype: torch.float32\n",
      "pyTorchPullAffineMat3x4 tensor([[ 1.0000,  0.0000,  0.0000, -0.2459],\n",
      "        [ 0.0000,  0.9848,  0.1533, -0.0588],\n",
      "        [ 0.0000, -0.1967,  0.9848, -0.1230]], device='cuda:0')\n"
     ]
    }
   ],
   "source": [
    "pyTorchPushAffineMat3x4 = getPyTorchAffineMatTensor(pushAffine_np,\n",
    "    depth, height, width, depth, height, width, device)\n",
    "if debug:\n",
    "    printTensor('pyTorchPushAffineMat3x4', pyTorchPushAffineMat3x4)\n",
    "    print(f'pyTorchPushAffineMat3x4 {pyTorchPushAffineMat3x4}')\n",
    "pyTorchPullAffineMat3x4 = getPyTorchAffineMatTensor(pullAffine_np,\n",
    "    depth, height, width, depth, height, width, device)\n",
    "if debug:\n",
    "    printTensor('pyTorchPullAffineMat3x4', pyTorchPullAffineMat3x4)\n",
    "    print(f'pyTorchPullAffineMat3x4 {pyTorchPullAffineMat3x4}')"
   ]
  },
  {
   "cell_type": "markdown",
   "metadata": {},
   "source": [
    "Create VIU DVF push grid and pull grid from push and pull affine Mat."
   ]
  },
  {
   "cell_type": "code",
   "execution_count": 20,
   "metadata": {},
   "outputs": [
    {
     "name": "stdout",
     "output_type": "stream",
     "text": [
      "pyTorchPushAffineMat3x4 shape: torch.Size([3, 4]) device: cuda:0 dtype: torch.float32\n",
      "pyTorchPullAffineMat3x4 shape: torch.Size([3, 4]) device: cuda:0 dtype: torch.float32\n",
      "viuDVFGridSizeParam shape: (batch, channel, D, H, W, nbDim=3): (1, 1, 452, 512, 488, 3)\n",
      "viu_grid_push shape: torch.Size([1, 452, 512, 488, 3]) device: cuda:0 dtype: torch.float32\n",
      "viu_grid_pull shape: torch.Size([1, 452, 512, 488, 3]) device: cuda:0 dtype: torch.float32\n"
     ]
    }
   ],
   "source": [
    "if debug:\n",
    "    printTensor('pyTorchPushAffineMat3x4', pyTorchPushAffineMat3x4)\n",
    "    printTensor('pyTorchPullAffineMat3x4', pyTorchPullAffineMat3x4)\n",
    "nb_dim = pyTorchPullAffineMat3x4.shape[-1]-1\n",
    "viuDVFGridSizeParam=(batchSize, 1, depth, height, width, nb_dim)\n",
    "if debug:\n",
    "    print(f\"viuDVFGridSizeParam shape: (batch, channel, D, H, W, nbDim=3): \"\n",
    "          f\"{viuDVFGridSizeParam}\")\n",
    "\n",
    "#While calling DVF.affine, in the affine matrix, the last row (0,0,1) for 2D or (0,0,0,1) for is removed. However no batch is added.\n",
    "#Also  while passing the size, the  DVF  dimension  (2 or 3) is being passed  as the last elemet of the size  tuple.\n",
    "#Further  line #393 of field.py  is to be modified.\n",
    "#Another important difference  is that  the DVF returned by DVF.affine  includes a subtraction of the identity map\n",
    "viu_grid_push = DVF.affine(pyTorchPushAffineMat3x4, size=viuDVFGridSizeParam)\n",
    "printTensor('viu_grid_push', viu_grid_push)\n",
    "viu_grid_pull = DVF.affine(pyTorchPullAffineMat3x4, size=viuDVFGridSizeParam)\n",
    "printTensor('viu_grid_pull', viu_grid_pull)"
   ]
  },
  {
   "cell_type": "markdown",
   "metadata": {},
   "source": [
    "Create Torch functional pull grid from pull affine Mat, apply warp and display. Note torch functional has only pull-warp."
   ]
  },
  {
   "cell_type": "code",
   "execution_count": 21,
   "metadata": {},
   "outputs": [
    {
     "name": "stdout",
     "output_type": "stream",
     "text": [
      "pyTorchPullAffineMat3x4_batchAdded shape: torch.Size([1, 3, 4]) device: cuda:0 dtype: torch.float32\n",
      "grid_size_F torch.Size([1, 1, 452, 512, 488])\n",
      "grid_F type <class 'torch.Tensor'> shape torch.Size([1, 452, 512, 488, 3]) dtype torch.float32\n",
      "aVol_warp_functional_pullUsingMat_tensor shape: torch.Size([1, 1, 452, 512, 488]) device: cuda:0 dtype: torch.float32\n",
      "aVol_warp_functional_pullUsingMat_np shape (452, 512, 488) dtype float32\n"
     ]
    },
    {
     "data": {
      "application/vnd.jupyter.widget-view+json": {
       "model_id": "d6bda81fc1b7492c879d29c7059f991b",
       "version_major": 2,
       "version_minor": 0
      },
      "text/plain": [
       "interactive(children=(Output(),), _dom_classes=('widget-interact',))"
      ]
     },
     "metadata": {},
     "output_type": "display_data"
    }
   ],
   "source": [
    "if runTestCode_sec2:\n",
    "    #Torch functional affine grid generation requires affine matrix with batch dimension\n",
    "    pyTorchPullAffineMat3x4_batchAdded =\\\n",
    "        pyTorchPullAffineMat3x4.expand(batchSize, *pyTorchPullAffineMat3x4.shape)\n",
    "    if debug:\n",
    "        printTensor('pyTorchPullAffineMat3x4_batchAdded', pyTorchPullAffineMat3x4_batchAdded)\n",
    "    # print(f'pyTorchThetaForAffineGrid_lastRowRemoved_batchAdded type {type(pyTorchThetaForAffineGrid_lastRowRemoved_batchAdded)} shape {pyTorchThetaForAffineGrid_lastRowRemoved_batchAdded.shape}')\n",
    "    # print(f'pyTorchThetaForAffineGrid_lastRowRemoved_batchAdded  {pyTorchThetaForAffineGrid_lastRowRemoved_batchAdded}')\n",
    "    grid_size_F = torch.Size([batchSize, 1, depth, height, width]) #batch, channel, depth, height, width\n",
    "    print(f'grid_size_F {grid_size_F}')\n",
    "    grid_F = F.affine_grid(\n",
    "        theta=pyTorchPullAffineMat3x4_batchAdded,\n",
    "        size=grid_size_F,\n",
    "        align_corners=align_corners)\n",
    "    if debug:\n",
    "        print(f'grid_F type {type(grid_F)} shape {grid_F.shape} dtype {grid_F.dtype}')\n",
    "    aVol_warp_functional_pullUsingMat_tensor = F.grid_sample(\n",
    "        input=vol_tensor,\n",
    "        grid=grid_F,\n",
    "        mode='bilinear',\n",
    "        padding_mode='zeros',\n",
    "        align_corners=align_corners)\n",
    "    if debug:\n",
    "        printTensor(\"aVol_warp_functional_pullUsingMat_tensor\", aVol_warp_functional_pullUsingMat_tensor)\n",
    "    aVol_warp_functional_pullUsingMat_np =\\\n",
    "        aVol_warp_functional_pullUsingMat_tensor.clone().squeeze().squeeze().cpu().numpy()\n",
    "    if debug:\n",
    "        print(f\"aVol_warp_functional_pullUsingMat_np shape \"\n",
    "              f\"{aVol_warp_functional_pullUsingMat_np.shape} \"\n",
    "              f\"dtype {aVol_warp_functional_pullUsingMat_np.dtype}\")\n",
    "    v1_volumeComparisonViewer3D(\n",
    "        listVolumes=[aVol_warp_functional_pullUsingMat_np],\n",
    "        listLabels=[f'Fuctional_PullWarpUsingMat_Rot:  {description}'],\n",
    "        maxZ0=aVol_warp_functional_pullUsingMat_np.shape[0],\n",
    "        maxZ1=aVol_warp_functional_pullUsingMat_np.shape[1],\n",
    "        maxZ2=aVol_warp_functional_pullUsingMat_np.shape[2],\n",
    "        figsize=(12,8), cmap='gray',\n",
    "        displayColorbar=False, useExternalWindowCenter=True, wMin=-500, wMax=500)"
   ]
  },
  {
   "cell_type": "markdown",
   "metadata": {},
   "source": [
    "Apply VIU DVF pull warp  without prefilter using pull grid and display. Internally torch  functional pull-warp will be used."
   ]
  },
  {
   "cell_type": "code",
   "execution_count": 22,
   "metadata": {},
   "outputs": [
    {
     "name": "stdout",
     "output_type": "stream",
     "text": [
      "viu_grid_pull shape: torch.Size([1, 452, 512, 488, 3]) device: cuda:0 dtype: torch.float32\n",
      "vol_tensor shape: torch.Size([1, 1, 452, 512, 488]) device: cuda:0 dtype: torch.float32\n",
      "aVol_viu_grid_pull_warped shape: torch.Size([1, 1, 452, 512, 488]) device: cuda:0 dtype: torch.float32\n"
     ]
    },
    {
     "data": {
      "application/vnd.jupyter.widget-view+json": {
       "model_id": "698fe4dfc73c4c86a054bba8bc44113e",
       "version_major": 2,
       "version_minor": 0
      },
      "text/plain": [
       "interactive(children=(Output(),), _dom_classes=('widget-interact',))"
      ]
     },
     "metadata": {},
     "output_type": "display_data"
    }
   ],
   "source": [
    "if runTestCode_sec2:\n",
    "    if debug:\n",
    "        printTensor('viu_grid_pull', viu_grid_pull)\n",
    "        printTensor('vol_tensor', vol_tensor)\n",
    "    #sample(self, input, mode=\"bilinear\", padding_mode=\"zeros\", warpingModeString=\"pull\",prefilter=False)\n",
    "    aVol_viu_grid_pull_warped = viu_grid_pull.sample(\n",
    "        input=vol_tensor,\n",
    "        mode='bilinear',\n",
    "        padding_mode='zeros',\n",
    "        warpingModeString=\"pull\",\n",
    "        prefilter=False)\n",
    "    if debug:\n",
    "        printTensor('aVol_viu_grid_pull_warped', aVol_viu_grid_pull_warped)\n",
    "    aVol_viu_grid_pull_warped_np = aVol_viu_grid_pull_warped.squeeze().squeeze().clone().cpu().numpy()\n",
    "    v1_volumeComparisonViewer3D(\n",
    "        listVolumes=[aVol_viu_grid_pull_warped_np],\n",
    "        listLabels=[f'VIUDVF_PullWarp_Rot:  {description}'],\n",
    "        maxZ0=aVol_viu_grid_pull_warped_np.shape[0],\n",
    "        maxZ1=aVol_viu_grid_pull_warped_np.shape[1],\n",
    "        maxZ2=aVol_viu_grid_pull_warped_np.shape[2],\n",
    "        figsize=(12,8), cmap='gray',\n",
    "        displayColorbar=False, useExternalWindowCenter=True, wMin=-500, wMax=500)"
   ]
  },
  {
   "cell_type": "markdown",
   "metadata": {},
   "source": [
    "Apply VIU DVF  pull warp WITH prefilter using pull grid and display. Internally torch-interpol pull-warp will be used as prefilter=True."
   ]
  },
  {
   "cell_type": "code",
   "execution_count": 23,
   "metadata": {},
   "outputs": [
    {
     "name": "stdout",
     "output_type": "stream",
     "text": [
      "viu_grid_pull shape: torch.Size([1, 452, 512, 488, 3]) device: cuda:0 dtype: torch.float32\n",
      "vol_tensor shape: torch.Size([1, 1, 452, 512, 488]) device: cuda:0 dtype: torch.float32\n",
      "aVol_viu_grid_pull_prefilter_warped shape: torch.Size([1, 1, 452, 512, 488]) device: cuda:0 dtype: torch.float32\n"
     ]
    },
    {
     "data": {
      "application/vnd.jupyter.widget-view+json": {
       "model_id": "1e176341fcf442499f1893b1713d47a6",
       "version_major": 2,
       "version_minor": 0
      },
      "text/plain": [
       "interactive(children=(Output(),), _dom_classes=('widget-interact',))"
      ]
     },
     "metadata": {},
     "output_type": "display_data"
    }
   ],
   "source": [
    "if runTestCode_sec2:\n",
    "    if debug:\n",
    "        printTensor('viu_grid_pull', viu_grid_pull)\n",
    "        printTensor('vol_tensor', vol_tensor)\n",
    "    #sample(self, input, mode=\"bilinear\", padding_mode=\"zeros\", warpingModeString=\"pull\",prefilter=False)\n",
    "    aVol_viu_grid_pull_prefilter_warped = viu_grid_pull.sample(\n",
    "        input=vol_tensor,\n",
    "        mode='cubic',\n",
    "        padding_mode='zeros',\n",
    "        warpingModeString=\"pull\",\n",
    "        prefilter=True)\n",
    "    if debug:\n",
    "        printTensor('aVol_viu_grid_pull_prefilter_warped', aVol_viu_grid_pull_prefilter_warped)\n",
    "    aVol_viu_grid_pull_prefilter_warped_np = aVol_viu_grid_pull_prefilter_warped.squeeze().squeeze().clone().cpu().numpy()\n",
    "    v1_volumeComparisonViewer3D(\n",
    "        listVolumes=[aVol_viu_grid_pull_prefilter_warped_np],\n",
    "        listLabels=[f'VIUDVF_pull_prefilterWarp_Rot:  {description}'],\n",
    "        maxZ0=aVol_viu_grid_pull_prefilter_warped_np.shape[0],\n",
    "        maxZ1=aVol_viu_grid_pull_prefilter_warped_np.shape[1],\n",
    "        maxZ2=aVol_viu_grid_pull_prefilter_warped_np.shape[2],\n",
    "        figsize=(12,8), cmap='gray',\n",
    "        displayColorbar=False, useExternalWindowCenter=True, wMin=-500, wMax=500)"
   ]
  },
  {
   "cell_type": "markdown",
   "metadata": {},
   "source": [
    "##### Apply VIU DVF  push warp WITH prefilter using push grid and display. Internally torch-interpol pull-warp will be used as (push-warp= | prefilter=True)."
   ]
  },
  {
   "cell_type": "code",
   "execution_count": 24,
   "metadata": {},
   "outputs": [
    {
     "name": "stdout",
     "output_type": "stream",
     "text": [
      "viu_grid_push shape: torch.Size([1, 452, 512, 488, 3]) device: cuda:0 dtype: torch.float32\n",
      "vol_tensor shape: torch.Size([1, 1, 452, 512, 488]) device: cuda:0 dtype: torch.float32\n",
      "aVol_viu_grid_push_prefilter_warped shape: torch.Size([1, 1, 452, 512, 488]) device: cuda:0 dtype: torch.float32\n"
     ]
    },
    {
     "data": {
      "application/vnd.jupyter.widget-view+json": {
       "model_id": "059da4b82f6e4a0aa2260101bb32de92",
       "version_major": 2,
       "version_minor": 0
      },
      "text/plain": [
       "interactive(children=(Output(),), _dom_classes=('widget-interact',))"
      ]
     },
     "metadata": {},
     "output_type": "display_data"
    }
   ],
   "source": [
    "if runTestCode_sec2:\n",
    "    if debug:\n",
    "        printTensor('viu_grid_push', viu_grid_push)\n",
    "        printTensor('vol_tensor', vol_tensor)\n",
    "    #sample(self, input, mode=\"bilinear\", padding_mode=\"zeros\", warpingModeString=\"pull\",prefilter=False)\n",
    "    aVol_viu_grid_push_prefilter_warped = viu_grid_push.sample(\n",
    "        input=vol_tensor,\n",
    "        mode='cubic',\n",
    "        padding_mode='zeros',\n",
    "        warpingModeString=\"push\",\n",
    "        prefilter=True)\n",
    "    if debug:\n",
    "        printTensor('aVol_viu_grid_push_prefilter_warped', aVol_viu_grid_push_prefilter_warped)\n",
    "    aVol_viu_grid_push_prefilter_warped_np = aVol_viu_grid_push_prefilter_warped.squeeze().squeeze().clone().cpu().numpy()\n",
    "    v1_volumeComparisonViewer3D(\n",
    "        listVolumes=[aVol_viu_grid_push_prefilter_warped_np],\n",
    "        listLabels=[f'VIUDVF_push_prefilterWarp_Rot:  {description}'],\n",
    "        maxZ0=aVol_viu_grid_push_prefilter_warped_np.shape[0], \n",
    "        maxZ1=aVol_viu_grid_push_prefilter_warped_np.shape[1], \n",
    "        maxZ2=aVol_viu_grid_push_prefilter_warped_np.shape[2],\n",
    "        figsize=(12,8), cmap='gray',\n",
    "        displayColorbar=False, useExternalWindowCenter=True, wMin=-500, wMax=500)"
   ]
  },
  {
   "cell_type": "markdown",
   "metadata": {},
   "source": [
    "#### Timing consideration\n",
    "\n",
    "Execute each of interpol grid pull and  functional grid pull N times and compare time taken"
   ]
  },
  {
   "cell_type": "code",
   "execution_count": 25,
   "metadata": {},
   "outputs": [],
   "source": [
    "numRepeat = 10\n",
    "import time"
   ]
  },
  {
   "cell_type": "code",
   "execution_count": 26,
   "metadata": {},
   "outputs": [
    {
     "name": "stdout",
     "output_type": "stream",
     "text": [
      "Volume shape (452, 512, 488), numRepeat 10 : VIU DVF Pull + bilinear + no-PreFilter => (Internally F.grid_sample) =>: 0.05 seconds\n"
     ]
    }
   ],
   "source": [
    "if runTestCode_sec3:\n",
    "    start = time.time()\n",
    "    for count in range(numRepeat):\n",
    "        aVol_viu_grid_pull_warped = viu_grid_pull.sample(\n",
    "            input=vol_tensor,\n",
    "            mode='bilinear',\n",
    "            padding_mode='zeros',\n",
    "            warpingModeString=\"pull\",\n",
    "            prefilter=False)\n",
    "    end = time.time()\n",
    "    print(f'Volume shape {vol.shape}, numRepeat {numRepeat} : '\n",
    "          f'VIU DVF Pull + bilinear + no-PreFilter => (Internally F.grid_sample) =>: '\n",
    "          f'{(end - start):.2f} seconds')"
   ]
  },
  {
   "cell_type": "code",
   "execution_count": 27,
   "metadata": {},
   "outputs": [
    {
     "name": "stdout",
     "output_type": "stream",
     "text": [
      "Volume shape (452, 512, 488), numRepeat 10 : VIU DVF Pull + cubic + PreFilter => (Internally preFilter + interpol.grid_pull) =>: 11.86 seconds\n"
     ]
    }
   ],
   "source": [
    "if runTestCode_sec3:\n",
    "    start = time.time()\n",
    "    for count in range(numRepeat):\n",
    "        Vol_viu_grid_pull_prefilter_warped = viu_grid_pull.sample(\n",
    "            input=vol_tensor,\n",
    "            mode='cubic',\n",
    "            padding_mode='zeros',\n",
    "            warpingModeString=\"pull\",\n",
    "            prefilter=True)\n",
    "    end = time.time()\n",
    "    print(f'Volume shape {vol.shape}, numRepeat {numRepeat} : '\n",
    "          f'VIU DVF Pull + cubic + PreFilter => (Internally preFilter + interpol.grid_pull) =>: '\n",
    "          f'{(end - start):.2f} seconds')"
   ]
  },
  {
   "cell_type": "code",
   "execution_count": 28,
   "metadata": {},
   "outputs": [
    {
     "name": "stdout",
     "output_type": "stream",
     "text": [
      "Volume shape (452, 512, 488), numRepeat 10 : VIU DVF Push + cubic + PreFilter => (Internally preFilter + interpol.grid_push) =>: 14.31 seconds\n"
     ]
    }
   ],
   "source": [
    "if runTestCode_sec3:\n",
    "    start = time.time()\n",
    "    for count in range(numRepeat):\n",
    "        aVol_viu_grid_push_prefilter_warped = viu_grid_push.sample(\n",
    "            input=vol_tensor,\n",
    "            mode='cubic',\n",
    "            padding_mode='zeros',\n",
    "            warpingModeString=\"push\",\n",
    "            prefilter=True)\n",
    "    end = time.time()\n",
    "    print(f'Volume shape {vol.shape}, numRepeat {numRepeat} : '\n",
    "          f'VIU DVF Push + cubic + PreFilter => (Internally preFilter + interpol.grid_push) =>: '\n",
    "          f'{(end - start):.2f} seconds')"
   ]
  }
 ],
 "metadata": {
  "kernelspec": {
   "display_name": "testSplinePF",
   "language": "python",
   "name": "python3"
  },
  "language_info": {
   "codemirror_mode": {
    "name": "ipython",
    "version": 3
   },
   "file_extension": ".py",
   "mimetype": "text/x-python",
   "name": "python",
   "nbconvert_exporter": "python",
   "pygments_lexer": "ipython3",
   "version": "3.12.0"
  }
 },
 "nbformat": 4,
 "nbformat_minor": 2
}
