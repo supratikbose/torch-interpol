{
 "cells": [
  {
   "cell_type": "markdown",
   "metadata": {},
   "source": [
    "##### Understand, in 3D context, torch-interpol and torch-functional affine matrix, grid and warping"
   ]
  },
  {
   "cell_type": "markdown",
   "metadata": {},
   "source": [
    "#### Import"
   ]
  },
  {
   "cell_type": "markdown",
   "metadata": {},
   "source": [
    "![image_info](./dicomCT.png)"
   ]
  },
  {
   "cell_type": "code",
   "execution_count": 1,
   "metadata": {},
   "outputs": [],
   "source": [
    "#Imports\n",
    "import os, sys, json, pathlib, shutil, glob\n",
    "import pandas as pd\n",
    "import csv\n",
    "import SimpleITK as sitk\n",
    "import nibabel as nib\n",
    "import random\n",
    "import math\n",
    "import numpy as np\n",
    "from PIL import Image, ImageFont, ImageDraw\n",
    "\n",
    "import scipy\n",
    "from scipy.io import loadmat\n",
    "from scipy import  signal\n",
    "\n",
    "import matplotlib.pyplot as plt\n",
    "import plotly.graph_objects as go\n",
    "\n",
    "import ipywidgets as widgets\n",
    "from ipywidgets import interactive,interact, interact_manual, HBox, Layout,VBox\n",
    "from IPython.display import display, clear_output\n",
    "\n",
    "import interpol\n",
    "from interpol.api import affine_grid\n",
    "\n",
    "from scipy import ndimage\n",
    "\n",
    "from functools import partial\n",
    "\n",
    "import torch\n",
    "import torch.nn.functional as F\n",
    "from torch.nn import MSELoss\n",
    "from viu.io import volume\n",
    "from viu.io.volume import read_volume\n",
    "from viu.torch.deformation.fields import DVF, set_identity_mapping_cache\n",
    "from viu.torch.io.deformation import *\n",
    "from viu.util.body_mask import seg_body\n",
    "\n",
    "# import ipywidgets as ipyw\n",
    "import ipywidgets as widgets\n",
    "from ipywidgets import interactive,interact, interact_manual, HBox, Layout,VBox\n",
    "from IPython.display import display, clear_output"
   ]
  },
  {
   "cell_type": "code",
   "execution_count": 2,
   "metadata": {},
   "outputs": [],
   "source": [
    "from exampleUtils import *"
   ]
  },
  {
   "cell_type": "code",
   "execution_count": 3,
   "metadata": {},
   "outputs": [],
   "source": [
    "runTestCode=False\n",
    "runTestCode_sec2=True\n",
    "runTestCode_sec3=True"
   ]
  },
  {
   "cell_type": "markdown",
   "metadata": {},
   "source": [
    "##### Read test volume"
   ]
  },
  {
   "cell_type": "code",
   "execution_count": 4,
   "metadata": {},
   "outputs": [
    {
     "name": "stdout",
     "output_type": "stream",
     "text": [
      "dcmFolder /media/data/supratik/workingFolder/DeformationExperiment/demoDataDvfAndPCA/Patient11AB_bin19\n",
      "vol type <class 'numpy.ndarray'> shape (452, 512, 512) min -1890.0 max 36208.0 \n",
      "res type <class 'numpy.ndarray'> value [0.9765625 0.9765625 1.       ] \n",
      "pos type <class 'numpy.ndarray'> value [ 1.71875000e-03 -2.09498281e+02 -9.00000000e-01]\n",
      "toy_depth 452, toy_height 512, toy_width 409, org_width 512\n",
      "vol type <class 'numpy.ndarray'> shape (452, 512, 409)\n",
      "pos type <class 'numpy.ndarray'> value [ -50.29125    -209.49828125   -0.9       ]\n"
     ]
    }
   ],
   "source": [
    "# experimentFolder = pathlib.Path('/mnt/data/supratik/diaphragm_detection/data/')\n",
    "#experimentFolder = pathlib.Path('/home/wd974888/Downloads/workingFolder/DeformationExperiment/')\n",
    "experimentFolder = pathlib.Path('/media/data/supratik/workingFolder/DeformationExperiment/demoDataDvfAndPCA/')\n",
    "\n",
    "patientMRN='Patient11AB_bin19'\n",
    "dcmFolder = experimentFolder / patientMRN\n",
    "vol, res, pos = read_volume(str(dcmFolder))\n",
    "print(f'dcmFolder {dcmFolder}')\n",
    "print(f'vol type {(type(vol))} shape {vol.shape} min {np.min(vol)} max {np.max(vol)} ')\n",
    "print(f'res type {type(res)} value {res} ')\n",
    "print(f'pos type {type(pos)} value {pos}')\n",
    "toy_depth, toy_height, toy_width = vol.shape[0], vol.shape[1], vol.shape[2]\n",
    "#Make the dimensions unequal\n",
    "org_width = toy_width\n",
    "toy_width = 8*toy_width//10\n",
    "print(f'toy_depth {toy_depth}, toy_height {toy_height}, toy_width {toy_width}, org_width {org_width}')\n",
    "vol = vol[:,:,:toy_width]\n",
    "print(f'vol type {(type(vol))} shape {vol.shape}')\n",
    "#With truncation in X direction, the pos matching the center of the volume in patient co-ordinate also shifts\n",
    "old_pos_X = pos[0]\n",
    "res_X = res[0]\n",
    "new_pos_X = old_pos_X - 0.5*(org_width - toy_width)*res_X\n",
    "pos[0] = new_pos_X\n",
    "print(f'pos type {type(pos)} value {pos}')\n"
   ]
  },
  {
   "cell_type": "code",
   "execution_count": 5,
   "metadata": {},
   "outputs": [
    {
     "data": {
      "application/vnd.jupyter.widget-view+json": {
       "model_id": "90ea171cf044408889ec2ad68cdd5136",
       "version_major": 2,
       "version_minor": 0
      },
      "text/plain": [
       "interactive(children=(Output(),), _dom_classes=('widget-interact',))"
      ]
     },
     "metadata": {},
     "output_type": "display_data"
    },
    {
     "data": {
      "text/plain": [
       "<exampleUtils.v1_volumeComparisonViewer3D at 0x7f06797090d0>"
      ]
     },
     "execution_count": 5,
     "metadata": {},
     "output_type": "execute_result"
    }
   ],
   "source": [
    "v1_volumeComparisonViewer3D(\n",
    "    listVolumes=[vol],listLabels=['original'],\n",
    "    maxZ0=vol.shape[0], maxZ1=vol.shape[1], maxZ2=vol.shape[2],\n",
    "    figsize=(12,8), cmap='gray',\n",
    "    displayColorbar=False, useExternalWindowCenter=True, wMin=-500, wMax=500)"
   ]
  },
  {
   "cell_type": "code",
   "execution_count": 6,
   "metadata": {},
   "outputs": [],
   "source": [
    "align_corners=True\n",
    "device=torch.device('cuda:0')\n",
    "batchSize=1"
   ]
  },
  {
   "cell_type": "code",
   "execution_count": 7,
   "metadata": {},
   "outputs": [
    {
     "name": "stdout",
     "output_type": "stream",
     "text": [
      "vol_tensor shape: torch.Size([1, 1, 452, 512, 409]) device: cuda:0 dtype: torch.float32\n"
     ]
    }
   ],
   "source": [
    "#volume tensor with batch and channel\n",
    "vol_tensor = torch.from_numpy(vol).to(device).unsqueeze(0).unsqueeze(0)\n",
    "printTensor(\"vol_tensor\", vol_tensor)\n"
   ]
  },
  {
   "cell_type": "markdown",
   "metadata": {},
   "source": [
    "identity grid in 2D and in 3D in matrix (ij) and cartesian co-ordinate system"
   ]
  },
  {
   "cell_type": "markdown",
   "metadata": {},
   "source": [
    "identity grid in 2D"
   ]
  },
  {
   "cell_type": "code",
   "execution_count": 8,
   "metadata": {},
   "outputs": [],
   "source": [
    "if runTestCode:\n",
    "    tmp_h, tmp_w = 5, 6\n",
    "    print(f'tmp_h {tmp_h}, tmp_w {tmp_w}')\n",
    "    #tmp_h 5, tmp_w 6\n",
    "    tmp_IdGrid_matrix_2d = torch.stack(torch.meshgrid(*[torch.arange(s).float() for s in [tmp_h, tmp_w] ],indexing='ij'), -1).numpy().astype('float32')\n",
    "    print(f'Pass shape [tmp_h {tmp_h}, tmp_w {tmp_w}]: tmp_IdGrid_matrix_2d type {(type(tmp_IdGrid_matrix_2d))} shape {tmp_IdGrid_matrix_2d.shape} dtype {tmp_IdGrid_matrix_2d.dtype}')\n",
    "\n",
    "    tmp_IdGrid_cartesian_2d = torch.stack(torch.meshgrid(*[torch.arange(s).float() for s in [tmp_h, tmp_w] ],indexing='xy'), -1).numpy().astype('float32')\n",
    "    print(f'Pass shape [tmp_h {tmp_h}, tmp_w {tmp_w}]: tmp_IdGrid_cartesian_2d type {(type(tmp_IdGrid_cartesian_2d))} shape {tmp_IdGrid_cartesian_2d.shape} dtype {tmp_IdGrid_cartesian_2d.dtype}')\n"
   ]
  },
  {
   "cell_type": "markdown",
   "metadata": {},
   "source": [
    "identity grid in 3D"
   ]
  },
  {
   "cell_type": "code",
   "execution_count": 9,
   "metadata": {},
   "outputs": [],
   "source": [
    "if runTestCode:\n",
    "    tmp_d, tmp_h, tmp_w = 4, 5, 6\n",
    "    print(f'tmp_d {tmp_d}, tmp_h {tmp_h}, tmp_w {tmp_w}')\n",
    "    #tmp_d 4, tmp_h 5, tmp_w 6\n",
    "    tmp_IdGrid_matrix = torch.stack(torch.meshgrid(*[torch.arange(s).float() for s in [tmp_d, tmp_h, tmp_w] ],indexing='ij'), -1).numpy().astype('float32')\n",
    "    print(f'Pass shape [tmp_d {tmp_d}, tmp_h {tmp_h}, tmp_w {tmp_w}]: tmp_IdGrid_matrix type {(type(tmp_IdGrid_matrix))} shape {tmp_IdGrid_matrix.shape} dtype {tmp_IdGrid_matrix.dtype}')\n",
    "    # Pass shape [tmp_d 4, tmp_h 5, tmp_w 6]: tmp_IdGrid_matrix type <class 'numpy.ndarray'> shape (4, 5, 6, 3) dtype float32\n",
    "    #tmp_IdGrid_matrix[k,:,:,0]: Channel 0 all elements filled with z-coordinate (namely k) of the slice: for all slice k=0,1,...,toy_d-1 \n",
    "    #tmp_IdGrid_matrix[k,:,:,1]: Channel 1 columns filled with  (i) y-coordinates: all columns  are transpose([0,1,... toy_h-1]), for all slice k=0,1,...,toy_d-1 \n",
    "    #tmp_IdGrid_matrix[k,:,:,2]: Channel 2 rows filled with  (j) x-coordinates:  all rows  are [0,1,... toy_w-1],, for all slice  k=0,1,...,toy_d-1 \n",
    "    tmp_IdGrid_cartesian = torch.stack(torch.meshgrid(*[torch.arange(s).float() for s in [tmp_d, tmp_h, tmp_w] ],indexing='xy'), -1).numpy().astype('float32')\n",
    "    print(f'Pass shape [tmp_d {tmp_d}, tmp_h {tmp_h}, tmp_w {tmp_w}]: tmp_IdGrid_cartesian type {(type(tmp_IdGrid_cartesian))} shape {tmp_IdGrid_cartesian.shape} dtype {tmp_IdGrid_cartesian.dtype}')\n",
    "    # Pass shape [tmp_d 4, tmp_h 5, tmp_w 6]: tmp_IdGrid_cartesian type <class 'numpy.ndarray'> shape (5, 4, 6, 3) dtype float32\n",
    "    print('If we assumed, 1st dim is depth then in generated cartesian mesgrid, 2nd dimension corresponds to depth.')\n",
    "    #If we assumed, 1st dim is depth then in generated cartesian mesgrid, 2nd dimension corresponds to depth.\n",
    "    #tmp_IdGrid_cartesian[:,k,:,0]: Channel 0 all elements filled with z-coordinate (namely k) of the slice: for all slice k=0,1,...,toy_d-1 \n",
    "    #tmp_IdGrid_cartesian[:,k,:,1]: Channel 1 columns filled with  (i) y-coordinates: all columns  are transpose([0,1,... toy_h-1]), for all slice k=0,1,...,toy_d-1 \n",
    "    #tmp_IdGrid_cartesian[:,k,:,2]: Channel 2 rows filled with  (j) x-coordinates:  all rows  are [0,1,... toy_w-1],, for all slice  k=0,1,...,toy_d-1 "
   ]
  },
  {
   "cell_type": "markdown",
   "metadata": {},
   "source": [
    "##### Test steps\n",
    "\n",
    "For rotation around Z, Y, X axis passing through center of volume\n",
    "\n",
    "    - Find affine matrix  for torch-interpol grid\n",
    "\n",
    "    - Create torch-interpol push  grid and apply torch-interpol grid_push\n",
    "\n",
    "    - Create torch-interpol pull  grid and apply torch-interpol grid_pull\n",
    "\n",
    "    - Convert torch-interpol pull grid to torch functional pull grid and  apply torch functional grid_warp(pull)\n",
    "\n",
    "    - Convert  torch functional pull grid  back to torch-interpol pull grid  and apply torch-interpol grid_pull"
   ]
  },
  {
   "cell_type": "markdown",
   "metadata": {},
   "source": [
    "Create affine matrix"
   ]
  },
  {
   "cell_type": "code",
   "execution_count": 10,
   "metadata": {},
   "outputs": [
    {
     "name": "stdout",
     "output_type": "stream",
     "text": [
      "Expected counter-clockwise rotation by 15.0 degrees around coronal axis\n",
      "pushAffine_np [[  0.9659258    0.           0.25881904 -45.227722  ]\n",
      " [  0.           1.           0.           0.        ]\n",
      " [ -0.25881904   0.           0.9659258   65.46127   ]\n",
      " [  0.           0.           0.           1.        ]]\n",
      "pullAffine_np [[  0.9659258    0.          -0.25881904  60.62925   ]\n",
      " [  0.           1.           0.           0.        ]\n",
      " [  0.25881904   0.           0.9659258  -51.52494   ]\n",
      " [  0.           0.           0.           1.        ]]\n"
     ]
    }
   ],
   "source": [
    "# positive theta_deg => counter-clowise (axial, coronal) or clockwise (sagittal)\n",
    "# negative theta_deg => clockwise (axial, coronal) or counter-clockwise (sagittal)\n",
    "theta_deg = 15.00 #Rotate image  counter clockwise by 10 degree\n",
    "viewString='coronal'\n",
    "if (theta_deg >=0 and viewString in [\"axial\", \"coronal\"]) or\\\n",
    "   (theta_deg <0 and viewString in [\"sagittal\"]):\n",
    "    rot_dir = 'counter-clockwise'\n",
    "else:\n",
    "    rot_dir = 'clockwise'\n",
    "print(f'Expected {rot_dir} rotation by {abs(theta_deg)} degrees around {viewString} axis')\n",
    "\n",
    "pushAffine_np = getPushRotationMatrix(\n",
    "    theta_deg=theta_deg, \n",
    "    viewString=viewString,\n",
    "    center_slice_z=toy_depth/2.0,\n",
    "    center_row_y=toy_height/2.0, \n",
    "    center_col_x=toy_width/2.0)\n",
    "print(f'pushAffine_np {pushAffine_np}')\n",
    "pullAffine_np = np.linalg.inv(pushAffine_np)\n",
    "print(f'pullAffine_np {pullAffine_np}')"
   ]
  },
  {
   "cell_type": "markdown",
   "metadata": {},
   "source": [
    "Create torch interpol push grid and apply  push warp"
   ]
  },
  {
   "cell_type": "code",
   "execution_count": 11,
   "metadata": {},
   "outputs": [],
   "source": [
    "if runTestCode:\n",
    "    pushAffine_unBatchedTensor = torch.from_numpy(pushAffine_np).to(device)\n",
    "    printTensor(\"pushAffine_unBatchedTensor\", pushAffine_unBatchedTensor)\n",
    "    aRotGrid_push_unbatched = affine_grid(pushAffine_unBatchedTensor, [toy_depth, toy_height, toy_width])\n",
    "    printTensor(\"aRotGrid_push_unbatched\", aRotGrid_push_unbatched)\n",
    "    #Expand to batch\n",
    "    aRotGrid_push_batched = aRotGrid_push_unbatched.expand(batchSize, *aRotGrid_push_unbatched.shape)\n",
    "    printTensor(\"aRotGrid_push_batched\", aRotGrid_push_batched)"
   ]
  },
  {
   "cell_type": "code",
   "execution_count": 12,
   "metadata": {},
   "outputs": [],
   "source": [
    "if runTestCode:\n",
    "   aVol_warp_interpol_push_tensor = interpol.grid_push(vol_tensor, aRotGrid_push_batched, \n",
    "      interpolation='cubic', bound='zeros',prefilter=True)\n",
    "   printTensor(\"aVol_warp_interpol_push_tensor\", aVol_warp_interpol_push_tensor)\n",
    "   aVol_warp_interpol_push_np = aVol_warp_interpol_push_tensor.clone().squeeze(0).squeeze().cpu().numpy()\n",
    "   print(f\"aVol_warp_interpol_push_np shape {aVol_warp_interpol_push_np.shape} dtype {aVol_warp_interpol_push_np.dtype}\")\n",
    "   v1_volumeComparisonViewer3D(\n",
    "      listVolumes=[aVol_warp_interpol_push_np],listLabels=[f'Interpol_PushWarp_Rot:  {rot_dir} rotation by {abs(theta_deg)} degrees around {viewString} axis'],\n",
    "      maxZ0=aVol_warp_interpol_push_np.shape[0], maxZ1=aVol_warp_interpol_push_np.shape[1], maxZ2=aVol_warp_interpol_push_np.shape[2],\n",
    "      figsize=(12,8), cmap='gray',\n",
    "      displayColorbar=False, useExternalWindowCenter=True, wMin=-500, wMax=500)"
   ]
  },
  {
   "cell_type": "markdown",
   "metadata": {},
   "source": [
    "Create torch interpol pull grid and apply pull warp"
   ]
  },
  {
   "cell_type": "code",
   "execution_count": 13,
   "metadata": {},
   "outputs": [],
   "source": [
    "if runTestCode:\n",
    "    pullAffine_unBatchedTensor = torch.from_numpy(pullAffine_np).to(device)\n",
    "    printTensor(\"pullAffine_unBatchedTensor\", pullAffine_unBatchedTensor)\n",
    "    aRotGrid_pull_unbatched = affine_grid(pullAffine_unBatchedTensor, [toy_depth, toy_height, toy_width])\n",
    "    printTensor(\"aRotGrid_pull_unbatched\", aRotGrid_pull_unbatched)\n",
    "    #Expand to batch\n",
    "    aRotGrid_pull_batched = aRotGrid_pull_unbatched.expand(batchSize, *aRotGrid_pull_unbatched.shape)\n",
    "    printTensor(\"aRotGrid_pull_batched\", aRotGrid_pull_batched)"
   ]
  },
  {
   "cell_type": "code",
   "execution_count": 14,
   "metadata": {},
   "outputs": [],
   "source": [
    "if runTestCode:\n",
    "   aVol_warp_interpol_pull_tensor = interpol.grid_pull(vol_tensor, aRotGrid_pull_batched, \n",
    "      interpolation='cubic', bound='zeros',prefilter=True)\n",
    "   printTensor(\"aVol_warp_interpol_pull_tensor\", aVol_warp_interpol_pull_tensor)\n",
    "   aVol_warp_interpol_pull_np = aVol_warp_interpol_pull_tensor.clone().squeeze().squeeze().cpu().numpy()\n",
    "   print(f\"aVol_warp_interpol_pull_np shape {aVol_warp_interpol_pull_np.shape} dtype {aVol_warp_interpol_pull_np.dtype}\")\n",
    "   v1_volumeComparisonViewer3D(\n",
    "      listVolumes=[aVol_warp_interpol_pull_np],listLabels=[f'Interpol_pullWarp_Rot: {rot_dir} rotation by {abs(theta_deg)} degrees around {viewString} axis'],\n",
    "      maxZ0=aVol_warp_interpol_pull_np.shape[0], maxZ1=aVol_warp_interpol_pull_np.shape[1], maxZ2=aVol_warp_interpol_pull_np.shape[2],\n",
    "      figsize=(12,8), cmap='gray',\n",
    "      displayColorbar=False, useExternalWindowCenter=True, wMin=-500, wMax=500)"
   ]
  },
  {
   "cell_type": "markdown",
   "metadata": {},
   "source": [
    "#### Direct conversion from torch interpol pull grid to Torch functional pull grid by normalization"
   ]
  },
  {
   "cell_type": "markdown",
   "metadata": {},
   "source": [
    "Create torch functional pull grid  from torch interpol pull grid and apply  PyTorch pull warp"
   ]
  },
  {
   "cell_type": "code",
   "execution_count": 15,
   "metadata": {},
   "outputs": [],
   "source": [
    "if runTestCode:\n",
    "    aTorchFunctionalPullGrid_batched = convertGrid_interpol2functional(aRotGrid_pull_batched,toy_depth, toy_height, toy_width)\n",
    "    printTensor(\"aTorchFunctionalPullGrid_batched\", aTorchFunctionalPullGrid_batched)\n",
    "    aVol_warp_functional_pull_tensor = F.grid_sample(\n",
    "        input=vol_tensor,\n",
    "        grid=aTorchFunctionalPullGrid_batched,\n",
    "        mode='bilinear',\n",
    "        padding_mode='zeros',\n",
    "        align_corners=align_corners)\n",
    "    printTensor(\"aVol_warp_functional_pull_tensor\", aVol_warp_functional_pull_tensor)\n",
    "    aVol_warp_functional_pull_np = aVol_warp_functional_pull_tensor.clone().squeeze().squeeze().cpu().numpy()\n",
    "    print(f\"aVol_warp_functional_pull_np shape {aVol_warp_functional_pull_np.shape} dtype {aVol_warp_functional_pull_np.dtype}\")\n",
    "    v1_volumeComparisonViewer3D(\n",
    "        listVolumes=[aVol_warp_functional_pull_np],listLabels=[f'Fuctional_PullWarp_Rot:  {rot_dir} rotation by {abs(theta_deg)} degrees around {viewString} axis'],\n",
    "        maxZ0=aVol_warp_functional_pull_np.shape[0], maxZ1=aVol_warp_functional_pull_np.shape[1], maxZ2=aVol_warp_functional_pull_np.shape[2],\n",
    "        figsize=(12,8), cmap='gray',\n",
    "        displayColorbar=False, useExternalWindowCenter=True, wMin=-500, wMax=500)"
   ]
  },
  {
   "cell_type": "markdown",
   "metadata": {},
   "source": [
    "#### Direct conversion from torch functional pull grid to torch interpol pull grid to  by de-normalization"
   ]
  },
  {
   "cell_type": "markdown",
   "metadata": {},
   "source": [
    "Create torch interpol pull grid from  torch functional pull grid  and apply  torch interpol pull warp"
   ]
  },
  {
   "cell_type": "code",
   "execution_count": 16,
   "metadata": {},
   "outputs": [],
   "source": [
    "if runTestCode:\n",
    "   aRotGrid_pull_batched_from_converted = convertGrid_functional2interpol(aTorchFunctionalPullGrid_batched, toy_depth, toy_height, toy_width)\n",
    "   aVol_warp_interpol_pull_from_converted = interpol.grid_pull(vol_tensor, aRotGrid_pull_batched_from_converted, \n",
    "      interpolation='cubic', bound='zeros',prefilter=True)\n",
    "   printTensor(\"aVol_warp_interpol_pull_from_converted\", aVol_warp_interpol_pull_from_converted)\n",
    "   aVol_warp_interpol_pull_from_converted_np = aVol_warp_interpol_pull_from_converted.clone().squeeze().squeeze().cpu().numpy()\n",
    "   print(f\"aVol_warp_interpol_pull_from_converted_np shape {aVol_warp_interpol_pull_from_converted_np.shape} dtype {aVol_warp_interpol_pull_from_converted_np.dtype}\")\n",
    "   v1_volumeComparisonViewer3D(\n",
    "      listVolumes=[aVol_warp_interpol_pull_from_converted_np],listLabels=[f'F2InterpolConverted_pullWarp_Rot:  {rot_dir} rotation by {abs(theta_deg)} degrees around {viewString} axis'],\n",
    "      maxZ0=aVol_warp_interpol_pull_from_converted_np.shape[0], maxZ1=aVol_warp_interpol_pull_from_converted_np.shape[1], maxZ2=aVol_warp_interpol_pull_from_converted_np.shape[2],\n",
    "      figsize=(12,8), cmap='gray',\n",
    "      displayColorbar=False, useExternalWindowCenter=True, wMin=-500, wMax=500)"
   ]
  },
  {
   "cell_type": "markdown",
   "metadata": {},
   "source": [
    "##### Test steps\n",
    "\n",
    "-   Create torch-functional affine mat from un-normalized  torch-interpol affine matrix. Create both push and pull type affine mat\n",
    "\n",
    "-   Create Torch functional pull grid from pull affine Mat, apply warp and display. Note torch functional has only pull-warp.\n",
    "\n",
    "-   Create VIU DVF push grid and pull grid from push and pull affine Mat.\n",
    "\n",
    "-   Apply VIU DVF pull warp  without prefilter using pull grid and display. Internally torch  functional pull-warp will be used.\n",
    "\n",
    "-   Apply VIU DVF  pull warp WITH prefilter using pull grid and display. Internally torch-interpol pull-warp will be used as prefilter=True.\n",
    "\n",
    "-   Apply VIU DVF  push warp WITH prefilter using push grid and display. Internally torch-interpol pull-warp will be used as (push-warp= | prefilter=True).\n",
    "\n"
   ]
  },
  {
   "cell_type": "markdown",
   "metadata": {},
   "source": [
    "Create torch-functional affine mat from un-normalized  torch-interpol affine matrix. Create both push and pull type affine mat"
   ]
  },
  {
   "cell_type": "code",
   "execution_count": 17,
   "metadata": {},
   "outputs": [
    {
     "name": "stdout",
     "output_type": "stream",
     "text": [
      "pyTorchPushAffineMat3x4 shape: torch.Size([3, 4]) device: cuda:0 dtype: torch.float32\n",
      "pyTorchPushAffineMat3x4 tensor([[ 9.6593e-01,  0.0000e+00, -2.8603e-01, -1.1921e-07],\n",
      "        [ 0.0000e+00,  1.0000e+00,  0.0000e+00,  0.0000e+00],\n",
      "        [ 2.3420e-01,  0.0000e+00,  9.6593e-01, -5.9605e-08]], device='cuda:0')\n",
      "pyTorchPullAffineMat3x4 shape: torch.Size([3, 4]) device: cuda:0 dtype: torch.float32\n",
      "pyTorchPullAffineMat3x4 tensor([[ 9.6593e-01,  0.0000e+00,  2.8603e-01, -5.9605e-08],\n",
      "        [ 0.0000e+00,  1.0000e+00,  0.0000e+00,  0.0000e+00],\n",
      "        [-2.3420e-01,  0.0000e+00,  9.6593e-01, -1.1921e-07]], device='cuda:0')\n"
     ]
    }
   ],
   "source": [
    "pyTorchPushAffineMat3x4 = getPyTorchAffineMatTensor(pushAffine_np,  toy_depth, toy_height, toy_width, toy_depth, toy_height, toy_width, device)\n",
    "printTensor('pyTorchPushAffineMat3x4', pyTorchPushAffineMat3x4)\n",
    "print(f'pyTorchPushAffineMat3x4 {pyTorchPushAffineMat3x4}')\n",
    "pyTorchPullAffineMat3x4 = getPyTorchAffineMatTensor(pullAffine_np,  toy_depth, toy_height, toy_width, toy_depth, toy_height, toy_width, device)\n",
    "printTensor('pyTorchPullAffineMat3x4', pyTorchPullAffineMat3x4)\n",
    "print(f'pyTorchPullAffineMat3x4 {pyTorchPullAffineMat3x4}')"
   ]
  },
  {
   "cell_type": "markdown",
   "metadata": {},
   "source": [
    "Create VIU DVF push grid and pull grid from push and pull affine Mat."
   ]
  },
  {
   "cell_type": "code",
   "execution_count": 18,
   "metadata": {},
   "outputs": [
    {
     "name": "stdout",
     "output_type": "stream",
     "text": [
      "pyTorchPushAffineMat3x4 shape: torch.Size([3, 4]) device: cuda:0 dtype: torch.float32\n",
      "pyTorchPullAffineMat3x4 shape: torch.Size([3, 4]) device: cuda:0 dtype: torch.float32\n",
      "viuDVFGridSizeParam shape: (batch, channel, D, H, W, nbDim=3): (1, 1, 452, 512, 409, 3)\n",
      "viu_grid_push shape: torch.Size([1, 452, 512, 409, 3]) device: cuda:0 dtype: torch.float32\n",
      "viu_grid_pull shape: torch.Size([1, 452, 512, 409, 3]) device: cuda:0 dtype: torch.float32\n"
     ]
    }
   ],
   "source": [
    "# from viu.torch.deformation.fields import DVF\n",
    "printTensor('pyTorchPushAffineMat3x4', pyTorchPushAffineMat3x4)\n",
    "printTensor('pyTorchPullAffineMat3x4', pyTorchPullAffineMat3x4)\n",
    "nb_dim = pyTorchPullAffineMat3x4.shape[-1]-1\n",
    "viuDVFGridSizeParam=(batchSize, 1, toy_depth, toy_height, toy_width, nb_dim)\n",
    "print(f'viuDVFGridSizeParam shape: (batch, channel, D, H, W, nbDim=3): {viuDVFGridSizeParam}')\n",
    "\n",
    "#While calling DVF.affine, in the affine matrix, the last row (0,0,1) for 2D or (0,0,0,1) for is removed. However no batch is added.\n",
    "#Also  while passing the size, the  DVF  dimension  (2 or 3) is being passed  as the last elemet of the size  tuple.\n",
    "#Further  line #393 of field.py  is to be modified.\n",
    "#Another important difference  is that  the DVF returned by DVF.affine  includes a subtraction of the identity map\n",
    "viu_grid_push = DVF.affine(pyTorchPushAffineMat3x4, size=viuDVFGridSizeParam)\n",
    "printTensor('viu_grid_push', viu_grid_push)\n",
    "viu_grid_pull = DVF.affine(pyTorchPullAffineMat3x4, size=viuDVFGridSizeParam)\n",
    "printTensor('viu_grid_pull', viu_grid_pull)"
   ]
  },
  {
   "cell_type": "markdown",
   "metadata": {},
   "source": [
    "Create Torch functional pull grid from pull affine Mat, apply warp and display. Note torch functional has only pull-warp."
   ]
  },
  {
   "cell_type": "code",
   "execution_count": 19,
   "metadata": {},
   "outputs": [
    {
     "name": "stdout",
     "output_type": "stream",
     "text": [
      "pyTorchPullAffineMat3x4_batchAdded shape: torch.Size([1, 3, 4]) device: cuda:0 dtype: torch.float32\n",
      "grid_size_F torch.Size([1, 1, 452, 512, 409])\n",
      "grid_F type <class 'torch.Tensor'> shape torch.Size([1, 452, 512, 409, 3]) dtype torch.float32\n",
      "aVol_warp_functional_pullUsingMat_tensor shape: torch.Size([1, 1, 452, 512, 409]) device: cuda:0 dtype: torch.float32\n",
      "aVol_warp_functional_pullUsingMat_np shape (452, 512, 409) dtype float32\n"
     ]
    },
    {
     "data": {
      "application/vnd.jupyter.widget-view+json": {
       "model_id": "14111a7e9ac74308909adadc9e1e9dba",
       "version_major": 2,
       "version_minor": 0
      },
      "text/plain": [
       "interactive(children=(Output(),), _dom_classes=('widget-interact',))"
      ]
     },
     "metadata": {},
     "output_type": "display_data"
    }
   ],
   "source": [
    "if runTestCode_sec2:\n",
    "    #Torch functional affine grid generation requires affine matrix with batch dimension\n",
    "    pyTorchPullAffineMat3x4_batchAdded = pyTorchPullAffineMat3x4.expand(batchSize, *pyTorchPullAffineMat3x4.shape)\n",
    "    printTensor('pyTorchPullAffineMat3x4_batchAdded', pyTorchPullAffineMat3x4_batchAdded)\n",
    "    # print(f'pyTorchThetaForAffineGrid_lastRowRemoved_batchAdded type {type(pyTorchThetaForAffineGrid_lastRowRemoved_batchAdded)} shape {pyTorchThetaForAffineGrid_lastRowRemoved_batchAdded.shape}')\n",
    "    # print(f'pyTorchThetaForAffineGrid_lastRowRemoved_batchAdded  {pyTorchThetaForAffineGrid_lastRowRemoved_batchAdded}')\n",
    "    grid_size_F = torch.Size([batchSize, 1, toy_depth, toy_height, toy_width]) #batch, channel, depth, height, width\n",
    "    print(f'grid_size_F {grid_size_F}')\n",
    "    grid_F = F.affine_grid(\n",
    "        theta=pyTorchPullAffineMat3x4_batchAdded,\n",
    "        size=grid_size_F,\n",
    "        align_corners=align_corners)\n",
    "    print(f'grid_F type {type(grid_F)} shape {grid_F.shape} dtype {grid_F.dtype}')\n",
    "    aVol_warp_functional_pullUsingMat_tensor = F.grid_sample(\n",
    "        input=vol_tensor,\n",
    "        grid=grid_F,\n",
    "        mode='bilinear',\n",
    "        padding_mode='zeros',\n",
    "        align_corners=align_corners)\n",
    "    printTensor(\"aVol_warp_functional_pullUsingMat_tensor\", aVol_warp_functional_pullUsingMat_tensor)\n",
    "    aVol_warp_functional_pullUsingMat_np = aVol_warp_functional_pullUsingMat_tensor.clone().squeeze().squeeze().cpu().numpy()\n",
    "    print(f\"aVol_warp_functional_pullUsingMat_np shape {aVol_warp_functional_pullUsingMat_np.shape} dtype {aVol_warp_functional_pullUsingMat_np.dtype}\")\n",
    "    v1_volumeComparisonViewer3D(\n",
    "        listVolumes=[aVol_warp_functional_pullUsingMat_np],listLabels=[f'Fuctional_PullWarpUsingMat_Rot:  {rot_dir} rotation by {abs(theta_deg)} degrees around {viewString} axis'],\n",
    "        maxZ0=aVol_warp_functional_pullUsingMat_np.shape[0], maxZ1=aVol_warp_functional_pullUsingMat_np.shape[1], maxZ2=aVol_warp_functional_pullUsingMat_np.shape[2],\n",
    "        figsize=(12,8), cmap='gray',\n",
    "        displayColorbar=False, useExternalWindowCenter=True, wMin=-500, wMax=500)"
   ]
  },
  {
   "cell_type": "markdown",
   "metadata": {},
   "source": [
    "Apply VIU DVF pull warp  without prefilter using pull grid and display. Internally torch  functional pull-warp will be used."
   ]
  },
  {
   "cell_type": "code",
   "execution_count": 20,
   "metadata": {},
   "outputs": [
    {
     "name": "stdout",
     "output_type": "stream",
     "text": [
      "viu_grid_pull shape: torch.Size([1, 452, 512, 409, 3]) device: cuda:0 dtype: torch.float32\n",
      "vol_tensor shape: torch.Size([1, 1, 452, 512, 409]) device: cuda:0 dtype: torch.float32\n",
      "aVol_viu_grid_pull_warped shape: torch.Size([1, 1, 452, 512, 409]) device: cuda:0 dtype: torch.float32\n"
     ]
    },
    {
     "data": {
      "application/vnd.jupyter.widget-view+json": {
       "model_id": "be780009cb30408e8f24d7cdc6c3b433",
       "version_major": 2,
       "version_minor": 0
      },
      "text/plain": [
       "interactive(children=(Output(),), _dom_classes=('widget-interact',))"
      ]
     },
     "metadata": {},
     "output_type": "display_data"
    }
   ],
   "source": [
    "if runTestCode_sec2:\n",
    "    printTensor('viu_grid_pull', viu_grid_pull)\n",
    "    printTensor('vol_tensor', vol_tensor)\n",
    "    #sample(self, input, mode=\"bilinear\", padding_mode=\"zeros\", warpingModeString=\"pull\",prefilter=False)\n",
    "    aVol_viu_grid_pull_warped = viu_grid_pull.sample(\n",
    "        input=vol_tensor,\n",
    "        mode='bilinear',\n",
    "        padding_mode='zeros',\n",
    "        warpingModeString=\"pull\",\n",
    "        prefilter=False)\n",
    "    printTensor('aVol_viu_grid_pull_warped', aVol_viu_grid_pull_warped)\n",
    "    aVol_viu_grid_pull_warped_np = aVol_viu_grid_pull_warped.squeeze().squeeze().clone().cpu().numpy()\n",
    "    v1_volumeComparisonViewer3D(\n",
    "        listVolumes=[aVol_viu_grid_pull_warped_np],listLabels=[f'VIUDVF_PullWarp_Rot:  {rot_dir} rotation by {abs(theta_deg)} degrees around {viewString} axis'],\n",
    "        maxZ0=aVol_viu_grid_pull_warped_np.shape[0], maxZ1=aVol_viu_grid_pull_warped_np.shape[1], maxZ2=aVol_viu_grid_pull_warped_np.shape[2],\n",
    "        figsize=(12,8), cmap='gray',\n",
    "        displayColorbar=False, useExternalWindowCenter=True, wMin=-500, wMax=500)"
   ]
  },
  {
   "cell_type": "markdown",
   "metadata": {},
   "source": [
    "Apply VIU DVF  pull warp WITH prefilter using pull grid and display. Internally torch-interpol pull-warp will be used as prefilter=True."
   ]
  },
  {
   "cell_type": "code",
   "execution_count": 21,
   "metadata": {},
   "outputs": [
    {
     "name": "stdout",
     "output_type": "stream",
     "text": [
      "viu_grid_pull shape: torch.Size([1, 452, 512, 409, 3]) device: cuda:0 dtype: torch.float32\n",
      "vol_tensor shape: torch.Size([1, 1, 452, 512, 409]) device: cuda:0 dtype: torch.float32\n",
      "aVol_viu_grid_pull_prefilter_warped shape: torch.Size([1, 1, 452, 512, 409]) device: cuda:0 dtype: torch.float32\n"
     ]
    },
    {
     "data": {
      "application/vnd.jupyter.widget-view+json": {
       "model_id": "f5d1395b118845aa9fb50a68525227fd",
       "version_major": 2,
       "version_minor": 0
      },
      "text/plain": [
       "interactive(children=(Output(),), _dom_classes=('widget-interact',))"
      ]
     },
     "metadata": {},
     "output_type": "display_data"
    }
   ],
   "source": [
    "if runTestCode_sec2:\n",
    "    printTensor('viu_grid_pull', viu_grid_pull)\n",
    "    printTensor('vol_tensor', vol_tensor)\n",
    "    #sample(self, input, mode=\"bilinear\", padding_mode=\"zeros\", warpingModeString=\"pull\",prefilter=False)\n",
    "    aVol_viu_grid_pull_prefilter_warped = viu_grid_pull.sample(\n",
    "        input=vol_tensor,\n",
    "        mode='cubic',\n",
    "        padding_mode='zeros',\n",
    "        warpingModeString=\"pull\",\n",
    "        prefilter=True)\n",
    "    printTensor('aVol_viu_grid_pull_prefilter_warped', aVol_viu_grid_pull_prefilter_warped)\n",
    "    aVol_viu_grid_pull_prefilter_warped_np = aVol_viu_grid_pull_prefilter_warped.squeeze().squeeze().clone().cpu().numpy()\n",
    "    v1_volumeComparisonViewer3D(\n",
    "        listVolumes=[aVol_viu_grid_pull_prefilter_warped_np],listLabels=[f'VIUDVF_pull_prefilterWarp_Rot:  {rot_dir} rotation by {abs(theta_deg)} degrees around {viewString} axis'],\n",
    "        maxZ0=aVol_viu_grid_pull_prefilter_warped_np.shape[0], maxZ1=aVol_viu_grid_pull_prefilter_warped_np.shape[1], maxZ2=aVol_viu_grid_pull_prefilter_warped_np.shape[2],\n",
    "        figsize=(12,8), cmap='gray',\n",
    "        displayColorbar=False, useExternalWindowCenter=True, wMin=-500, wMax=500)"
   ]
  },
  {
   "cell_type": "markdown",
   "metadata": {},
   "source": [
    "Apply VIU DVF  push warp WITH prefilter using push grid and display. Internally torch-interpol pull-warp will be used as (push-warp= | prefilter=True)."
   ]
  },
  {
   "cell_type": "code",
   "execution_count": 22,
   "metadata": {},
   "outputs": [
    {
     "name": "stdout",
     "output_type": "stream",
     "text": [
      "viu_grid_push shape: torch.Size([1, 452, 512, 409, 3]) device: cuda:0 dtype: torch.float32\n",
      "vol_tensor shape: torch.Size([1, 1, 452, 512, 409]) device: cuda:0 dtype: torch.float32\n",
      "aVol_viu_grid_push_prefilter_warped shape: torch.Size([1, 1, 452, 512, 409]) device: cuda:0 dtype: torch.float32\n"
     ]
    },
    {
     "data": {
      "application/vnd.jupyter.widget-view+json": {
       "model_id": "46e2dd201ff24dd394772c755d49f0e0",
       "version_major": 2,
       "version_minor": 0
      },
      "text/plain": [
       "interactive(children=(Output(),), _dom_classes=('widget-interact',))"
      ]
     },
     "metadata": {},
     "output_type": "display_data"
    }
   ],
   "source": [
    "if runTestCode_sec2:\n",
    "    printTensor('viu_grid_push', viu_grid_push)\n",
    "    printTensor('vol_tensor', vol_tensor)\n",
    "    #sample(self, input, mode=\"bilinear\", padding_mode=\"zeros\", warpingModeString=\"pull\",prefilter=False)\n",
    "    aVol_viu_grid_push_prefilter_warped = viu_grid_push.sample(\n",
    "        input=vol_tensor,\n",
    "        mode='cubic',\n",
    "        padding_mode='zeros',\n",
    "        warpingModeString=\"push\",\n",
    "        prefilter=True)\n",
    "    printTensor('aVol_viu_grid_push_prefilter_warped', aVol_viu_grid_push_prefilter_warped)\n",
    "    aVol_viu_grid_push_prefilter_warped_np = aVol_viu_grid_push_prefilter_warped.squeeze().squeeze().clone().cpu().numpy()\n",
    "    v1_volumeComparisonViewer3D(\n",
    "        listVolumes=[aVol_viu_grid_push_prefilter_warped_np],listLabels=[f'VIUDVF_push_prefilterWarp_Rot:  {rot_dir} rotation by {abs(theta_deg)} degrees around {viewString} axis'],\n",
    "        maxZ0=aVol_viu_grid_push_prefilter_warped_np.shape[0], maxZ1=aVol_viu_grid_push_prefilter_warped_np.shape[1], maxZ2=aVol_viu_grid_push_prefilter_warped_np.shape[2],\n",
    "        figsize=(12,8), cmap='gray',\n",
    "        displayColorbar=False, useExternalWindowCenter=True, wMin=-500, wMax=500)"
   ]
  },
  {
   "cell_type": "markdown",
   "metadata": {},
   "source": [
    "#### Timing consideration\n",
    "\n",
    "Execute each of interpol grid pull and  functional grid pull N times and compare time taken"
   ]
  },
  {
   "cell_type": "code",
   "execution_count": 23,
   "metadata": {},
   "outputs": [],
   "source": [
    "numRepeat = 10\n",
    "import time"
   ]
  },
  {
   "cell_type": "code",
   "execution_count": 24,
   "metadata": {},
   "outputs": [
    {
     "name": "stdout",
     "output_type": "stream",
     "text": [
      "Volume shape (452, 512, 409), numRepeat 10 : VIU DVF Pull + bilinear + no-PreFilter => (Internally F.grid_sample) =>: 0.02 seconds\n"
     ]
    }
   ],
   "source": [
    "if runTestCode_sec3:\n",
    "    start = time.time()\n",
    "    for count in range(numRepeat):\n",
    "        aVol_viu_grid_pull_warped = viu_grid_pull.sample(\n",
    "            input=vol_tensor,\n",
    "            mode='bilinear',\n",
    "            padding_mode='zeros',\n",
    "            warpingModeString=\"pull\",\n",
    "            prefilter=False)\n",
    "    end = time.time()\n",
    "    print(f'Volume shape {vol.shape}, numRepeat {numRepeat} : VIU DVF Pull + bilinear + no-PreFilter => (Internally F.grid_sample) =>: {(end - start):.2f} seconds')"
   ]
  },
  {
   "cell_type": "code",
   "execution_count": 25,
   "metadata": {},
   "outputs": [
    {
     "name": "stdout",
     "output_type": "stream",
     "text": [
      "Volume shape (452, 512, 409), numRepeat 10 : VIU DVF Pull + cubic + PreFilter => (Internally preFilter + interpol.grid_pull) =>: 18.51 seconds\n"
     ]
    }
   ],
   "source": [
    "if runTestCode_sec3:\n",
    "    start = time.time()\n",
    "    for count in range(numRepeat):\n",
    "        Vol_viu_grid_pull_prefilter_warped = viu_grid_pull.sample(\n",
    "            input=vol_tensor,\n",
    "            mode='cubic',\n",
    "            padding_mode='zeros',\n",
    "            warpingModeString=\"pull\",\n",
    "            prefilter=True)\n",
    "    end = time.time()\n",
    "    print(f'Volume shape {vol.shape}, numRepeat {numRepeat} : VIU DVF Pull + cubic + PreFilter => (Internally preFilter + interpol.grid_pull) =>: {(end - start):.2f} seconds')"
   ]
  },
  {
   "cell_type": "code",
   "execution_count": 26,
   "metadata": {},
   "outputs": [
    {
     "name": "stdout",
     "output_type": "stream",
     "text": [
      "Volume shape (452, 512, 409), numRepeat 10 : VIU DVF Push + cubic + PreFilter => (Internally preFilter + interpol.grid_push) =>: 24.17 seconds\n"
     ]
    }
   ],
   "source": [
    "if runTestCode_sec3:\n",
    "    start = time.time()\n",
    "    for count in range(numRepeat):\n",
    "        aVol_viu_grid_push_prefilter_warped = viu_grid_push.sample(\n",
    "            input=vol_tensor,\n",
    "            mode='cubic',\n",
    "            padding_mode='zeros',\n",
    "            warpingModeString=\"push\",\n",
    "            prefilter=True)\n",
    "    end = time.time()\n",
    "    print(f'Volume shape {vol.shape}, numRepeat {numRepeat} : VIU DVF Push + cubic + PreFilter => (Internally preFilter + interpol.grid_push) =>: {(end - start):.2f} seconds')"
   ]
  }
 ],
 "metadata": {
  "kernelspec": {
   "display_name": "testSplinePF",
   "language": "python",
   "name": "python3"
  },
  "language_info": {
   "codemirror_mode": {
    "name": "ipython",
    "version": 3
   },
   "file_extension": ".py",
   "mimetype": "text/x-python",
   "name": "python",
   "nbconvert_exporter": "python",
   "pygments_lexer": "ipython3",
   "version": "3.12.0"
  }
 },
 "nbformat": 4,
 "nbformat_minor": 2
}
